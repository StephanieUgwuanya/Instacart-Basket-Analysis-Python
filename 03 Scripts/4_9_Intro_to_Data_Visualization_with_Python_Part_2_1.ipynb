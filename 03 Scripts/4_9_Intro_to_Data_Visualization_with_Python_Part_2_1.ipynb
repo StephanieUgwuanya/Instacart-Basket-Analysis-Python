{
  "cells": [
    {
      "cell_type": "markdown",
      "metadata": {},
      "source": [
        "# 4_9_Intro_to_Data_Visualization_with_Python_Part_2_1\n",
        "\n",
        "### This script contains the following points:\n",
        "\n",
        "### 1. Importing Libraries\n",
        "\n",
        "### 2. Import Database\n",
        "\n",
        "### 3. Creating Bar Charts\n",
        "\n",
        "### 4. Save Bar Chart to Memory\n",
        "\n",
        "### 5. Export Bar Chart\n",
        "\n",
        "### 6. Creating Histograms and Scatterplots\n"
      ]
    },
    {
      "cell_type": "markdown",
      "metadata": {
        "id": "zM6G7qWN7Kt4"
      },
      "source": [
        "# 1. Importing Libraries"
      ]
    },
    {
      "cell_type": "code",
      "execution_count": 1,
      "metadata": {
        "id": "w7fURW4T7SJB"
      },
      "outputs": [],
      "source": [
        "import pandas as pd\n",
        "import numpy as np\n",
        "import os\n",
        "import matplotlib.pyplot as plt\n",
        "import seaborn as sns\n",
        "import scipy"
      ]
    },
    {
      "cell_type": "markdown",
      "metadata": {
        "id": "E-9TdqylCONb"
      },
      "source": [
        "# 2. Import Database"
      ]
    },
    {
      "cell_type": "code",
      "execution_count": 2,
      "metadata": {
        "id": "48W0OsdyCM0s"
      },
      "outputs": [],
      "source": [
        "path = r'/content/drive/MyDrive/Careerfoundary'"
      ]
    },
    {
      "cell_type": "code",
      "execution_count": 3,
      "metadata": {
        "id": "kgrGHJ9QCM24"
      },
      "outputs": [],
      "source": [
        "df_ords_prods_merge = pd.read_pickle(os.path.join(path, '02 Data', 'Prepared Data','orders_product_customer_merge_sample.pkl'))"
      ]
    },
    {
      "cell_type": "code",
      "execution_count": 4,
      "metadata": {
        "colab": {
          "base_uri": "https://localhost:8080/"
        },
        "id": "HQaP97F2CM6Z",
        "outputId": "267a3058-a090-428e-ce84-b0995338010a"
      },
      "outputs": [
        {
          "data": {
            "text/plain": [
              "(2771091, 34)"
            ]
          },
          "execution_count": 4,
          "metadata": {},
          "output_type": "execute_result"
        }
      ],
      "source": [
        "df_ords_prods_merge.shape"
      ]
    },
    {
      "cell_type": "code",
      "execution_count": 5,
      "metadata": {
        "colab": {
          "base_uri": "https://localhost:8080/",
          "height": 342
        },
        "id": "AUs4ZNyO4CHT",
        "outputId": "240734d7-ce56-45c5-ece7-aad2eccc42b4"
      },
      "outputs": [
        {
          "data": {
            "application/vnd.google.colaboratory.intrinsic+json": {
              "type": "dataframe",
              "variable_name": "df_ords_prods_merge"
            },
            "text/html": [
              "\n",
              "  <div id=\"df-c075403f-3f7c-4a63-9290-dfe0d9b5dafd\" class=\"colab-df-container\">\n",
              "    <div>\n",
              "<style scoped>\n",
              "    .dataframe tbody tr th:only-of-type {\n",
              "        vertical-align: middle;\n",
              "    }\n",
              "\n",
              "    .dataframe tbody tr th {\n",
              "        vertical-align: top;\n",
              "    }\n",
              "\n",
              "    .dataframe thead th {\n",
              "        text-align: right;\n",
              "    }\n",
              "</style>\n",
              "<table border=\"1\" class=\"dataframe\">\n",
              "  <thead>\n",
              "    <tr style=\"text-align: right;\">\n",
              "      <th></th>\n",
              "      <th>user_id</th>\n",
              "      <th>first_name</th>\n",
              "      <th>surname</th>\n",
              "      <th>gender</th>\n",
              "      <th>state</th>\n",
              "      <th>age</th>\n",
              "      <th>date_joined</th>\n",
              "      <th>n_dependants</th>\n",
              "      <th>marital_status</th>\n",
              "      <th>income</th>\n",
              "      <th>...</th>\n",
              "      <th>busiest_day</th>\n",
              "      <th>Busiest_Days(plural)</th>\n",
              "      <th>busiest_period_of_day</th>\n",
              "      <th>max_order</th>\n",
              "      <th>loyalty_flag</th>\n",
              "      <th>mean_price</th>\n",
              "      <th>spending_flag</th>\n",
              "      <th>customer_frequency</th>\n",
              "      <th>frequency_flag</th>\n",
              "      <th>_merge</th>\n",
              "    </tr>\n",
              "  </thead>\n",
              "  <tbody>\n",
              "    <tr>\n",
              "      <th>0</th>\n",
              "      <td>90</td>\n",
              "      <td>Kimberly</td>\n",
              "      <td>Kent</td>\n",
              "      <td>Female</td>\n",
              "      <td>Pennsylvania</td>\n",
              "      <td>60</td>\n",
              "      <td>3/25/2017</td>\n",
              "      <td>1</td>\n",
              "      <td>married</td>\n",
              "      <td>50952</td>\n",
              "      <td>...</td>\n",
              "      <td>Busiest day</td>\n",
              "      <td>Busiest days</td>\n",
              "      <td>Most orders</td>\n",
              "      <td>42</td>\n",
              "      <td>Loyal customer</td>\n",
              "      <td>8.075028</td>\n",
              "      <td>Low Spender</td>\n",
              "      <td>8.0</td>\n",
              "      <td>Frequent customer</td>\n",
              "      <td>both</td>\n",
              "    </tr>\n",
              "    <tr>\n",
              "      <th>1</th>\n",
              "      <td>90</td>\n",
              "      <td>Kimberly</td>\n",
              "      <td>Kent</td>\n",
              "      <td>Female</td>\n",
              "      <td>Pennsylvania</td>\n",
              "      <td>60</td>\n",
              "      <td>3/25/2017</td>\n",
              "      <td>1</td>\n",
              "      <td>married</td>\n",
              "      <td>50952</td>\n",
              "      <td>...</td>\n",
              "      <td>Regularly busy</td>\n",
              "      <td>Regular busy</td>\n",
              "      <td>Most orders</td>\n",
              "      <td>12</td>\n",
              "      <td>Regular customer</td>\n",
              "      <td>7.716068</td>\n",
              "      <td>Low Spender</td>\n",
              "      <td>11.0</td>\n",
              "      <td>Regular customer</td>\n",
              "      <td>both</td>\n",
              "    </tr>\n",
              "    <tr>\n",
              "      <th>2</th>\n",
              "      <td>90</td>\n",
              "      <td>Kimberly</td>\n",
              "      <td>Kent</td>\n",
              "      <td>Female</td>\n",
              "      <td>Pennsylvania</td>\n",
              "      <td>60</td>\n",
              "      <td>3/25/2017</td>\n",
              "      <td>1</td>\n",
              "      <td>married</td>\n",
              "      <td>50952</td>\n",
              "      <td>...</td>\n",
              "      <td>Regularly busy</td>\n",
              "      <td>Regular busy</td>\n",
              "      <td>Most orders</td>\n",
              "      <td>84</td>\n",
              "      <td>Loyal customer</td>\n",
              "      <td>7.991170</td>\n",
              "      <td>Low Spender</td>\n",
              "      <td>4.0</td>\n",
              "      <td>Frequent customer</td>\n",
              "      <td>both</td>\n",
              "    </tr>\n",
              "    <tr>\n",
              "      <th>3</th>\n",
              "      <td>90</td>\n",
              "      <td>Kimberly</td>\n",
              "      <td>Kent</td>\n",
              "      <td>Female</td>\n",
              "      <td>Pennsylvania</td>\n",
              "      <td>60</td>\n",
              "      <td>3/25/2017</td>\n",
              "      <td>1</td>\n",
              "      <td>married</td>\n",
              "      <td>50952</td>\n",
              "      <td>...</td>\n",
              "      <td>Regularly busy</td>\n",
              "      <td>Slowest days</td>\n",
              "      <td>Most orders</td>\n",
              "      <td>44</td>\n",
              "      <td>Loyal customer</td>\n",
              "      <td>8.079674</td>\n",
              "      <td>Low Spender</td>\n",
              "      <td>7.0</td>\n",
              "      <td>Frequent customer</td>\n",
              "      <td>both</td>\n",
              "    </tr>\n",
              "    <tr>\n",
              "      <th>4</th>\n",
              "      <td>90</td>\n",
              "      <td>Kimberly</td>\n",
              "      <td>Kent</td>\n",
              "      <td>Female</td>\n",
              "      <td>Pennsylvania</td>\n",
              "      <td>60</td>\n",
              "      <td>3/25/2017</td>\n",
              "      <td>1</td>\n",
              "      <td>married</td>\n",
              "      <td>50952</td>\n",
              "      <td>...</td>\n",
              "      <td>Regularly busy</td>\n",
              "      <td>Busiest days</td>\n",
              "      <td>Most orders</td>\n",
              "      <td>5</td>\n",
              "      <td>New customer</td>\n",
              "      <td>6.124142</td>\n",
              "      <td>Low Spender</td>\n",
              "      <td>20.0</td>\n",
              "      <td>Regular customer</td>\n",
              "      <td>both</td>\n",
              "    </tr>\n",
              "  </tbody>\n",
              "</table>\n",
              "<p>5 rows × 34 columns</p>\n",
              "</div>\n",
              "    <div class=\"colab-df-buttons\">\n",
              "\n",
              "  <div class=\"colab-df-container\">\n",
              "    <button class=\"colab-df-convert\" onclick=\"convertToInteractive('df-c075403f-3f7c-4a63-9290-dfe0d9b5dafd')\"\n",
              "            title=\"Convert this dataframe to an interactive table.\"\n",
              "            style=\"display:none;\">\n",
              "\n",
              "  <svg xmlns=\"http://www.w3.org/2000/svg\" height=\"24px\" viewBox=\"0 -960 960 960\">\n",
              "    <path d=\"M120-120v-720h720v720H120Zm60-500h600v-160H180v160Zm220 220h160v-160H400v160Zm0 220h160v-160H400v160ZM180-400h160v-160H180v160Zm440 0h160v-160H620v160ZM180-180h160v-160H180v160Zm440 0h160v-160H620v160Z\"/>\n",
              "  </svg>\n",
              "    </button>\n",
              "\n",
              "  <style>\n",
              "    .colab-df-container {\n",
              "      display:flex;\n",
              "      gap: 12px;\n",
              "    }\n",
              "\n",
              "    .colab-df-convert {\n",
              "      background-color: #E8F0FE;\n",
              "      border: none;\n",
              "      border-radius: 50%;\n",
              "      cursor: pointer;\n",
              "      display: none;\n",
              "      fill: #1967D2;\n",
              "      height: 32px;\n",
              "      padding: 0 0 0 0;\n",
              "      width: 32px;\n",
              "    }\n",
              "\n",
              "    .colab-df-convert:hover {\n",
              "      background-color: #E2EBFA;\n",
              "      box-shadow: 0px 1px 2px rgba(60, 64, 67, 0.3), 0px 1px 3px 1px rgba(60, 64, 67, 0.15);\n",
              "      fill: #174EA6;\n",
              "    }\n",
              "\n",
              "    .colab-df-buttons div {\n",
              "      margin-bottom: 4px;\n",
              "    }\n",
              "\n",
              "    [theme=dark] .colab-df-convert {\n",
              "      background-color: #3B4455;\n",
              "      fill: #D2E3FC;\n",
              "    }\n",
              "\n",
              "    [theme=dark] .colab-df-convert:hover {\n",
              "      background-color: #434B5C;\n",
              "      box-shadow: 0px 1px 3px 1px rgba(0, 0, 0, 0.15);\n",
              "      filter: drop-shadow(0px 1px 2px rgba(0, 0, 0, 0.3));\n",
              "      fill: #FFFFFF;\n",
              "    }\n",
              "  </style>\n",
              "\n",
              "    <script>\n",
              "      const buttonEl =\n",
              "        document.querySelector('#df-c075403f-3f7c-4a63-9290-dfe0d9b5dafd button.colab-df-convert');\n",
              "      buttonEl.style.display =\n",
              "        google.colab.kernel.accessAllowed ? 'block' : 'none';\n",
              "\n",
              "      async function convertToInteractive(key) {\n",
              "        const element = document.querySelector('#df-c075403f-3f7c-4a63-9290-dfe0d9b5dafd');\n",
              "        const dataTable =\n",
              "          await google.colab.kernel.invokeFunction('convertToInteractive',\n",
              "                                                    [key], {});\n",
              "        if (!dataTable) return;\n",
              "\n",
              "        const docLinkHtml = 'Like what you see? Visit the ' +\n",
              "          '<a target=\"_blank\" href=https://colab.research.google.com/notebooks/data_table.ipynb>data table notebook</a>'\n",
              "          + ' to learn more about interactive tables.';\n",
              "        element.innerHTML = '';\n",
              "        dataTable['output_type'] = 'display_data';\n",
              "        await google.colab.output.renderOutput(dataTable, element);\n",
              "        const docLink = document.createElement('div');\n",
              "        docLink.innerHTML = docLinkHtml;\n",
              "        element.appendChild(docLink);\n",
              "      }\n",
              "    </script>\n",
              "  </div>\n",
              "\n",
              "\n",
              "<div id=\"df-80391414-d583-4ecd-bf8b-7700124dcc28\">\n",
              "  <button class=\"colab-df-quickchart\" onclick=\"quickchart('df-80391414-d583-4ecd-bf8b-7700124dcc28')\"\n",
              "            title=\"Suggest charts\"\n",
              "            style=\"display:none;\">\n",
              "\n",
              "<svg xmlns=\"http://www.w3.org/2000/svg\" height=\"24px\"viewBox=\"0 0 24 24\"\n",
              "     width=\"24px\">\n",
              "    <g>\n",
              "        <path d=\"M19 3H5c-1.1 0-2 .9-2 2v14c0 1.1.9 2 2 2h14c1.1 0 2-.9 2-2V5c0-1.1-.9-2-2-2zM9 17H7v-7h2v7zm4 0h-2V7h2v10zm4 0h-2v-4h2v4z\"/>\n",
              "    </g>\n",
              "</svg>\n",
              "  </button>\n",
              "\n",
              "<style>\n",
              "  .colab-df-quickchart {\n",
              "      --bg-color: #E8F0FE;\n",
              "      --fill-color: #1967D2;\n",
              "      --hover-bg-color: #E2EBFA;\n",
              "      --hover-fill-color: #174EA6;\n",
              "      --disabled-fill-color: #AAA;\n",
              "      --disabled-bg-color: #DDD;\n",
              "  }\n",
              "\n",
              "  [theme=dark] .colab-df-quickchart {\n",
              "      --bg-color: #3B4455;\n",
              "      --fill-color: #D2E3FC;\n",
              "      --hover-bg-color: #434B5C;\n",
              "      --hover-fill-color: #FFFFFF;\n",
              "      --disabled-bg-color: #3B4455;\n",
              "      --disabled-fill-color: #666;\n",
              "  }\n",
              "\n",
              "  .colab-df-quickchart {\n",
              "    background-color: var(--bg-color);\n",
              "    border: none;\n",
              "    border-radius: 50%;\n",
              "    cursor: pointer;\n",
              "    display: none;\n",
              "    fill: var(--fill-color);\n",
              "    height: 32px;\n",
              "    padding: 0;\n",
              "    width: 32px;\n",
              "  }\n",
              "\n",
              "  .colab-df-quickchart:hover {\n",
              "    background-color: var(--hover-bg-color);\n",
              "    box-shadow: 0 1px 2px rgba(60, 64, 67, 0.3), 0 1px 3px 1px rgba(60, 64, 67, 0.15);\n",
              "    fill: var(--button-hover-fill-color);\n",
              "  }\n",
              "\n",
              "  .colab-df-quickchart-complete:disabled,\n",
              "  .colab-df-quickchart-complete:disabled:hover {\n",
              "    background-color: var(--disabled-bg-color);\n",
              "    fill: var(--disabled-fill-color);\n",
              "    box-shadow: none;\n",
              "  }\n",
              "\n",
              "  .colab-df-spinner {\n",
              "    border: 2px solid var(--fill-color);\n",
              "    border-color: transparent;\n",
              "    border-bottom-color: var(--fill-color);\n",
              "    animation:\n",
              "      spin 1s steps(1) infinite;\n",
              "  }\n",
              "\n",
              "  @keyframes spin {\n",
              "    0% {\n",
              "      border-color: transparent;\n",
              "      border-bottom-color: var(--fill-color);\n",
              "      border-left-color: var(--fill-color);\n",
              "    }\n",
              "    20% {\n",
              "      border-color: transparent;\n",
              "      border-left-color: var(--fill-color);\n",
              "      border-top-color: var(--fill-color);\n",
              "    }\n",
              "    30% {\n",
              "      border-color: transparent;\n",
              "      border-left-color: var(--fill-color);\n",
              "      border-top-color: var(--fill-color);\n",
              "      border-right-color: var(--fill-color);\n",
              "    }\n",
              "    40% {\n",
              "      border-color: transparent;\n",
              "      border-right-color: var(--fill-color);\n",
              "      border-top-color: var(--fill-color);\n",
              "    }\n",
              "    60% {\n",
              "      border-color: transparent;\n",
              "      border-right-color: var(--fill-color);\n",
              "    }\n",
              "    80% {\n",
              "      border-color: transparent;\n",
              "      border-right-color: var(--fill-color);\n",
              "      border-bottom-color: var(--fill-color);\n",
              "    }\n",
              "    90% {\n",
              "      border-color: transparent;\n",
              "      border-bottom-color: var(--fill-color);\n",
              "    }\n",
              "  }\n",
              "</style>\n",
              "\n",
              "  <script>\n",
              "    async function quickchart(key) {\n",
              "      const quickchartButtonEl =\n",
              "        document.querySelector('#' + key + ' button');\n",
              "      quickchartButtonEl.disabled = true;  // To prevent multiple clicks.\n",
              "      quickchartButtonEl.classList.add('colab-df-spinner');\n",
              "      try {\n",
              "        const charts = await google.colab.kernel.invokeFunction(\n",
              "            'suggestCharts', [key], {});\n",
              "      } catch (error) {\n",
              "        console.error('Error during call to suggestCharts:', error);\n",
              "      }\n",
              "      quickchartButtonEl.classList.remove('colab-df-spinner');\n",
              "      quickchartButtonEl.classList.add('colab-df-quickchart-complete');\n",
              "    }\n",
              "    (() => {\n",
              "      let quickchartButtonEl =\n",
              "        document.querySelector('#df-80391414-d583-4ecd-bf8b-7700124dcc28 button');\n",
              "      quickchartButtonEl.style.display =\n",
              "        google.colab.kernel.accessAllowed ? 'block' : 'none';\n",
              "    })();\n",
              "  </script>\n",
              "</div>\n",
              "    </div>\n",
              "  </div>\n"
            ],
            "text/plain": [
              "   user_id first_name surname  gender         state  age date_joined  \\\n",
              "0       90   Kimberly    Kent  Female  Pennsylvania   60   3/25/2017   \n",
              "1       90   Kimberly    Kent  Female  Pennsylvania   60   3/25/2017   \n",
              "2       90   Kimberly    Kent  Female  Pennsylvania   60   3/25/2017   \n",
              "3       90   Kimberly    Kent  Female  Pennsylvania   60   3/25/2017   \n",
              "4       90   Kimberly    Kent  Female  Pennsylvania   60   3/25/2017   \n",
              "\n",
              "   n_dependants marital_status  income  ...     busiest_day  \\\n",
              "0             1        married   50952  ...     Busiest day   \n",
              "1             1        married   50952  ...  Regularly busy   \n",
              "2             1        married   50952  ...  Regularly busy   \n",
              "3             1        married   50952  ...  Regularly busy   \n",
              "4             1        married   50952  ...  Regularly busy   \n",
              "\n",
              "   Busiest_Days(plural)  busiest_period_of_day  max_order      loyalty_flag  \\\n",
              "0          Busiest days            Most orders         42    Loyal customer   \n",
              "1          Regular busy            Most orders         12  Regular customer   \n",
              "2          Regular busy            Most orders         84    Loyal customer   \n",
              "3          Slowest days            Most orders         44    Loyal customer   \n",
              "4          Busiest days            Most orders          5      New customer   \n",
              "\n",
              "  mean_price  spending_flag  customer_frequency     frequency_flag _merge  \n",
              "0   8.075028    Low Spender                 8.0  Frequent customer   both  \n",
              "1   7.716068    Low Spender                11.0   Regular customer   both  \n",
              "2   7.991170    Low Spender                 4.0  Frequent customer   both  \n",
              "3   8.079674    Low Spender                 7.0  Frequent customer   both  \n",
              "4   6.124142    Low Spender                20.0   Regular customer   both  \n",
              "\n",
              "[5 rows x 34 columns]"
            ]
          },
          "execution_count": 5,
          "metadata": {},
          "output_type": "execute_result"
        }
      ],
      "source": [
        "df_ords_prods_merge.head(5)"
      ]
    },
    {
      "cell_type": "markdown",
      "metadata": {
        "id": "6nauzVT5DZA4"
      },
      "source": [
        "# 3. Creating Bar Charts"
      ]
    },
    {
      "cell_type": "code",
      "execution_count": 6,
      "metadata": {
        "colab": {
          "base_uri": "https://localhost:8080/",
          "height": 461
        },
        "id": "qtBIWUILDclh",
        "outputId": "e20c172d-0490-4272-e2d5-15643da930ac"
      },
      "outputs": [
        {
          "data": {
            "text/plain": [
              "<Axes: xlabel='orders_day_of_week'>"
            ]
          },
          "execution_count": 6,
          "metadata": {},
          "output_type": "execute_result"
        },
        {
          "data": {
            "image/png": "[encoded data removed]",
            "text/plain": [
              "<Figure size 640x480 with 1 Axes>"
            ]
          },
          "metadata": {},
          "output_type": "display_data"
        }
      ],
      "source": [
        "# Bar chart showing orders_day_of_week\n",
        "\n",
        "df_ords_prods_merge['orders_day_of_week'].value_counts().plot.bar()"
      ]
    },
    {
      "cell_type": "code",
      "execution_count": 7,
      "metadata": {
        "colab": {
          "base_uri": "https://localhost:8080/",
          "height": 444
        },
        "id": "f65kYes8Dcve",
        "outputId": "6f9f1bbe-dec3-4e0a-918f-f4cfd25b75a0"
      },
      "outputs": [
        {
          "data": {
            "image/png": "[encoded data removed]",
            "text/plain": [
              "<Figure size 640x480 with 1 Axes>"
            ]
          },
          "metadata": {},
          "output_type": "display_data"
        }
      ],
      "source": [
        "# Sort bar chart by accending orders_day_of_week\n",
        "bar = df_ords_prods_merge['orders_day_of_week'].value_counts().sort_index().plot.bar()"
      ]
    },
    {
      "cell_type": "code",
      "execution_count": 8,
      "metadata": {
        "colab": {
          "base_uri": "https://localhost:8080/"
        },
        "id": "30gA4GKNDc7U",
        "outputId": "f4d04374-1d7b-4fd6-c30d-f2324c69dbc4"
      },
      "outputs": [
        {
          "data": {
            "text/plain": [
              "orders_day_of_week\n",
              "0    526126\n",
              "1    488053\n",
              "2    362455\n",
              "3    331796\n",
              "4    322673\n",
              "5    359025\n",
              "6    380963\n",
              "Name: count, dtype: int64"
            ]
          },
          "execution_count": 8,
          "metadata": {},
          "output_type": "execute_result"
        }
      ],
      "source": [
        "#  You can do the same thing when printing frequencies printing frequencies\n",
        "\n",
        "df_ords_prods_merge['orders_day_of_week'].value_counts().sort_index()"
      ]
    },
    {
      "cell_type": "code",
      "execution_count": 9,
      "metadata": {
        "colab": {
          "base_uri": "https://localhost:8080/",
          "height": 444
        },
        "id": "d3pn1XPgP1Wj",
        "outputId": "b1107cfe-173d-4790-fc0c-f0ac5d0dd71e"
      },
      "outputs": [
        {
          "data": {
            "image/png": "[encoded data removed]",
            "text/plain": [
              "<Figure size 640x480 with 1 Axes>"
            ]
          },
          "metadata": {},
          "output_type": "display_data"
        }
      ],
      "source": [
        "#Adding colour to the bar charge of orders_day_of_week\n",
        "\n",
        "bar = df_ords_prods_merge['orders_day_of_week'].value_counts().sort_index().plot.bar(color =['purple', 'red', 'pink', 'orange', 'yellow', 'green', 'blue'])"
      ]
    },
    {
      "cell_type": "markdown",
      "metadata": {
        "id": "TT8QumTseQ0j"
      },
      "source": [
        "# 4. Save Bar Chart to Memory"
      ]
    },
    {
      "cell_type": "code",
      "execution_count": 10,
      "metadata": {
        "colab": {
          "base_uri": "https://localhost:8080/",
          "height": 444
        },
        "id": "-qaOml5SP1i-",
        "outputId": "dec45a78-ba42-4ac1-a064-283c4c7cb7d3"
      },
      "outputs": [
        {
          "data": {
            "image/png": "[encoded data removed]",
            "text/plain": [
              "<Figure size 640x480 with 1 Axes>"
            ]
          },
          "metadata": {},
          "output_type": "display_data"
        }
      ],
      "source": [
        "# Save code to memory -  bar chart will be saved within the bar object\n",
        "\n",
        "bar = df_ords_prods_merge['orders_day_of_week'].value_counts().plot.bar(color =['purple', 'red', 'pink', 'orange', 'yellow', 'green', 'blue'])"
      ]
    },
    {
      "cell_type": "code",
      "execution_count": 11,
      "metadata": {
        "colab": {
          "base_uri": "https://localhost:8080/",
          "height": 444
        },
        "id": "wDtUjuhbP1qn",
        "outputId": "8bc6b09c-8e17-477c-a99f-7e7afae86ecd"
      },
      "outputs": [
        {
          "data": {
            "image/png": "[encoded data removed]",
            "text/plain": [
              "<Figure size 640x480 with 1 Axes>"
            ]
          },
          "execution_count": 11,
          "metadata": {},
          "output_type": "execute_result"
        }
      ],
      "source": [
        "bar.figure #Use this code to see the bar chart"
      ]
    },
    {
      "cell_type": "markdown",
      "metadata": {
        "id": "ylQSDV-Yf0Tk"
      },
      "source": [
        "# 5. Export Bar Chart"
      ]
    },
    {
      "cell_type": "code",
      "execution_count": 12,
      "metadata": {
        "id": "4UahOnrBf3PA"
      },
      "outputs": [],
      "source": [
        "bar.figure.savefig(os.path.join(path, '04 Analysis','Visualizations', 'bar_orders_dow.png'))"
      ]
    },
    {
      "cell_type": "markdown",
      "metadata": {
        "id": "qIv9gSKC3u3Q"
      },
      "source": [
        "# 6. Creating Histograms and Scatterplots\n"
      ]
    },
    {
      "cell_type": "code",
      "execution_count": 13,
      "metadata": {
        "colab": {
          "base_uri": "https://localhost:8080/",
          "height": 447
        },
        "id": "RygiAjQ93xeV",
        "outputId": "f52ff103-f5d5-49e0-943f-c52f04e2b5b2"
      },
      "outputs": [
        {
          "data": {
            "text/plain": [
              "<Axes: ylabel='Frequency'>"
            ]
          },
          "execution_count": 13,
          "metadata": {},
          "output_type": "execute_result"
        },
        {
          "data": {
            "image/png": "[encoded data removed]",
            "text/plain": [
              "<Figure size 640x480 with 1 Axes>"
            ]
          },
          "metadata": {},
          "output_type": "display_data"
        }
      ],
      "source": [
        "# Create a histogram of the “prices” column\n",
        "\n",
        "df_ords_prods_merge['prices'].plot.hist(bins = 25)"
      ]
    },
    {
      "cell_type": "code",
      "execution_count": 24,
      "metadata": {
        "colab": {
          "base_uri": "https://localhost:8080/",
          "height": 430
        },
        "id": "l2p0rzuEMr6l",
        "outputId": "94fac1f3-553d-483d-888a-ff798f3c6952"
      },
      "outputs": [
        {
          "data": {
            "image/png": "[encoded data removed]",
            "text/plain": [
              "<Figure size 640x480 with 1 Axes>"
            ]
          },
          "metadata": {},
          "output_type": "display_data"
        }
      ],
      "source": [
        "hist_1 = df_ords_prods_merge['prices'].plot.hist(bins = 70)"
      ]
    },
    {
      "cell_type": "code",
      "execution_count": 25,
      "metadata": {
        "id": "PvMy3pU4Mdoi"
      },
      "outputs": [],
      "source": [
        "hist.figure.savefig(os.path.join(path, '04 Analysis','Visualizations', 'hist_prices_dow.png'))"
      ]
    }
  ],
  "metadata": {
    "colab": {
      "provenance": [],
      "toc_visible": true
    },
    "kernelspec": {
      "display_name": "Python 3",
      "name": "python3"
    },
    "language_info": {
      "name": "python"
    }
  },
  "nbformat": 4,
  "nbformat_minor": 0
}
