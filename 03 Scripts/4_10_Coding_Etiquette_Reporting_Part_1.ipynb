{
  "nbformat": 4,
  "nbformat_minor": 0,
  "metadata": {
    "colab": {
      "provenance": []
    },
    "kernelspec": {
      "name": "python3",
      "display_name": "Python 3"
    },
    "language_info": {
      "name": "python"
    }
  },
  "cells": [
    {
      "cell_type": "markdown",
      "source": [
        "# 4.10 Coding Etiquette Reporting (Part 1)\n",
        "\n",
        "### This script contains the following points:\n",
        "\n",
        "### 1. Import Libraries\n",
        "\n",
        "### 2. Import Dataset orders_product_customer_merge_sample.pkl\n",
        "\n",
        "### 3. Address PII Data\n",
        "\n",
        "### 4. Regional Segmentation\n",
        "\n",
        "### 5. Spending Habits per Region\n",
        "\n",
        "### 6. Remove Customers low Generating Customers\n",
        "\n",
        "### 7.Customer Profiling\n",
        "\n",
        "##### 7.1 Age\n",
        "\n",
        "##### 7.2 Dependents\n",
        "\n",
        "##### 7.3 Income\n",
        "\n",
        "##### 7.4 Orders_day_of_week\n",
        "\n",
        "### 8. Visualistion of Customer Profile Distribution\n",
        "\n",
        "##### 8.1 Age\n",
        "\n",
        "##### 8.2 Dependents\n",
        "\n",
        "##### 8.3 Income\n",
        "\n",
        "##### 8.4 Order_day_of_the_week\n",
        "\n",
        "### 9. Aggregate the max, mean, and min variables on a customer-profile level for usage frequency and expenditure.\n",
        "\n",
        "\n",
        "\n",
        "\n",
        "\n",
        "\n",
        "\n",
        "\n",
        "\n",
        "\n",
        "\n"
      ],
      "metadata": {
        "id": "pOHGHQtu388h"
      }
    },
    {
      "cell_type": "markdown",
      "source": [
        "# 1. Import Libraries"
      ],
      "metadata": {
        "id": "xbBosBcpU0Et"
      }
    },
    {
      "cell_type": "code",
      "source": [
        "import pandas as pd\n",
        "import numpy as np\n",
        "import os\n",
        "import matplotlib.pyplot as plt\n",
        "import seaborn as sns\n",
        "import scipy"
      ],
      "metadata": {
        "id": "aqikzVXFU6Ix"
      },
      "execution_count": 89,
      "outputs": []
    },
    {
      "cell_type": "markdown",
      "source": [
        "# 2. Import Dataset orders_product_customer_merge_sample.pkl"
      ],
      "metadata": {
        "id": "GudA2sNEU_BA"
      }
    },
    {
      "cell_type": "code",
      "source": [
        "path = r'/content/drive/MyDrive/Careerfoundary'"
      ],
      "metadata": {
        "id": "n9JraRoAVGAG"
      },
      "execution_count": 90,
      "outputs": []
    },
    {
      "cell_type": "code",
      "source": [
        "df_ords_prods_cust_merge = pd.read_pickle(os.path.join(path, '02 Data', 'Prepared Data','orders_product_customer_merge_sample.pkl'))"
      ],
      "metadata": {
        "id": "hpYJIwRHVQy4"
      },
      "execution_count": 91,
      "outputs": []
    },
    {
      "cell_type": "code",
      "source": [
        "from google.colab import drive\n",
        "drive.mount('/content/drive')"
      ],
      "metadata": {
        "id": "sNeViAoqaNm5",
        "colab": {
          "base_uri": "https://localhost:8080/"
        },
        "outputId": "4d776d01-079f-4937-bea4-934cd55528be"
      },
      "execution_count": 92,
      "outputs": [
        {
          "output_type": "stream",
          "name": "stdout",
          "text": [
            "Drive already mounted at /content/drive; to attempt to forcibly remount, call drive.mount(\"/content/drive\", force_remount=True).\n"
          ]
        }
      ]
    },
    {
      "cell_type": "code",
      "source": [
        "df_ords_prods_cust_merge.shape"
      ],
      "metadata": {
        "id": "8IMPyynN8PKB",
        "colab": {
          "base_uri": "https://localhost:8080/"
        },
        "outputId": "6c920e1f-f77c-4947-cfed-b365e9df17ca"
      },
      "execution_count": 93,
      "outputs": [
        {
          "output_type": "execute_result",
          "data": {
            "text/plain": [
              "(2771091, 34)"
            ]
          },
          "metadata": {},
          "execution_count": 93
        }
      ]
    },
    {
      "cell_type": "markdown",
      "source": [
        "# 3. Address PII Data\n",
        "\n",
        "Address any PII data for security reasons"
      ],
      "metadata": {
        "id": "VovFLvEjVePm"
      }
    },
    {
      "cell_type": "code",
      "source": [
        "df_ords_prods_cust_merge.columns"
      ],
      "metadata": {
        "id": "YNvph7dZVfqA",
        "colab": {
          "base_uri": "https://localhost:8080/"
        },
        "outputId": "2a39890f-6c16-4ad4-82a0-28e9b304b3e2"
      },
      "execution_count": 94,
      "outputs": [
        {
          "output_type": "execute_result",
          "data": {
            "text/plain": [
              "Index(['user_id', 'first_name', 'surname', 'gender', 'state', 'age',\n",
              "       'date_joined', 'n_dependants', 'marital_status', 'income', 'order_id',\n",
              "       'order_number', 'orders_day_of_week', 'order_hour_of_day',\n",
              "       'days_since_prior_order', 'first_order', 'product_id',\n",
              "       'add_to_cart_order', 'reordered', 'product_name', 'aisle_id',\n",
              "       'department_id', 'prices', 'price_range_loc', 'busiest_day',\n",
              "       'Busiest_Days(plural)', 'busiest_period_of_day', 'max_order',\n",
              "       'loyalty_flag', 'mean_price', 'spending_flag', 'customer_frequency',\n",
              "       'frequency_flag', '_merge'],\n",
              "      dtype='object')"
            ]
          },
          "metadata": {},
          "execution_count": 94
        }
      ]
    },
    {
      "cell_type": "markdown",
      "source": [
        "### To address the PII data I have decided to removed columns first_name and surname as these columns would make it easy to trace information back to a particular person."
      ],
      "metadata": {
        "id": "zhAvxyPLXoEA"
      }
    },
    {
      "cell_type": "code",
      "source": [
        "df_ords_prods_cust_merge = df_ords_prods_cust_merge.drop(columns = ['first_name'])"
      ],
      "metadata": {
        "id": "6ToWWxFKXnwJ"
      },
      "execution_count": 95,
      "outputs": []
    },
    {
      "cell_type": "code",
      "source": [
        "df_ords_prods_cust_merge = df_ords_prods_cust_merge.drop(columns = ['surname'])"
      ],
      "metadata": {
        "id": "FJtfFVJ2Y4RE"
      },
      "execution_count": 96,
      "outputs": []
    },
    {
      "cell_type": "code",
      "source": [
        "df_ords_prods_cust_merge.columns"
      ],
      "metadata": {
        "id": "Nl4PRVusZCXi",
        "colab": {
          "base_uri": "https://localhost:8080/"
        },
        "outputId": "91db01f4-ad4d-49e8-957f-f92ec393e0b2"
      },
      "execution_count": 97,
      "outputs": [
        {
          "output_type": "execute_result",
          "data": {
            "text/plain": [
              "Index(['user_id', 'gender', 'state', 'age', 'date_joined', 'n_dependants',\n",
              "       'marital_status', 'income', 'order_id', 'order_number',\n",
              "       'orders_day_of_week', 'order_hour_of_day', 'days_since_prior_order',\n",
              "       'first_order', 'product_id', 'add_to_cart_order', 'reordered',\n",
              "       'product_name', 'aisle_id', 'department_id', 'prices',\n",
              "       'price_range_loc', 'busiest_day', 'Busiest_Days(plural)',\n",
              "       'busiest_period_of_day', 'max_order', 'loyalty_flag', 'mean_price',\n",
              "       'spending_flag', 'customer_frequency', 'frequency_flag', '_merge'],\n",
              "      dtype='object')"
            ]
          },
          "metadata": {},
          "execution_count": 97
        }
      ]
    },
    {
      "cell_type": "code",
      "source": [
        "# There are no other columns that would link back to a particular person."
      ],
      "metadata": {
        "id": "FjGB_MMaZKaB"
      },
      "execution_count": 98,
      "outputs": []
    },
    {
      "cell_type": "markdown",
      "source": [
        "# 4. Regional Segmentation\n",
        "\n",
        "Compare customer behavior in different geographic areas. Create a regional segmentation of the data. You’ll need to create a “Region” column based on the “State” column from your customers data set."
      ],
      "metadata": {
        "id": "igv42Y3ZZm32"
      }
    },
    {
      "cell_type": "code",
      "source": [
        "# Get the count of each state\n",
        "state_counts = df_ords_prods_cust_merge['state'].value_counts()"
      ],
      "metadata": {
        "id": "qDCk_XyygEGV"
      },
      "execution_count": 99,
      "outputs": []
    },
    {
      "cell_type": "code",
      "source": [
        "# Create a new DataFrame from the state_counts Series\n",
        "state_counts_df = state_counts.reset_index()"
      ],
      "metadata": {
        "id": "_d-2HQgNgEJw"
      },
      "execution_count": 100,
      "outputs": []
    },
    {
      "cell_type": "code",
      "source": [
        "# Rename the columns\n",
        "state_counts_df.columns = ['state', 'count']"
      ],
      "metadata": {
        "id": "xDIYnpwSgEOv"
      },
      "execution_count": 101,
      "outputs": []
    },
    {
      "cell_type": "code",
      "source": [
        "# Display the new DataFrame\n",
        "print(state_counts_df)"
      ],
      "metadata": {
        "id": "EZJv2El4gES_",
        "colab": {
          "base_uri": "https://localhost:8080/"
        },
        "outputId": "76a24fbd-e6ea-4163-fde9-b437c02cc2e9"
      },
      "execution_count": 102,
      "outputs": [
        {
          "output_type": "stream",
          "name": "stdout",
          "text": [
            "                   state   count\n",
            "0          New Hampshire  157107\n",
            "1                   Iowa  153199\n",
            "2                Arizona  104868\n",
            "3   District of Columbia  104266\n",
            "4                Vermont  103631\n",
            "5                 Oregon  103226\n",
            "6                  Idaho  102665\n",
            "7         South Carolina  102006\n",
            "8                Wyoming  101921\n",
            "9                  Maine  101304\n",
            "10                Hawaii  101292\n",
            "11               Georgia  100334\n",
            "12           Mississippi   99533\n",
            "13                Kansas   98837\n",
            "14        North Carolina   96863\n",
            "15              Missouri   95711\n",
            "16             Louisiana   53420\n",
            "17           Connecticut   53391\n",
            "18               Alabama   53094\n",
            "19              Maryland   52234\n",
            "20              Michigan   52109\n",
            "21                Alaska   51850\n",
            "22              Delaware   51469\n",
            "23             Minnesota   50877\n",
            "24            Washington   50250\n",
            "25              Illinois   49694\n",
            "26              Nebraska   49585\n",
            "27          Rhode Island   49543\n",
            "28             Tennessee   49370\n",
            "29                  Utah   49203\n",
            "30               Indiana   49185\n",
            "31            California   48981\n",
            "32             Wisconsin   48050\n",
            "33              Virginia   47844\n",
            "34          Pennsylvania   45893\n",
            "35              Kentucky   44900\n",
            "36          North Dakota   43386\n",
            "37            New Mexico       0\n",
            "38                 Texas       0\n",
            "39         West Virginia       0\n",
            "40         Massachusetts       0\n",
            "41              Arkansas       0\n",
            "42               Florida       0\n",
            "43          South Dakota       0\n",
            "44               Montana       0\n",
            "45              New York       0\n",
            "46                Nevada       0\n",
            "47              Colorado       0\n",
            "48              Oklahoma       0\n",
            "49            New Jersey       0\n",
            "50                  Ohio       0\n"
          ]
        }
      ]
    },
    {
      "cell_type": "code",
      "source": [
        "# Dervive a new column grouping states by region using Wikipedia using the loc method"
      ],
      "metadata": {
        "id": "QcZBW9_ZgEWu"
      },
      "execution_count": 103,
      "outputs": []
    },
    {
      "cell_type": "code",
      "source": [
        "#Group together states in the northeast\n",
        "df_ords_prods_cust_merge.loc[df_ords_prods_cust_merge['state'].isin(['Maine', 'New Hampshire', 'Vermont', 'Massachusetts','Rhode Island', 'Connecticut', 'New York', 'Pennsylvania', 'New Jersey']), 'region'] = 'northeast'"
      ],
      "metadata": {
        "id": "fc3Nwn1ohC97"
      },
      "execution_count": 104,
      "outputs": []
    },
    {
      "cell_type": "code",
      "source": [
        "#Group together states in the midwest\n",
        "df_ords_prods_cust_merge.loc[df_ords_prods_cust_merge['state'].isin(['Wisconsin', 'Michigan','Illinois', 'Indiana', 'Ohio', 'North Dakota', 'South Dakota', 'Nebraska', 'Kansas', 'Minnesota', 'Iowa', 'Missouri']), 'region'] = 'midwest'"
      ],
      "metadata": {
        "id": "z9iBQMM2hDH3"
      },
      "execution_count": 105,
      "outputs": []
    },
    {
      "cell_type": "code",
      "source": [
        "#Group together states in the south\n",
        "df_ords_prods_cust_merge.loc[df_ords_prods_cust_merge['state'].isin(['Delaware', 'Maryland', 'District of Columbia', 'Virginia', 'West Virginia', 'North Carolina', 'South Carolina', 'Georgia', 'Florida', 'Kentucky', 'Tennessee', 'Mississippi', 'Alabama', 'Oklahoma', 'Texas', 'Arkansas', 'Louisiana']), 'region'] = 'south'"
      ],
      "metadata": {
        "id": "vVd2cA7GhDPU"
      },
      "execution_count": 106,
      "outputs": []
    },
    {
      "cell_type": "code",
      "source": [
        "#Group together states in the west\n",
        "df_ords_prods_cust_merge.loc[df_ords_prods_cust_merge['state'].isin(['Idaho', 'Montana', 'Wyoming', 'Nevada', 'Utah', 'Colorado', 'Arizona', 'New Mexico', 'Alaska', 'Washington', 'Oregon', 'California', 'Hawaii']), 'region'] = 'west'"
      ],
      "metadata": {
        "id": "SWGYZJashDWo"
      },
      "execution_count": 107,
      "outputs": []
    },
    {
      "cell_type": "code",
      "source": [
        "df_ords_prods_cust_merge['region'].value_counts(dropna = False)"
      ],
      "metadata": {
        "id": "dK3--WvMrJ7h",
        "colab": {
          "base_uri": "https://localhost:8080/"
        },
        "outputId": "252798ba-ccc8-4ff5-ff76-ba910624e316"
      },
      "execution_count": 108,
      "outputs": [
        {
          "output_type": "execute_result",
          "data": {
            "text/plain": [
              "region\n",
              "south        855333\n",
              "west         714256\n",
              "midwest      690633\n",
              "northeast    510869\n",
              "Name: count, dtype: int64"
            ]
          },
          "metadata": {},
          "execution_count": 108
        }
      ]
    },
    {
      "cell_type": "code",
      "source": [
        "df_ords_prods_cust_merge.columns"
      ],
      "metadata": {
        "id": "ZpLi0Pj4rjlp",
        "colab": {
          "base_uri": "https://localhost:8080/"
        },
        "outputId": "2f7497ee-8c7a-4855-b972-3b1cf054bc0e"
      },
      "execution_count": 109,
      "outputs": [
        {
          "output_type": "execute_result",
          "data": {
            "text/plain": [
              "Index(['user_id', 'gender', 'state', 'age', 'date_joined', 'n_dependants',\n",
              "       'marital_status', 'income', 'order_id', 'order_number',\n",
              "       'orders_day_of_week', 'order_hour_of_day', 'days_since_prior_order',\n",
              "       'first_order', 'product_id', 'add_to_cart_order', 'reordered',\n",
              "       'product_name', 'aisle_id', 'department_id', 'prices',\n",
              "       'price_range_loc', 'busiest_day', 'Busiest_Days(plural)',\n",
              "       'busiest_period_of_day', 'max_order', 'loyalty_flag', 'mean_price',\n",
              "       'spending_flag', 'customer_frequency', 'frequency_flag', '_merge',\n",
              "       'region'],\n",
              "      dtype='object')"
            ]
          },
          "metadata": {},
          "execution_count": 109
        }
      ]
    },
    {
      "cell_type": "markdown",
      "source": [
        "# 5. Spending Habits per Region\n",
        "\n",
        "Determine whether there’s a difference in spending habits between the different U.S. regions. (Hint: You can do this by crossing the variable you just created with the spending flag.)"
      ],
      "metadata": {
        "id": "1BtDZvdstgXy"
      }
    },
    {
      "cell_type": "code",
      "source": [
        "crosstab = pd.crosstab(df_ords_prods_cust_merge['spending_flag'], df_ords_prods_cust_merge['region'], dropna=False)"
      ],
      "metadata": {
        "id": "79nU8VoCtnr6"
      },
      "execution_count": 110,
      "outputs": []
    },
    {
      "cell_type": "code",
      "source": [
        "print(crosstab)"
      ],
      "metadata": {
        "id": "WpXiVpv1uyFE",
        "colab": {
          "base_uri": "https://localhost:8080/"
        },
        "outputId": "a977c09d-2693-409f-cbf8-d36965398fd7"
      },
      "execution_count": 111,
      "outputs": [
        {
          "output_type": "stream",
          "name": "stdout",
          "text": [
            "region          midwest  northeast   south    west\n",
            "spending_flag                                     \n",
            "Higher Spender    13228       8049   14198   12729\n",
            "Low Spender      677405     502820  841135  701527\n"
          ]
        }
      ]
    },
    {
      "cell_type": "code",
      "source": [
        "# Across states there is a higher proportion of lower spenders than higher spender. The largest number of higher spenders reside in the midwest."
      ],
      "metadata": {
        "id": "wMDAOnDXv46K"
      },
      "execution_count": 112,
      "outputs": []
    },
    {
      "cell_type": "markdown",
      "source": [
        "# 6. Remove Customers low Generating Customers\n",
        "\n",
        "The Instacart CFO isn’t interested in customers who don’t generate much revenue for the app. Create an exclusion flag for low-activity customers (customers with less than 5 orders) and exclude them from the data. Make sure you export this sample."
      ],
      "metadata": {
        "id": "OmqlWHj-zqb-"
      }
    },
    {
      "cell_type": "code",
      "source": [
        "#Criteria of exclusion flag - customers with < 5 orders"
      ],
      "metadata": {
        "id": "EYU7hFiYzuXS"
      },
      "execution_count": 113,
      "outputs": []
    },
    {
      "cell_type": "code",
      "source": [
        "#Create a new column low_activity_customers - customers with less than 5 orders will be excluded\n",
        "df_ords_prods_cust_merge.loc[df_ords_prods_cust_merge['max_order'] < 5, 'customer_activity_flag'] = 'exclude'\n"
      ],
      "metadata": {
        "id": "bGtCNOM60Vds"
      },
      "execution_count": 114,
      "outputs": []
    },
    {
      "cell_type": "code",
      "source": [
        "#Create a new column low_activity_customers - customers with more than 5 orders will be kept\n",
        "df_ords_prods_cust_merge.loc[df_ords_prods_cust_merge['max_order'] >= 5, 'customer_activity_flag'] = 'keep'"
      ],
      "metadata": {
        "id": "3AoYI7s44Ag1"
      },
      "execution_count": 115,
      "outputs": []
    },
    {
      "cell_type": "code",
      "source": [
        "df_ords_prods_cust_merge['customer_activity_flag'].value_counts(dropna = False)"
      ],
      "metadata": {
        "id": "LylR3F-F7j12",
        "colab": {
          "base_uri": "https://localhost:8080/"
        },
        "outputId": "91dd6898-9586-4202-b62b-827f24f0d23d"
      },
      "execution_count": 116,
      "outputs": [
        {
          "output_type": "execute_result",
          "data": {
            "text/plain": [
              "customer_activity_flag\n",
              "keep       2648423\n",
              "exclude     122668\n",
              "Name: count, dtype: int64"
            ]
          },
          "metadata": {},
          "execution_count": 116
        }
      ]
    },
    {
      "cell_type": "code",
      "source": [
        "df_ords_prods_cust_merge.head(5)"
      ],
      "metadata": {
        "id": "_szs8H2I7j-K",
        "colab": {
          "base_uri": "https://localhost:8080/",
          "height": 342
        },
        "outputId": "8ddbf87f-3898-495c-a142-f7d20dc8835f"
      },
      "execution_count": 117,
      "outputs": [
        {
          "output_type": "execute_result",
          "data": {
            "text/plain": [
              "   user_id  gender         state  age date_joined  n_dependants  \\\n",
              "0       90  Female  Pennsylvania   60   3/25/2017             1   \n",
              "1       90  Female  Pennsylvania   60   3/25/2017             1   \n",
              "2       90  Female  Pennsylvania   60   3/25/2017             1   \n",
              "3       90  Female  Pennsylvania   60   3/25/2017             1   \n",
              "4       90  Female  Pennsylvania   60   3/25/2017             1   \n",
              "\n",
              "  marital_status  income  order_id  order_number  ...  busiest_period_of_day  \\\n",
              "0        married   50952     28457            34  ...            Most orders   \n",
              "1        married   50952     27429            12  ...            Most orders   \n",
              "2        married   50952      3386            60  ...            Most orders   \n",
              "3        married   50952     -5680             3  ...            Most orders   \n",
              "4        married   50952    -28518             3  ...            Most orders   \n",
              "\n",
              "   max_order      loyalty_flag mean_price  spending_flag  customer_frequency  \\\n",
              "0         42    Loyal customer   8.075028    Low Spender                 8.0   \n",
              "1         12  Regular customer   7.716068    Low Spender                11.0   \n",
              "2         84    Loyal customer   7.991170    Low Spender                 4.0   \n",
              "3         44    Loyal customer   8.079674    Low Spender                 7.0   \n",
              "4          5      New customer   6.124142    Low Spender                20.0   \n",
              "\n",
              "      frequency_flag _merge     region  customer_activity_flag  \n",
              "0  Frequent customer   both  northeast                    keep  \n",
              "1   Regular customer   both  northeast                    keep  \n",
              "2  Frequent customer   both  northeast                    keep  \n",
              "3  Frequent customer   both  northeast                    keep  \n",
              "4   Regular customer   both  northeast                    keep  \n",
              "\n",
              "[5 rows x 34 columns]"
            ],
            "text/html": [
              "\n",
              "  <div id=\"df-c9ed8d8a-4d51-4ec3-a47e-3fec6f780fe1\" class=\"colab-df-container\">\n",
              "    <div>\n",
              "<style scoped>\n",
              "    .dataframe tbody tr th:only-of-type {\n",
              "        vertical-align: middle;\n",
              "    }\n",
              "\n",
              "    .dataframe tbody tr th {\n",
              "        vertical-align: top;\n",
              "    }\n",
              "\n",
              "    .dataframe thead th {\n",
              "        text-align: right;\n",
              "    }\n",
              "</style>\n",
              "<table border=\"1\" class=\"dataframe\">\n",
              "  <thead>\n",
              "    <tr style=\"text-align: right;\">\n",
              "      <th></th>\n",
              "      <th>user_id</th>\n",
              "      <th>gender</th>\n",
              "      <th>state</th>\n",
              "      <th>age</th>\n",
              "      <th>date_joined</th>\n",
              "      <th>n_dependants</th>\n",
              "      <th>marital_status</th>\n",
              "      <th>income</th>\n",
              "      <th>order_id</th>\n",
              "      <th>order_number</th>\n",
              "      <th>...</th>\n",
              "      <th>busiest_period_of_day</th>\n",
              "      <th>max_order</th>\n",
              "      <th>loyalty_flag</th>\n",
              "      <th>mean_price</th>\n",
              "      <th>spending_flag</th>\n",
              "      <th>customer_frequency</th>\n",
              "      <th>frequency_flag</th>\n",
              "      <th>_merge</th>\n",
              "      <th>region</th>\n",
              "      <th>customer_activity_flag</th>\n",
              "    </tr>\n",
              "  </thead>\n",
              "  <tbody>\n",
              "    <tr>\n",
              "      <th>0</th>\n",
              "      <td>90</td>\n",
              "      <td>Female</td>\n",
              "      <td>Pennsylvania</td>\n",
              "      <td>60</td>\n",
              "      <td>3/25/2017</td>\n",
              "      <td>1</td>\n",
              "      <td>married</td>\n",
              "      <td>50952</td>\n",
              "      <td>28457</td>\n",
              "      <td>34</td>\n",
              "      <td>...</td>\n",
              "      <td>Most orders</td>\n",
              "      <td>42</td>\n",
              "      <td>Loyal customer</td>\n",
              "      <td>8.075028</td>\n",
              "      <td>Low Spender</td>\n",
              "      <td>8.0</td>\n",
              "      <td>Frequent customer</td>\n",
              "      <td>both</td>\n",
              "      <td>northeast</td>\n",
              "      <td>keep</td>\n",
              "    </tr>\n",
              "    <tr>\n",
              "      <th>1</th>\n",
              "      <td>90</td>\n",
              "      <td>Female</td>\n",
              "      <td>Pennsylvania</td>\n",
              "      <td>60</td>\n",
              "      <td>3/25/2017</td>\n",
              "      <td>1</td>\n",
              "      <td>married</td>\n",
              "      <td>50952</td>\n",
              "      <td>27429</td>\n",
              "      <td>12</td>\n",
              "      <td>...</td>\n",
              "      <td>Most orders</td>\n",
              "      <td>12</td>\n",
              "      <td>Regular customer</td>\n",
              "      <td>7.716068</td>\n",
              "      <td>Low Spender</td>\n",
              "      <td>11.0</td>\n",
              "      <td>Regular customer</td>\n",
              "      <td>both</td>\n",
              "      <td>northeast</td>\n",
              "      <td>keep</td>\n",
              "    </tr>\n",
              "    <tr>\n",
              "      <th>2</th>\n",
              "      <td>90</td>\n",
              "      <td>Female</td>\n",
              "      <td>Pennsylvania</td>\n",
              "      <td>60</td>\n",
              "      <td>3/25/2017</td>\n",
              "      <td>1</td>\n",
              "      <td>married</td>\n",
              "      <td>50952</td>\n",
              "      <td>3386</td>\n",
              "      <td>60</td>\n",
              "      <td>...</td>\n",
              "      <td>Most orders</td>\n",
              "      <td>84</td>\n",
              "      <td>Loyal customer</td>\n",
              "      <td>7.991170</td>\n",
              "      <td>Low Spender</td>\n",
              "      <td>4.0</td>\n",
              "      <td>Frequent customer</td>\n",
              "      <td>both</td>\n",
              "      <td>northeast</td>\n",
              "      <td>keep</td>\n",
              "    </tr>\n",
              "    <tr>\n",
              "      <th>3</th>\n",
              "      <td>90</td>\n",
              "      <td>Female</td>\n",
              "      <td>Pennsylvania</td>\n",
              "      <td>60</td>\n",
              "      <td>3/25/2017</td>\n",
              "      <td>1</td>\n",
              "      <td>married</td>\n",
              "      <td>50952</td>\n",
              "      <td>-5680</td>\n",
              "      <td>3</td>\n",
              "      <td>...</td>\n",
              "      <td>Most orders</td>\n",
              "      <td>44</td>\n",
              "      <td>Loyal customer</td>\n",
              "      <td>8.079674</td>\n",
              "      <td>Low Spender</td>\n",
              "      <td>7.0</td>\n",
              "      <td>Frequent customer</td>\n",
              "      <td>both</td>\n",
              "      <td>northeast</td>\n",
              "      <td>keep</td>\n",
              "    </tr>\n",
              "    <tr>\n",
              "      <th>4</th>\n",
              "      <td>90</td>\n",
              "      <td>Female</td>\n",
              "      <td>Pennsylvania</td>\n",
              "      <td>60</td>\n",
              "      <td>3/25/2017</td>\n",
              "      <td>1</td>\n",
              "      <td>married</td>\n",
              "      <td>50952</td>\n",
              "      <td>-28518</td>\n",
              "      <td>3</td>\n",
              "      <td>...</td>\n",
              "      <td>Most orders</td>\n",
              "      <td>5</td>\n",
              "      <td>New customer</td>\n",
              "      <td>6.124142</td>\n",
              "      <td>Low Spender</td>\n",
              "      <td>20.0</td>\n",
              "      <td>Regular customer</td>\n",
              "      <td>both</td>\n",
              "      <td>northeast</td>\n",
              "      <td>keep</td>\n",
              "    </tr>\n",
              "  </tbody>\n",
              "</table>\n",
              "<p>5 rows × 34 columns</p>\n",
              "</div>\n",
              "    <div class=\"colab-df-buttons\">\n",
              "\n",
              "  <div class=\"colab-df-container\">\n",
              "    <button class=\"colab-df-convert\" onclick=\"convertToInteractive('df-c9ed8d8a-4d51-4ec3-a47e-3fec6f780fe1')\"\n",
              "            title=\"Convert this dataframe to an interactive table.\"\n",
              "            style=\"display:none;\">\n",
              "\n",
              "  <svg xmlns=\"http://www.w3.org/2000/svg\" height=\"24px\" viewBox=\"0 -960 960 960\">\n",
              "    <path d=\"M120-120v-720h720v720H120Zm60-500h600v-160H180v160Zm220 220h160v-160H400v160Zm0 220h160v-160H400v160ZM180-400h160v-160H180v160Zm440 0h160v-160H620v160ZM180-180h160v-160H180v160Zm440 0h160v-160H620v160Z\"/>\n",
              "  </svg>\n",
              "    </button>\n",
              "\n",
              "  <style>\n",
              "    .colab-df-container {\n",
              "      display:flex;\n",
              "      gap: 12px;\n",
              "    }\n",
              "\n",
              "    .colab-df-convert {\n",
              "      background-color: #E8F0FE;\n",
              "      border: none;\n",
              "      border-radius: 50%;\n",
              "      cursor: pointer;\n",
              "      display: none;\n",
              "      fill: #1967D2;\n",
              "      height: 32px;\n",
              "      padding: 0 0 0 0;\n",
              "      width: 32px;\n",
              "    }\n",
              "\n",
              "    .colab-df-convert:hover {\n",
              "      background-color: #E2EBFA;\n",
              "      box-shadow: 0px 1px 2px rgba(60, 64, 67, 0.3), 0px 1px 3px 1px rgba(60, 64, 67, 0.15);\n",
              "      fill: #174EA6;\n",
              "    }\n",
              "\n",
              "    .colab-df-buttons div {\n",
              "      margin-bottom: 4px;\n",
              "    }\n",
              "\n",
              "    [theme=dark] .colab-df-convert {\n",
              "      background-color: #3B4455;\n",
              "      fill: #D2E3FC;\n",
              "    }\n",
              "\n",
              "    [theme=dark] .colab-df-convert:hover {\n",
              "      background-color: #434B5C;\n",
              "      box-shadow: 0px 1px 3px 1px rgba(0, 0, 0, 0.15);\n",
              "      filter: drop-shadow(0px 1px 2px rgba(0, 0, 0, 0.3));\n",
              "      fill: #FFFFFF;\n",
              "    }\n",
              "  </style>\n",
              "\n",
              "    <script>\n",
              "      const buttonEl =\n",
              "        document.querySelector('#df-c9ed8d8a-4d51-4ec3-a47e-3fec6f780fe1 button.colab-df-convert');\n",
              "      buttonEl.style.display =\n",
              "        google.colab.kernel.accessAllowed ? 'block' : 'none';\n",
              "\n",
              "      async function convertToInteractive(key) {\n",
              "        const element = document.querySelector('#df-c9ed8d8a-4d51-4ec3-a47e-3fec6f780fe1');\n",
              "        const dataTable =\n",
              "          await google.colab.kernel.invokeFunction('convertToInteractive',\n",
              "                                                    [key], {});\n",
              "        if (!dataTable) return;\n",
              "\n",
              "        const docLinkHtml = 'Like what you see? Visit the ' +\n",
              "          '<a target=\"_blank\" href=https://colab.research.google.com/notebooks/data_table.ipynb>data table notebook</a>'\n",
              "          + ' to learn more about interactive tables.';\n",
              "        element.innerHTML = '';\n",
              "        dataTable['output_type'] = 'display_data';\n",
              "        await google.colab.output.renderOutput(dataTable, element);\n",
              "        const docLink = document.createElement('div');\n",
              "        docLink.innerHTML = docLinkHtml;\n",
              "        element.appendChild(docLink);\n",
              "      }\n",
              "    </script>\n",
              "  </div>\n",
              "\n",
              "\n",
              "<div id=\"df-4af5476a-e40c-435d-a89c-56a9c183a26b\">\n",
              "  <button class=\"colab-df-quickchart\" onclick=\"quickchart('df-4af5476a-e40c-435d-a89c-56a9c183a26b')\"\n",
              "            title=\"Suggest charts\"\n",
              "            style=\"display:none;\">\n",
              "\n",
              "<svg xmlns=\"http://www.w3.org/2000/svg\" height=\"24px\"viewBox=\"0 0 24 24\"\n",
              "     width=\"24px\">\n",
              "    <g>\n",
              "        <path d=\"M19 3H5c-1.1 0-2 .9-2 2v14c0 1.1.9 2 2 2h14c1.1 0 2-.9 2-2V5c0-1.1-.9-2-2-2zM9 17H7v-7h2v7zm4 0h-2V7h2v10zm4 0h-2v-4h2v4z\"/>\n",
              "    </g>\n",
              "</svg>\n",
              "  </button>\n",
              "\n",
              "<style>\n",
              "  .colab-df-quickchart {\n",
              "      --bg-color: #E8F0FE;\n",
              "      --fill-color: #1967D2;\n",
              "      --hover-bg-color: #E2EBFA;\n",
              "      --hover-fill-color: #174EA6;\n",
              "      --disabled-fill-color: #AAA;\n",
              "      --disabled-bg-color: #DDD;\n",
              "  }\n",
              "\n",
              "  [theme=dark] .colab-df-quickchart {\n",
              "      --bg-color: #3B4455;\n",
              "      --fill-color: #D2E3FC;\n",
              "      --hover-bg-color: #434B5C;\n",
              "      --hover-fill-color: #FFFFFF;\n",
              "      --disabled-bg-color: #3B4455;\n",
              "      --disabled-fill-color: #666;\n",
              "  }\n",
              "\n",
              "  .colab-df-quickchart {\n",
              "    background-color: var(--bg-color);\n",
              "    border: none;\n",
              "    border-radius: 50%;\n",
              "    cursor: pointer;\n",
              "    display: none;\n",
              "    fill: var(--fill-color);\n",
              "    height: 32px;\n",
              "    padding: 0;\n",
              "    width: 32px;\n",
              "  }\n",
              "\n",
              "  .colab-df-quickchart:hover {\n",
              "    background-color: var(--hover-bg-color);\n",
              "    box-shadow: 0 1px 2px rgba(60, 64, 67, 0.3), 0 1px 3px 1px rgba(60, 64, 67, 0.15);\n",
              "    fill: var(--button-hover-fill-color);\n",
              "  }\n",
              "\n",
              "  .colab-df-quickchart-complete:disabled,\n",
              "  .colab-df-quickchart-complete:disabled:hover {\n",
              "    background-color: var(--disabled-bg-color);\n",
              "    fill: var(--disabled-fill-color);\n",
              "    box-shadow: none;\n",
              "  }\n",
              "\n",
              "  .colab-df-spinner {\n",
              "    border: 2px solid var(--fill-color);\n",
              "    border-color: transparent;\n",
              "    border-bottom-color: var(--fill-color);\n",
              "    animation:\n",
              "      spin 1s steps(1) infinite;\n",
              "  }\n",
              "\n",
              "  @keyframes spin {\n",
              "    0% {\n",
              "      border-color: transparent;\n",
              "      border-bottom-color: var(--fill-color);\n",
              "      border-left-color: var(--fill-color);\n",
              "    }\n",
              "    20% {\n",
              "      border-color: transparent;\n",
              "      border-left-color: var(--fill-color);\n",
              "      border-top-color: var(--fill-color);\n",
              "    }\n",
              "    30% {\n",
              "      border-color: transparent;\n",
              "      border-left-color: var(--fill-color);\n",
              "      border-top-color: var(--fill-color);\n",
              "      border-right-color: var(--fill-color);\n",
              "    }\n",
              "    40% {\n",
              "      border-color: transparent;\n",
              "      border-right-color: var(--fill-color);\n",
              "      border-top-color: var(--fill-color);\n",
              "    }\n",
              "    60% {\n",
              "      border-color: transparent;\n",
              "      border-right-color: var(--fill-color);\n",
              "    }\n",
              "    80% {\n",
              "      border-color: transparent;\n",
              "      border-right-color: var(--fill-color);\n",
              "      border-bottom-color: var(--fill-color);\n",
              "    }\n",
              "    90% {\n",
              "      border-color: transparent;\n",
              "      border-bottom-color: var(--fill-color);\n",
              "    }\n",
              "  }\n",
              "</style>\n",
              "\n",
              "  <script>\n",
              "    async function quickchart(key) {\n",
              "      const quickchartButtonEl =\n",
              "        document.querySelector('#' + key + ' button');\n",
              "      quickchartButtonEl.disabled = true;  // To prevent multiple clicks.\n",
              "      quickchartButtonEl.classList.add('colab-df-spinner');\n",
              "      try {\n",
              "        const charts = await google.colab.kernel.invokeFunction(\n",
              "            'suggestCharts', [key], {});\n",
              "      } catch (error) {\n",
              "        console.error('Error during call to suggestCharts:', error);\n",
              "      }\n",
              "      quickchartButtonEl.classList.remove('colab-df-spinner');\n",
              "      quickchartButtonEl.classList.add('colab-df-quickchart-complete');\n",
              "    }\n",
              "    (() => {\n",
              "      let quickchartButtonEl =\n",
              "        document.querySelector('#df-4af5476a-e40c-435d-a89c-56a9c183a26b button');\n",
              "      quickchartButtonEl.style.display =\n",
              "        google.colab.kernel.accessAllowed ? 'block' : 'none';\n",
              "    })();\n",
              "  </script>\n",
              "</div>\n",
              "\n",
              "    </div>\n",
              "  </div>\n"
            ],
            "application/vnd.google.colaboratory.intrinsic+json": {
              "type": "dataframe",
              "variable_name": "df_ords_prods_cust_merge"
            }
          },
          "metadata": {},
          "execution_count": 117
        }
      ]
    },
    {
      "cell_type": "code",
      "source": [
        "# Check exclusion flag using crosstab\n",
        "crosstab2 = pd.crosstab(df_ords_prods_cust_merge['customer_activity_flag'], df_ords_prods_cust_merge['max_order'], dropna = False)"
      ],
      "metadata": {
        "id": "WJtKbpUS8J1g"
      },
      "execution_count": 118,
      "outputs": []
    },
    {
      "cell_type": "code",
      "source": [
        "# We can see below if the max orders is lower than 5 they fall into the exlude column, if they are more than 5 they fall into the keep column\n",
        "crosstab2"
      ],
      "metadata": {
        "id": "UxdDuqM09eBt",
        "colab": {
          "base_uri": "https://localhost:8080/",
          "height": 173
        },
        "outputId": "622cb033-a2cd-4294-b8fe-b0d3f4ff5e36"
      },
      "execution_count": 119,
      "outputs": [
        {
          "output_type": "execute_result",
          "data": {
            "text/plain": [
              "max_order                  3      4      5      6      7      8      9   \\\n",
              "customer_activity_flag                                                    \n",
              "exclude                 57330  65338      0      0      0      0      0   \n",
              "keep                        0      0  70544  69910  69255  68126  71178   \n",
              "\n",
              "max_order                  10     11     12  ...    90    91    92    93  \\\n",
              "customer_activity_flag                       ...                           \n",
              "exclude                     0      0      0  ...     0     0     0     0   \n",
              "keep                    65642  67750  61442  ...  5211  6249  5285  4090   \n",
              "\n",
              "max_order                 94    95    96    97    98      99  \n",
              "customer_activity_flag                                        \n",
              "exclude                    0     0     0     0     0       0  \n",
              "keep                    3386  5180  2639  2003  2342  104774  \n",
              "\n",
              "[2 rows x 97 columns]"
            ],
            "text/html": [
              "\n",
              "  <div id=\"df-90d13988-f13d-4545-9779-f07ed212ff6f\" class=\"colab-df-container\">\n",
              "    <div>\n",
              "<style scoped>\n",
              "    .dataframe tbody tr th:only-of-type {\n",
              "        vertical-align: middle;\n",
              "    }\n",
              "\n",
              "    .dataframe tbody tr th {\n",
              "        vertical-align: top;\n",
              "    }\n",
              "\n",
              "    .dataframe thead th {\n",
              "        text-align: right;\n",
              "    }\n",
              "</style>\n",
              "<table border=\"1\" class=\"dataframe\">\n",
              "  <thead>\n",
              "    <tr style=\"text-align: right;\">\n",
              "      <th>max_order</th>\n",
              "      <th>3</th>\n",
              "      <th>4</th>\n",
              "      <th>5</th>\n",
              "      <th>6</th>\n",
              "      <th>7</th>\n",
              "      <th>8</th>\n",
              "      <th>9</th>\n",
              "      <th>10</th>\n",
              "      <th>11</th>\n",
              "      <th>12</th>\n",
              "      <th>...</th>\n",
              "      <th>90</th>\n",
              "      <th>91</th>\n",
              "      <th>92</th>\n",
              "      <th>93</th>\n",
              "      <th>94</th>\n",
              "      <th>95</th>\n",
              "      <th>96</th>\n",
              "      <th>97</th>\n",
              "      <th>98</th>\n",
              "      <th>99</th>\n",
              "    </tr>\n",
              "    <tr>\n",
              "      <th>customer_activity_flag</th>\n",
              "      <th></th>\n",
              "      <th></th>\n",
              "      <th></th>\n",
              "      <th></th>\n",
              "      <th></th>\n",
              "      <th></th>\n",
              "      <th></th>\n",
              "      <th></th>\n",
              "      <th></th>\n",
              "      <th></th>\n",
              "      <th></th>\n",
              "      <th></th>\n",
              "      <th></th>\n",
              "      <th></th>\n",
              "      <th></th>\n",
              "      <th></th>\n",
              "      <th></th>\n",
              "      <th></th>\n",
              "      <th></th>\n",
              "      <th></th>\n",
              "      <th></th>\n",
              "    </tr>\n",
              "  </thead>\n",
              "  <tbody>\n",
              "    <tr>\n",
              "      <th>exclude</th>\n",
              "      <td>57330</td>\n",
              "      <td>65338</td>\n",
              "      <td>0</td>\n",
              "      <td>0</td>\n",
              "      <td>0</td>\n",
              "      <td>0</td>\n",
              "      <td>0</td>\n",
              "      <td>0</td>\n",
              "      <td>0</td>\n",
              "      <td>0</td>\n",
              "      <td>...</td>\n",
              "      <td>0</td>\n",
              "      <td>0</td>\n",
              "      <td>0</td>\n",
              "      <td>0</td>\n",
              "      <td>0</td>\n",
              "      <td>0</td>\n",
              "      <td>0</td>\n",
              "      <td>0</td>\n",
              "      <td>0</td>\n",
              "      <td>0</td>\n",
              "    </tr>\n",
              "    <tr>\n",
              "      <th>keep</th>\n",
              "      <td>0</td>\n",
              "      <td>0</td>\n",
              "      <td>70544</td>\n",
              "      <td>69910</td>\n",
              "      <td>69255</td>\n",
              "      <td>68126</td>\n",
              "      <td>71178</td>\n",
              "      <td>65642</td>\n",
              "      <td>67750</td>\n",
              "      <td>61442</td>\n",
              "      <td>...</td>\n",
              "      <td>5211</td>\n",
              "      <td>6249</td>\n",
              "      <td>5285</td>\n",
              "      <td>4090</td>\n",
              "      <td>3386</td>\n",
              "      <td>5180</td>\n",
              "      <td>2639</td>\n",
              "      <td>2003</td>\n",
              "      <td>2342</td>\n",
              "      <td>104774</td>\n",
              "    </tr>\n",
              "  </tbody>\n",
              "</table>\n",
              "<p>2 rows × 97 columns</p>\n",
              "</div>\n",
              "    <div class=\"colab-df-buttons\">\n",
              "\n",
              "  <div class=\"colab-df-container\">\n",
              "    <button class=\"colab-df-convert\" onclick=\"convertToInteractive('df-90d13988-f13d-4545-9779-f07ed212ff6f')\"\n",
              "            title=\"Convert this dataframe to an interactive table.\"\n",
              "            style=\"display:none;\">\n",
              "\n",
              "  <svg xmlns=\"http://www.w3.org/2000/svg\" height=\"24px\" viewBox=\"0 -960 960 960\">\n",
              "    <path d=\"M120-120v-720h720v720H120Zm60-500h600v-160H180v160Zm220 220h160v-160H400v160Zm0 220h160v-160H400v160ZM180-400h160v-160H180v160Zm440 0h160v-160H620v160ZM180-180h160v-160H180v160Zm440 0h160v-160H620v160Z\"/>\n",
              "  </svg>\n",
              "    </button>\n",
              "\n",
              "  <style>\n",
              "    .colab-df-container {\n",
              "      display:flex;\n",
              "      gap: 12px;\n",
              "    }\n",
              "\n",
              "    .colab-df-convert {\n",
              "      background-color: #E8F0FE;\n",
              "      border: none;\n",
              "      border-radius: 50%;\n",
              "      cursor: pointer;\n",
              "      display: none;\n",
              "      fill: #1967D2;\n",
              "      height: 32px;\n",
              "      padding: 0 0 0 0;\n",
              "      width: 32px;\n",
              "    }\n",
              "\n",
              "    .colab-df-convert:hover {\n",
              "      background-color: #E2EBFA;\n",
              "      box-shadow: 0px 1px 2px rgba(60, 64, 67, 0.3), 0px 1px 3px 1px rgba(60, 64, 67, 0.15);\n",
              "      fill: #174EA6;\n",
              "    }\n",
              "\n",
              "    .colab-df-buttons div {\n",
              "      margin-bottom: 4px;\n",
              "    }\n",
              "\n",
              "    [theme=dark] .colab-df-convert {\n",
              "      background-color: #3B4455;\n",
              "      fill: #D2E3FC;\n",
              "    }\n",
              "\n",
              "    [theme=dark] .colab-df-convert:hover {\n",
              "      background-color: #434B5C;\n",
              "      box-shadow: 0px 1px 3px 1px rgba(0, 0, 0, 0.15);\n",
              "      filter: drop-shadow(0px 1px 2px rgba(0, 0, 0, 0.3));\n",
              "      fill: #FFFFFF;\n",
              "    }\n",
              "  </style>\n",
              "\n",
              "    <script>\n",
              "      const buttonEl =\n",
              "        document.querySelector('#df-90d13988-f13d-4545-9779-f07ed212ff6f button.colab-df-convert');\n",
              "      buttonEl.style.display =\n",
              "        google.colab.kernel.accessAllowed ? 'block' : 'none';\n",
              "\n",
              "      async function convertToInteractive(key) {\n",
              "        const element = document.querySelector('#df-90d13988-f13d-4545-9779-f07ed212ff6f');\n",
              "        const dataTable =\n",
              "          await google.colab.kernel.invokeFunction('convertToInteractive',\n",
              "                                                    [key], {});\n",
              "        if (!dataTable) return;\n",
              "\n",
              "        const docLinkHtml = 'Like what you see? Visit the ' +\n",
              "          '<a target=\"_blank\" href=https://colab.research.google.com/notebooks/data_table.ipynb>data table notebook</a>'\n",
              "          + ' to learn more about interactive tables.';\n",
              "        element.innerHTML = '';\n",
              "        dataTable['output_type'] = 'display_data';\n",
              "        await google.colab.output.renderOutput(dataTable, element);\n",
              "        const docLink = document.createElement('div');\n",
              "        docLink.innerHTML = docLinkHtml;\n",
              "        element.appendChild(docLink);\n",
              "      }\n",
              "    </script>\n",
              "  </div>\n",
              "\n",
              "\n",
              "<div id=\"df-d54b1010-040a-4c92-a268-d9cfefd1e821\">\n",
              "  <button class=\"colab-df-quickchart\" onclick=\"quickchart('df-d54b1010-040a-4c92-a268-d9cfefd1e821')\"\n",
              "            title=\"Suggest charts\"\n",
              "            style=\"display:none;\">\n",
              "\n",
              "<svg xmlns=\"http://www.w3.org/2000/svg\" height=\"24px\"viewBox=\"0 0 24 24\"\n",
              "     width=\"24px\">\n",
              "    <g>\n",
              "        <path d=\"M19 3H5c-1.1 0-2 .9-2 2v14c0 1.1.9 2 2 2h14c1.1 0 2-.9 2-2V5c0-1.1-.9-2-2-2zM9 17H7v-7h2v7zm4 0h-2V7h2v10zm4 0h-2v-4h2v4z\"/>\n",
              "    </g>\n",
              "</svg>\n",
              "  </button>\n",
              "\n",
              "<style>\n",
              "  .colab-df-quickchart {\n",
              "      --bg-color: #E8F0FE;\n",
              "      --fill-color: #1967D2;\n",
              "      --hover-bg-color: #E2EBFA;\n",
              "      --hover-fill-color: #174EA6;\n",
              "      --disabled-fill-color: #AAA;\n",
              "      --disabled-bg-color: #DDD;\n",
              "  }\n",
              "\n",
              "  [theme=dark] .colab-df-quickchart {\n",
              "      --bg-color: #3B4455;\n",
              "      --fill-color: #D2E3FC;\n",
              "      --hover-bg-color: #434B5C;\n",
              "      --hover-fill-color: #FFFFFF;\n",
              "      --disabled-bg-color: #3B4455;\n",
              "      --disabled-fill-color: #666;\n",
              "  }\n",
              "\n",
              "  .colab-df-quickchart {\n",
              "    background-color: var(--bg-color);\n",
              "    border: none;\n",
              "    border-radius: 50%;\n",
              "    cursor: pointer;\n",
              "    display: none;\n",
              "    fill: var(--fill-color);\n",
              "    height: 32px;\n",
              "    padding: 0;\n",
              "    width: 32px;\n",
              "  }\n",
              "\n",
              "  .colab-df-quickchart:hover {\n",
              "    background-color: var(--hover-bg-color);\n",
              "    box-shadow: 0 1px 2px rgba(60, 64, 67, 0.3), 0 1px 3px 1px rgba(60, 64, 67, 0.15);\n",
              "    fill: var(--button-hover-fill-color);\n",
              "  }\n",
              "\n",
              "  .colab-df-quickchart-complete:disabled,\n",
              "  .colab-df-quickchart-complete:disabled:hover {\n",
              "    background-color: var(--disabled-bg-color);\n",
              "    fill: var(--disabled-fill-color);\n",
              "    box-shadow: none;\n",
              "  }\n",
              "\n",
              "  .colab-df-spinner {\n",
              "    border: 2px solid var(--fill-color);\n",
              "    border-color: transparent;\n",
              "    border-bottom-color: var(--fill-color);\n",
              "    animation:\n",
              "      spin 1s steps(1) infinite;\n",
              "  }\n",
              "\n",
              "  @keyframes spin {\n",
              "    0% {\n",
              "      border-color: transparent;\n",
              "      border-bottom-color: var(--fill-color);\n",
              "      border-left-color: var(--fill-color);\n",
              "    }\n",
              "    20% {\n",
              "      border-color: transparent;\n",
              "      border-left-color: var(--fill-color);\n",
              "      border-top-color: var(--fill-color);\n",
              "    }\n",
              "    30% {\n",
              "      border-color: transparent;\n",
              "      border-left-color: var(--fill-color);\n",
              "      border-top-color: var(--fill-color);\n",
              "      border-right-color: var(--fill-color);\n",
              "    }\n",
              "    40% {\n",
              "      border-color: transparent;\n",
              "      border-right-color: var(--fill-color);\n",
              "      border-top-color: var(--fill-color);\n",
              "    }\n",
              "    60% {\n",
              "      border-color: transparent;\n",
              "      border-right-color: var(--fill-color);\n",
              "    }\n",
              "    80% {\n",
              "      border-color: transparent;\n",
              "      border-right-color: var(--fill-color);\n",
              "      border-bottom-color: var(--fill-color);\n",
              "    }\n",
              "    90% {\n",
              "      border-color: transparent;\n",
              "      border-bottom-color: var(--fill-color);\n",
              "    }\n",
              "  }\n",
              "</style>\n",
              "\n",
              "  <script>\n",
              "    async function quickchart(key) {\n",
              "      const quickchartButtonEl =\n",
              "        document.querySelector('#' + key + ' button');\n",
              "      quickchartButtonEl.disabled = true;  // To prevent multiple clicks.\n",
              "      quickchartButtonEl.classList.add('colab-df-spinner');\n",
              "      try {\n",
              "        const charts = await google.colab.kernel.invokeFunction(\n",
              "            'suggestCharts', [key], {});\n",
              "      } catch (error) {\n",
              "        console.error('Error during call to suggestCharts:', error);\n",
              "      }\n",
              "      quickchartButtonEl.classList.remove('colab-df-spinner');\n",
              "      quickchartButtonEl.classList.add('colab-df-quickchart-complete');\n",
              "    }\n",
              "    (() => {\n",
              "      let quickchartButtonEl =\n",
              "        document.querySelector('#df-d54b1010-040a-4c92-a268-d9cfefd1e821 button');\n",
              "      quickchartButtonEl.style.display =\n",
              "        google.colab.kernel.accessAllowed ? 'block' : 'none';\n",
              "    })();\n",
              "  </script>\n",
              "</div>\n",
              "\n",
              "  <div id=\"id_ccaca0f4-2ec4-4dd1-936b-f0d285fd3eaa\">\n",
              "    <style>\n",
              "      .colab-df-generate {\n",
              "        background-color: #E8F0FE;\n",
              "        border: none;\n",
              "        border-radius: 50%;\n",
              "        cursor: pointer;\n",
              "        display: none;\n",
              "        fill: #1967D2;\n",
              "        height: 32px;\n",
              "        padding: 0 0 0 0;\n",
              "        width: 32px;\n",
              "      }\n",
              "\n",
              "      .colab-df-generate:hover {\n",
              "        background-color: #E2EBFA;\n",
              "        box-shadow: 0px 1px 2px rgba(60, 64, 67, 0.3), 0px 1px 3px 1px rgba(60, 64, 67, 0.15);\n",
              "        fill: #174EA6;\n",
              "      }\n",
              "\n",
              "      [theme=dark] .colab-df-generate {\n",
              "        background-color: #3B4455;\n",
              "        fill: #D2E3FC;\n",
              "      }\n",
              "\n",
              "      [theme=dark] .colab-df-generate:hover {\n",
              "        background-color: #434B5C;\n",
              "        box-shadow: 0px 1px 3px 1px rgba(0, 0, 0, 0.15);\n",
              "        filter: drop-shadow(0px 1px 2px rgba(0, 0, 0, 0.3));\n",
              "        fill: #FFFFFF;\n",
              "      }\n",
              "    </style>\n",
              "    <button class=\"colab-df-generate\" onclick=\"generateWithVariable('crosstab2')\"\n",
              "            title=\"Generate code using this dataframe.\"\n",
              "            style=\"display:none;\">\n",
              "\n",
              "  <svg xmlns=\"http://www.w3.org/2000/svg\" height=\"24px\"viewBox=\"0 0 24 24\"\n",
              "       width=\"24px\">\n",
              "    <path d=\"M7,19H8.4L18.45,9,17,7.55,7,17.6ZM5,21V16.75L18.45,3.32a2,2,0,0,1,2.83,0l1.4,1.43a1.91,1.91,0,0,1,.58,1.4,1.91,1.91,0,0,1-.58,1.4L9.25,21ZM18.45,9,17,7.55Zm-12,3A5.31,5.31,0,0,0,4.9,8.1,5.31,5.31,0,0,0,1,6.5,5.31,5.31,0,0,0,4.9,4.9,5.31,5.31,0,0,0,6.5,1,5.31,5.31,0,0,0,8.1,4.9,5.31,5.31,0,0,0,12,6.5,5.46,5.46,0,0,0,6.5,12Z\"/>\n",
              "  </svg>\n",
              "    </button>\n",
              "    <script>\n",
              "      (() => {\n",
              "      const buttonEl =\n",
              "        document.querySelector('#id_ccaca0f4-2ec4-4dd1-936b-f0d285fd3eaa button.colab-df-generate');\n",
              "      buttonEl.style.display =\n",
              "        google.colab.kernel.accessAllowed ? 'block' : 'none';\n",
              "\n",
              "      buttonEl.onclick = () => {\n",
              "        google.colab.notebook.generateWithVariable('crosstab2');\n",
              "      }\n",
              "      })();\n",
              "    </script>\n",
              "  </div>\n",
              "\n",
              "    </div>\n",
              "  </div>\n"
            ],
            "application/vnd.google.colaboratory.intrinsic+json": {
              "type": "dataframe",
              "variable_name": "crosstab2"
            }
          },
          "metadata": {},
          "execution_count": 119
        }
      ]
    },
    {
      "cell_type": "code",
      "source": [
        "# Exclude the the low-activity customers from the dataframe\n",
        "df_ords_prods_cust_merge_keep = df_ords_prods_cust_merge[df_ords_prods_cust_merge['customer_activity_flag'] == 'keep']"
      ],
      "metadata": {
        "id": "0jfk33a9Do30"
      },
      "execution_count": 120,
      "outputs": []
    },
    {
      "cell_type": "code",
      "source": [
        "#We can see that we have the same number of row in this new database as the number of 'keep' rows from the customer_activity_flag\n",
        "df_ords_prods_cust_merge_keep.shape"
      ],
      "metadata": {
        "id": "HmQEJ15ZDpDP",
        "colab": {
          "base_uri": "https://localhost:8080/"
        },
        "outputId": "160859dc-0e74-4a3b-cf6e-586cab2f45b8"
      },
      "execution_count": 121,
      "outputs": [
        {
          "output_type": "execute_result",
          "data": {
            "text/plain": [
              "(2648423, 34)"
            ]
          },
          "metadata": {},
          "execution_count": 121
        }
      ]
    },
    {
      "cell_type": "code",
      "source": [
        "# Export the new sample\n",
        "\n",
        "# df_ords_prods_cust_merge_keep.to_pickle(os.path.join(path, '02 Data', 'Prepared Data','orders_product_customer_merge_sample_keep.pkl'))"
      ],
      "metadata": {
        "id": "1f-ZJQMNDpL_"
      },
      "execution_count": 122,
      "outputs": []
    },
    {
      "cell_type": "markdown",
      "source": [
        "# 7.Customer Profiling\n",
        "\n",
        "The marketing and business strategy units at Instacart want to create more-relevant marketing strategies for different products and are, thus, curious about customer profiling in their database. Create a profiling variable based on age, income, certain goods in the “department_id” column, and number of dependents. You might also use the “orders_day_of_week” and “order_hour_of_day” columns if you can think of a way they would impact customer profiles. (Hint: As an example, try thinking of what characteristics would lead you to the profile “Single adult” or “Young parent.”)"
      ],
      "metadata": {
        "id": "-BEIMomNSK_2"
      }
    },
    {
      "cell_type": "code",
      "source": [
        "df_ords_prods_cust_merge_keep.head(5)"
      ],
      "metadata": {
        "id": "rDsoMnpRUEW2",
        "colab": {
          "base_uri": "https://localhost:8080/",
          "height": 342
        },
        "outputId": "96078bd2-a339-42c6-a0b0-2016a0cf8a0c"
      },
      "execution_count": 123,
      "outputs": [
        {
          "output_type": "execute_result",
          "data": {
            "text/plain": [
              "   user_id  gender         state  age date_joined  n_dependants  \\\n",
              "0       90  Female  Pennsylvania   60   3/25/2017             1   \n",
              "1       90  Female  Pennsylvania   60   3/25/2017             1   \n",
              "2       90  Female  Pennsylvania   60   3/25/2017             1   \n",
              "3       90  Female  Pennsylvania   60   3/25/2017             1   \n",
              "4       90  Female  Pennsylvania   60   3/25/2017             1   \n",
              "\n",
              "  marital_status  income  order_id  order_number  ...  busiest_period_of_day  \\\n",
              "0        married   50952     28457            34  ...            Most orders   \n",
              "1        married   50952     27429            12  ...            Most orders   \n",
              "2        married   50952      3386            60  ...            Most orders   \n",
              "3        married   50952     -5680             3  ...            Most orders   \n",
              "4        married   50952    -28518             3  ...            Most orders   \n",
              "\n",
              "   max_order      loyalty_flag mean_price  spending_flag  customer_frequency  \\\n",
              "0         42    Loyal customer   8.075028    Low Spender                 8.0   \n",
              "1         12  Regular customer   7.716068    Low Spender                11.0   \n",
              "2         84    Loyal customer   7.991170    Low Spender                 4.0   \n",
              "3         44    Loyal customer   8.079674    Low Spender                 7.0   \n",
              "4          5      New customer   6.124142    Low Spender                20.0   \n",
              "\n",
              "      frequency_flag _merge     region  customer_activity_flag  \n",
              "0  Frequent customer   both  northeast                    keep  \n",
              "1   Regular customer   both  northeast                    keep  \n",
              "2  Frequent customer   both  northeast                    keep  \n",
              "3  Frequent customer   both  northeast                    keep  \n",
              "4   Regular customer   both  northeast                    keep  \n",
              "\n",
              "[5 rows x 34 columns]"
            ],
            "text/html": [
              "\n",
              "  <div id=\"df-fb36f850-0294-4b93-84cc-49bbabe65e66\" class=\"colab-df-container\">\n",
              "    <div>\n",
              "<style scoped>\n",
              "    .dataframe tbody tr th:only-of-type {\n",
              "        vertical-align: middle;\n",
              "    }\n",
              "\n",
              "    .dataframe tbody tr th {\n",
              "        vertical-align: top;\n",
              "    }\n",
              "\n",
              "    .dataframe thead th {\n",
              "        text-align: right;\n",
              "    }\n",
              "</style>\n",
              "<table border=\"1\" class=\"dataframe\">\n",
              "  <thead>\n",
              "    <tr style=\"text-align: right;\">\n",
              "      <th></th>\n",
              "      <th>user_id</th>\n",
              "      <th>gender</th>\n",
              "      <th>state</th>\n",
              "      <th>age</th>\n",
              "      <th>date_joined</th>\n",
              "      <th>n_dependants</th>\n",
              "      <th>marital_status</th>\n",
              "      <th>income</th>\n",
              "      <th>order_id</th>\n",
              "      <th>order_number</th>\n",
              "      <th>...</th>\n",
              "      <th>busiest_period_of_day</th>\n",
              "      <th>max_order</th>\n",
              "      <th>loyalty_flag</th>\n",
              "      <th>mean_price</th>\n",
              "      <th>spending_flag</th>\n",
              "      <th>customer_frequency</th>\n",
              "      <th>frequency_flag</th>\n",
              "      <th>_merge</th>\n",
              "      <th>region</th>\n",
              "      <th>customer_activity_flag</th>\n",
              "    </tr>\n",
              "  </thead>\n",
              "  <tbody>\n",
              "    <tr>\n",
              "      <th>0</th>\n",
              "      <td>90</td>\n",
              "      <td>Female</td>\n",
              "      <td>Pennsylvania</td>\n",
              "      <td>60</td>\n",
              "      <td>3/25/2017</td>\n",
              "      <td>1</td>\n",
              "      <td>married</td>\n",
              "      <td>50952</td>\n",
              "      <td>28457</td>\n",
              "      <td>34</td>\n",
              "      <td>...</td>\n",
              "      <td>Most orders</td>\n",
              "      <td>42</td>\n",
              "      <td>Loyal customer</td>\n",
              "      <td>8.075028</td>\n",
              "      <td>Low Spender</td>\n",
              "      <td>8.0</td>\n",
              "      <td>Frequent customer</td>\n",
              "      <td>both</td>\n",
              "      <td>northeast</td>\n",
              "      <td>keep</td>\n",
              "    </tr>\n",
              "    <tr>\n",
              "      <th>1</th>\n",
              "      <td>90</td>\n",
              "      <td>Female</td>\n",
              "      <td>Pennsylvania</td>\n",
              "      <td>60</td>\n",
              "      <td>3/25/2017</td>\n",
              "      <td>1</td>\n",
              "      <td>married</td>\n",
              "      <td>50952</td>\n",
              "      <td>27429</td>\n",
              "      <td>12</td>\n",
              "      <td>...</td>\n",
              "      <td>Most orders</td>\n",
              "      <td>12</td>\n",
              "      <td>Regular customer</td>\n",
              "      <td>7.716068</td>\n",
              "      <td>Low Spender</td>\n",
              "      <td>11.0</td>\n",
              "      <td>Regular customer</td>\n",
              "      <td>both</td>\n",
              "      <td>northeast</td>\n",
              "      <td>keep</td>\n",
              "    </tr>\n",
              "    <tr>\n",
              "      <th>2</th>\n",
              "      <td>90</td>\n",
              "      <td>Female</td>\n",
              "      <td>Pennsylvania</td>\n",
              "      <td>60</td>\n",
              "      <td>3/25/2017</td>\n",
              "      <td>1</td>\n",
              "      <td>married</td>\n",
              "      <td>50952</td>\n",
              "      <td>3386</td>\n",
              "      <td>60</td>\n",
              "      <td>...</td>\n",
              "      <td>Most orders</td>\n",
              "      <td>84</td>\n",
              "      <td>Loyal customer</td>\n",
              "      <td>7.991170</td>\n",
              "      <td>Low Spender</td>\n",
              "      <td>4.0</td>\n",
              "      <td>Frequent customer</td>\n",
              "      <td>both</td>\n",
              "      <td>northeast</td>\n",
              "      <td>keep</td>\n",
              "    </tr>\n",
              "    <tr>\n",
              "      <th>3</th>\n",
              "      <td>90</td>\n",
              "      <td>Female</td>\n",
              "      <td>Pennsylvania</td>\n",
              "      <td>60</td>\n",
              "      <td>3/25/2017</td>\n",
              "      <td>1</td>\n",
              "      <td>married</td>\n",
              "      <td>50952</td>\n",
              "      <td>-5680</td>\n",
              "      <td>3</td>\n",
              "      <td>...</td>\n",
              "      <td>Most orders</td>\n",
              "      <td>44</td>\n",
              "      <td>Loyal customer</td>\n",
              "      <td>8.079674</td>\n",
              "      <td>Low Spender</td>\n",
              "      <td>7.0</td>\n",
              "      <td>Frequent customer</td>\n",
              "      <td>both</td>\n",
              "      <td>northeast</td>\n",
              "      <td>keep</td>\n",
              "    </tr>\n",
              "    <tr>\n",
              "      <th>4</th>\n",
              "      <td>90</td>\n",
              "      <td>Female</td>\n",
              "      <td>Pennsylvania</td>\n",
              "      <td>60</td>\n",
              "      <td>3/25/2017</td>\n",
              "      <td>1</td>\n",
              "      <td>married</td>\n",
              "      <td>50952</td>\n",
              "      <td>-28518</td>\n",
              "      <td>3</td>\n",
              "      <td>...</td>\n",
              "      <td>Most orders</td>\n",
              "      <td>5</td>\n",
              "      <td>New customer</td>\n",
              "      <td>6.124142</td>\n",
              "      <td>Low Spender</td>\n",
              "      <td>20.0</td>\n",
              "      <td>Regular customer</td>\n",
              "      <td>both</td>\n",
              "      <td>northeast</td>\n",
              "      <td>keep</td>\n",
              "    </tr>\n",
              "  </tbody>\n",
              "</table>\n",
              "<p>5 rows × 34 columns</p>\n",
              "</div>\n",
              "    <div class=\"colab-df-buttons\">\n",
              "\n",
              "  <div class=\"colab-df-container\">\n",
              "    <button class=\"colab-df-convert\" onclick=\"convertToInteractive('df-fb36f850-0294-4b93-84cc-49bbabe65e66')\"\n",
              "            title=\"Convert this dataframe to an interactive table.\"\n",
              "            style=\"display:none;\">\n",
              "\n",
              "  <svg xmlns=\"http://www.w3.org/2000/svg\" height=\"24px\" viewBox=\"0 -960 960 960\">\n",
              "    <path d=\"M120-120v-720h720v720H120Zm60-500h600v-160H180v160Zm220 220h160v-160H400v160Zm0 220h160v-160H400v160ZM180-400h160v-160H180v160Zm440 0h160v-160H620v160ZM180-180h160v-160H180v160Zm440 0h160v-160H620v160Z\"/>\n",
              "  </svg>\n",
              "    </button>\n",
              "\n",
              "  <style>\n",
              "    .colab-df-container {\n",
              "      display:flex;\n",
              "      gap: 12px;\n",
              "    }\n",
              "\n",
              "    .colab-df-convert {\n",
              "      background-color: #E8F0FE;\n",
              "      border: none;\n",
              "      border-radius: 50%;\n",
              "      cursor: pointer;\n",
              "      display: none;\n",
              "      fill: #1967D2;\n",
              "      height: 32px;\n",
              "      padding: 0 0 0 0;\n",
              "      width: 32px;\n",
              "    }\n",
              "\n",
              "    .colab-df-convert:hover {\n",
              "      background-color: #E2EBFA;\n",
              "      box-shadow: 0px 1px 2px rgba(60, 64, 67, 0.3), 0px 1px 3px 1px rgba(60, 64, 67, 0.15);\n",
              "      fill: #174EA6;\n",
              "    }\n",
              "\n",
              "    .colab-df-buttons div {\n",
              "      margin-bottom: 4px;\n",
              "    }\n",
              "\n",
              "    [theme=dark] .colab-df-convert {\n",
              "      background-color: #3B4455;\n",
              "      fill: #D2E3FC;\n",
              "    }\n",
              "\n",
              "    [theme=dark] .colab-df-convert:hover {\n",
              "      background-color: #434B5C;\n",
              "      box-shadow: 0px 1px 3px 1px rgba(0, 0, 0, 0.15);\n",
              "      filter: drop-shadow(0px 1px 2px rgba(0, 0, 0, 0.3));\n",
              "      fill: #FFFFFF;\n",
              "    }\n",
              "  </style>\n",
              "\n",
              "    <script>\n",
              "      const buttonEl =\n",
              "        document.querySelector('#df-fb36f850-0294-4b93-84cc-49bbabe65e66 button.colab-df-convert');\n",
              "      buttonEl.style.display =\n",
              "        google.colab.kernel.accessAllowed ? 'block' : 'none';\n",
              "\n",
              "      async function convertToInteractive(key) {\n",
              "        const element = document.querySelector('#df-fb36f850-0294-4b93-84cc-49bbabe65e66');\n",
              "        const dataTable =\n",
              "          await google.colab.kernel.invokeFunction('convertToInteractive',\n",
              "                                                    [key], {});\n",
              "        if (!dataTable) return;\n",
              "\n",
              "        const docLinkHtml = 'Like what you see? Visit the ' +\n",
              "          '<a target=\"_blank\" href=https://colab.research.google.com/notebooks/data_table.ipynb>data table notebook</a>'\n",
              "          + ' to learn more about interactive tables.';\n",
              "        element.innerHTML = '';\n",
              "        dataTable['output_type'] = 'display_data';\n",
              "        await google.colab.output.renderOutput(dataTable, element);\n",
              "        const docLink = document.createElement('div');\n",
              "        docLink.innerHTML = docLinkHtml;\n",
              "        element.appendChild(docLink);\n",
              "      }\n",
              "    </script>\n",
              "  </div>\n",
              "\n",
              "\n",
              "<div id=\"df-a0d6567a-8b7d-4b14-8b57-2780fe1542b0\">\n",
              "  <button class=\"colab-df-quickchart\" onclick=\"quickchart('df-a0d6567a-8b7d-4b14-8b57-2780fe1542b0')\"\n",
              "            title=\"Suggest charts\"\n",
              "            style=\"display:none;\">\n",
              "\n",
              "<svg xmlns=\"http://www.w3.org/2000/svg\" height=\"24px\"viewBox=\"0 0 24 24\"\n",
              "     width=\"24px\">\n",
              "    <g>\n",
              "        <path d=\"M19 3H5c-1.1 0-2 .9-2 2v14c0 1.1.9 2 2 2h14c1.1 0 2-.9 2-2V5c0-1.1-.9-2-2-2zM9 17H7v-7h2v7zm4 0h-2V7h2v10zm4 0h-2v-4h2v4z\"/>\n",
              "    </g>\n",
              "</svg>\n",
              "  </button>\n",
              "\n",
              "<style>\n",
              "  .colab-df-quickchart {\n",
              "      --bg-color: #E8F0FE;\n",
              "      --fill-color: #1967D2;\n",
              "      --hover-bg-color: #E2EBFA;\n",
              "      --hover-fill-color: #174EA6;\n",
              "      --disabled-fill-color: #AAA;\n",
              "      --disabled-bg-color: #DDD;\n",
              "  }\n",
              "\n",
              "  [theme=dark] .colab-df-quickchart {\n",
              "      --bg-color: #3B4455;\n",
              "      --fill-color: #D2E3FC;\n",
              "      --hover-bg-color: #434B5C;\n",
              "      --hover-fill-color: #FFFFFF;\n",
              "      --disabled-bg-color: #3B4455;\n",
              "      --disabled-fill-color: #666;\n",
              "  }\n",
              "\n",
              "  .colab-df-quickchart {\n",
              "    background-color: var(--bg-color);\n",
              "    border: none;\n",
              "    border-radius: 50%;\n",
              "    cursor: pointer;\n",
              "    display: none;\n",
              "    fill: var(--fill-color);\n",
              "    height: 32px;\n",
              "    padding: 0;\n",
              "    width: 32px;\n",
              "  }\n",
              "\n",
              "  .colab-df-quickchart:hover {\n",
              "    background-color: var(--hover-bg-color);\n",
              "    box-shadow: 0 1px 2px rgba(60, 64, 67, 0.3), 0 1px 3px 1px rgba(60, 64, 67, 0.15);\n",
              "    fill: var(--button-hover-fill-color);\n",
              "  }\n",
              "\n",
              "  .colab-df-quickchart-complete:disabled,\n",
              "  .colab-df-quickchart-complete:disabled:hover {\n",
              "    background-color: var(--disabled-bg-color);\n",
              "    fill: var(--disabled-fill-color);\n",
              "    box-shadow: none;\n",
              "  }\n",
              "\n",
              "  .colab-df-spinner {\n",
              "    border: 2px solid var(--fill-color);\n",
              "    border-color: transparent;\n",
              "    border-bottom-color: var(--fill-color);\n",
              "    animation:\n",
              "      spin 1s steps(1) infinite;\n",
              "  }\n",
              "\n",
              "  @keyframes spin {\n",
              "    0% {\n",
              "      border-color: transparent;\n",
              "      border-bottom-color: var(--fill-color);\n",
              "      border-left-color: var(--fill-color);\n",
              "    }\n",
              "    20% {\n",
              "      border-color: transparent;\n",
              "      border-left-color: var(--fill-color);\n",
              "      border-top-color: var(--fill-color);\n",
              "    }\n",
              "    30% {\n",
              "      border-color: transparent;\n",
              "      border-left-color: var(--fill-color);\n",
              "      border-top-color: var(--fill-color);\n",
              "      border-right-color: var(--fill-color);\n",
              "    }\n",
              "    40% {\n",
              "      border-color: transparent;\n",
              "      border-right-color: var(--fill-color);\n",
              "      border-top-color: var(--fill-color);\n",
              "    }\n",
              "    60% {\n",
              "      border-color: transparent;\n",
              "      border-right-color: var(--fill-color);\n",
              "    }\n",
              "    80% {\n",
              "      border-color: transparent;\n",
              "      border-right-color: var(--fill-color);\n",
              "      border-bottom-color: var(--fill-color);\n",
              "    }\n",
              "    90% {\n",
              "      border-color: transparent;\n",
              "      border-bottom-color: var(--fill-color);\n",
              "    }\n",
              "  }\n",
              "</style>\n",
              "\n",
              "  <script>\n",
              "    async function quickchart(key) {\n",
              "      const quickchartButtonEl =\n",
              "        document.querySelector('#' + key + ' button');\n",
              "      quickchartButtonEl.disabled = true;  // To prevent multiple clicks.\n",
              "      quickchartButtonEl.classList.add('colab-df-spinner');\n",
              "      try {\n",
              "        const charts = await google.colab.kernel.invokeFunction(\n",
              "            'suggestCharts', [key], {});\n",
              "      } catch (error) {\n",
              "        console.error('Error during call to suggestCharts:', error);\n",
              "      }\n",
              "      quickchartButtonEl.classList.remove('colab-df-spinner');\n",
              "      quickchartButtonEl.classList.add('colab-df-quickchart-complete');\n",
              "    }\n",
              "    (() => {\n",
              "      let quickchartButtonEl =\n",
              "        document.querySelector('#df-a0d6567a-8b7d-4b14-8b57-2780fe1542b0 button');\n",
              "      quickchartButtonEl.style.display =\n",
              "        google.colab.kernel.accessAllowed ? 'block' : 'none';\n",
              "    })();\n",
              "  </script>\n",
              "</div>\n",
              "\n",
              "    </div>\n",
              "  </div>\n"
            ],
            "application/vnd.google.colaboratory.intrinsic+json": {
              "type": "dataframe",
              "variable_name": "df_ords_prods_cust_merge_keep"
            }
          },
          "metadata": {},
          "execution_count": 123
        }
      ]
    },
    {
      "cell_type": "markdown",
      "source": [
        "# 7.1 Age\n",
        "\n",
        "Spliting the data by age will give us an insight into the spending habits of each group and if they differ from one group to another. Its important to note that the lower age range (young adult) and highest age range (senior) is significantly smaller than the other two age groups which mirrors USA census data - Statista 2022 data"
      ],
      "metadata": {
        "id": "dr2SA7oR0XtK"
      }
    },
    {
      "cell_type": "code",
      "source": [
        "df_ords_prods_cust_merge_keep['age'].describe()"
      ],
      "metadata": {
        "id": "jTzDZaJXZKju",
        "colab": {
          "base_uri": "https://localhost:8080/"
        },
        "outputId": "4895d3e8-19da-42c8-c107-b965e1c1064f"
      },
      "execution_count": 124,
      "outputs": [
        {
          "output_type": "execute_result",
          "data": {
            "text/plain": [
              "count    2.648423e+06\n",
              "mean     5.067818e+01\n",
              "std      1.800330e+01\n",
              "min      1.800000e+01\n",
              "25%      3.300000e+01\n",
              "50%      5.100000e+01\n",
              "75%      6.500000e+01\n",
              "max      8.000000e+01\n",
              "Name: age, dtype: float64"
            ]
          },
          "metadata": {},
          "execution_count": 124
        }
      ]
    },
    {
      "cell_type": "code",
      "source": [
        "#The minimum age is 18 and maximum ages is 80"
      ],
      "metadata": {
        "id": "JjFogEDiZbZ0"
      },
      "execution_count": 125,
      "outputs": []
    },
    {
      "cell_type": "code",
      "source": [
        "#Criteria - we start the categories as 18years as we have identified this is the youngest customer age\n",
        "\n",
        "# Young Adult - 18-25 Years Old\n",
        "# Adult - 26 - 44 Years Old\n",
        "# Older Adult - 45 - 64 Years Old\n",
        "# Senior 65+"
      ],
      "metadata": {
        "id": "_4d1nAaefImm"
      },
      "execution_count": 126,
      "outputs": []
    },
    {
      "cell_type": "code",
      "source": [
        "# Dervive a new column grouping ages together using the loc method"
      ],
      "metadata": {
        "id": "8WJ8lHDafhaM"
      },
      "execution_count": 127,
      "outputs": []
    },
    {
      "cell_type": "code",
      "source": [
        "df_ords_prods_cust_merge_keep.loc[df_ords_prods_cust_merge_keep['age'] <= 25, 'age_group'] = 'Young Adult'\n"
      ],
      "metadata": {
        "id": "aqCxRKXKfhm1",
        "colab": {
          "base_uri": "https://localhost:8080/"
        },
        "outputId": "93151f34-5de1-474e-9dab-a365c65d6e88"
      },
      "execution_count": 128,
      "outputs": [
        {
          "output_type": "stream",
          "name": "stderr",
          "text": [
            "<ipython-input-128-82bebff52d97>:1: SettingWithCopyWarning: \n",
            "A value is trying to be set on a copy of a slice from a DataFrame.\n",
            "Try using .loc[row_indexer,col_indexer] = value instead\n",
            "\n",
            "See the caveats in the documentation: https://pandas.pydata.org/pandas-docs/stable/user_guide/indexing.html#returning-a-view-versus-a-copy\n",
            "  df_ords_prods_cust_merge_keep.loc[df_ords_prods_cust_merge_keep['age'] <= 25, 'age_group'] = 'Young Adult'\n"
          ]
        }
      ]
    },
    {
      "cell_type": "code",
      "source": [
        "df_ords_prods_cust_merge_keep.loc[(df_ords_prods_cust_merge_keep['age'] > 25) & (df_ords_prods_cust_merge['age'] <= 44),\n",
        "'age_group'] = 'Adult'"
      ],
      "metadata": {
        "id": "0AmAE0KtfhvD"
      },
      "execution_count": 129,
      "outputs": []
    },
    {
      "cell_type": "markdown",
      "source": [],
      "metadata": {
        "id": "cKAaIGMeuvkW"
      }
    },
    {
      "cell_type": "code",
      "source": [
        "df_ords_prods_cust_merge_keep.loc[(df_ords_prods_cust_merge_keep['age'] > 44) & (df_ords_prods_cust_merge['age'] <= 64),\n",
        "'age_group'] = 'Older Adult'"
      ],
      "metadata": {
        "id": "qvr7qrpjgZyc"
      },
      "execution_count": 130,
      "outputs": []
    },
    {
      "cell_type": "code",
      "source": [
        "df_ords_prods_cust_merge_keep.loc[df_ords_prods_cust_merge_keep['age'] > 64, 'age_group'] = 'Senior'"
      ],
      "metadata": {
        "id": "Wc556mZpfh30"
      },
      "execution_count": 131,
      "outputs": []
    },
    {
      "cell_type": "code",
      "source": [
        "df_ords_prods_cust_merge_keep['age_group'].value_counts(dropna = False)"
      ],
      "metadata": {
        "id": "ImCHesCrjWT9",
        "colab": {
          "base_uri": "https://localhost:8080/"
        },
        "outputId": "cfe82eb4-abaf-4b50-bf66-ff2d98857003"
      },
      "execution_count": 132,
      "outputs": [
        {
          "output_type": "execute_result",
          "data": {
            "text/plain": [
              "age_group\n",
              "Older Adult    998600\n",
              "Adult          720872\n",
              "Senior         686557\n",
              "Young Adult    242394\n",
              "Name: count, dtype: int64"
            ]
          },
          "metadata": {},
          "execution_count": 132
        }
      ]
    },
    {
      "cell_type": "markdown",
      "source": [
        "# 7.2 Dependents\n",
        "\n",
        "We will explore whether or not customers have dependants or not. This could be a factor that effects spending patterns and could be used for targeted marketing campaigns\n",
        "\n",
        "```\n",
        "# This is formatted as code\n",
        "```\n",
        "\n"
      ],
      "metadata": {
        "id": "0ltNmCmQvqP2"
      }
    },
    {
      "cell_type": "code",
      "source": [
        "# We will derive a new column using the loc method"
      ],
      "metadata": {
        "id": "tvGlLDDx0K0N"
      },
      "execution_count": 133,
      "outputs": []
    },
    {
      "cell_type": "code",
      "source": [
        "# Criteria\n",
        "# 0 dependants 'no dependants'\n",
        "# > 0 'dependents'"
      ],
      "metadata": {
        "id": "PsBjCSB1z2_T"
      },
      "execution_count": 134,
      "outputs": []
    },
    {
      "cell_type": "code",
      "source": [
        "df_ords_prods_cust_merge_keep.loc[df_ords_prods_cust_merge_keep['n_dependants'] == 0, 'dependants_flag'] = 'No Dependants'"
      ],
      "metadata": {
        "id": "7ts1W9ZUwBBm",
        "colab": {
          "base_uri": "https://localhost:8080/"
        },
        "outputId": "df431c13-fee3-4aed-fd70-aee7f49db429"
      },
      "execution_count": 135,
      "outputs": [
        {
          "output_type": "stream",
          "name": "stderr",
          "text": [
            "<ipython-input-135-3798cbe3924a>:1: SettingWithCopyWarning: \n",
            "A value is trying to be set on a copy of a slice from a DataFrame.\n",
            "Try using .loc[row_indexer,col_indexer] = value instead\n",
            "\n",
            "See the caveats in the documentation: https://pandas.pydata.org/pandas-docs/stable/user_guide/indexing.html#returning-a-view-versus-a-copy\n",
            "  df_ords_prods_cust_merge_keep.loc[df_ords_prods_cust_merge_keep['n_dependants'] == 0, 'dependants_flag'] = 'No Dependants'\n"
          ]
        }
      ]
    },
    {
      "cell_type": "code",
      "source": [
        "df_ords_prods_cust_merge_keep.loc[df_ords_prods_cust_merge_keep['n_dependants'] > 0, 'dependants_flag'] = 'Dependants'"
      ],
      "metadata": {
        "id": "1eAtPW7j1nEG"
      },
      "execution_count": 136,
      "outputs": []
    },
    {
      "cell_type": "code",
      "source": [
        "#Check the the dependant_flag\n",
        "df_ords_prods_cust_merge_keep['dependants_flag'].value_counts(dropna = False)"
      ],
      "metadata": {
        "id": "qdl9ftlR2U5f",
        "colab": {
          "base_uri": "https://localhost:8080/"
        },
        "outputId": "c3db6d95-3509-46aa-b791-0fdce4814321"
      },
      "execution_count": 137,
      "outputs": [
        {
          "output_type": "execute_result",
          "data": {
            "text/plain": [
              "dependants_flag\n",
              "Dependants       1881556\n",
              "No Dependants     766867\n",
              "Name: count, dtype: int64"
            ]
          },
          "metadata": {},
          "execution_count": 137
        }
      ]
    },
    {
      "cell_type": "markdown",
      "source": [
        "# 7.3 Income\n",
        "\n",
        "Income can greatly effect spending habit so its important to profile our customers to see if income effects spending patterns and the iteams customer group decided to spend on.\n"
      ],
      "metadata": {
        "id": "nNNHsaD-MK0s"
      }
    },
    {
      "cell_type": "code",
      "source": [
        "# According to the Census Bureau's Income in the United States 2022 report:\n",
        "\n",
        "# Criteria\n",
        "# Lower class: less than or equal to $30,000.00\n",
        "# Lower-middle class: $30,001 – $58,020.00\n",
        "# Median household income is $58,021.00 - $74,580.00\n",
        "# Upper Class is $74,581.00 +"
      ],
      "metadata": {
        "id": "_BI1XoaUMHkR"
      },
      "execution_count": 138,
      "outputs": []
    },
    {
      "cell_type": "code",
      "source": [
        "df_ords_prods_cust_merge_keep['income'].describe()"
      ],
      "metadata": {
        "id": "YgXY3fu0PAeZ",
        "colab": {
          "base_uri": "https://localhost:8080/"
        },
        "outputId": "0f417082-b269-42d0-e664-c95ae3d9d5e9"
      },
      "execution_count": 139,
      "outputs": [
        {
          "output_type": "execute_result",
          "data": {
            "text/plain": [
              "count    2.648423e+06\n",
              "mean     9.774798e+04\n",
              "std      3.622575e+04\n",
              "min      3.054100e+04\n",
              "25%      7.069900e+04\n",
              "50%      9.917200e+04\n",
              "75%      1.175720e+05\n",
              "max      1.672930e+05\n",
              "Name: income, dtype: float64"
            ]
          },
          "metadata": {},
          "execution_count": 139
        }
      ]
    },
    {
      "cell_type": "code",
      "source": [
        "# We can see the Min Income is $30,541.00 and the Max Income is $167,293.00\n",
        "# Therefore we do not have any customers in the lower class classification which unfortunatley means they are not represented in this sample."
      ],
      "metadata": {
        "id": "Dj-qBNJ5Px2g"
      },
      "execution_count": 140,
      "outputs": []
    },
    {
      "cell_type": "code",
      "source": [
        "df_ords_prods_cust_merge_keep.loc[df_ords_prods_cust_merge_keep['income'] <= 30000,'income_class'] = 'Lower Class Income'"
      ],
      "metadata": {
        "id": "LxbUwFLnQbAM",
        "colab": {
          "base_uri": "https://localhost:8080/"
        },
        "outputId": "10613cfe-8779-4534-d9e3-63706f74d025"
      },
      "execution_count": 141,
      "outputs": [
        {
          "output_type": "stream",
          "name": "stderr",
          "text": [
            "<ipython-input-141-a1fd7c34a398>:1: SettingWithCopyWarning: \n",
            "A value is trying to be set on a copy of a slice from a DataFrame.\n",
            "Try using .loc[row_indexer,col_indexer] = value instead\n",
            "\n",
            "See the caveats in the documentation: https://pandas.pydata.org/pandas-docs/stable/user_guide/indexing.html#returning-a-view-versus-a-copy\n",
            "  df_ords_prods_cust_merge_keep.loc[df_ords_prods_cust_merge_keep['income'] <= 30000,'income_class'] = 'Lower Class Income'\n"
          ]
        }
      ]
    },
    {
      "cell_type": "code",
      "source": [
        "df_ords_prods_cust_merge_keep.loc[(df_ords_prods_cust_merge_keep['income'] >= 30001) & (df_ords_prods_cust_merge['income'] <= 58020),\n",
        "'income_class'] = 'Lower-Middle Class Income'"
      ],
      "metadata": {
        "id": "qwjqcAeYQbKy"
      },
      "execution_count": 142,
      "outputs": []
    },
    {
      "cell_type": "code",
      "source": [
        "df_ords_prods_cust_merge_keep.loc[(df_ords_prods_cust_merge_keep['income'] >= 58021.00) & (df_ords_prods_cust_merge['income'] <= 74580),\n",
        "'income_class'] = 'Median Class Income'"
      ],
      "metadata": {
        "id": "igbhTLfvQbVr"
      },
      "execution_count": 143,
      "outputs": []
    },
    {
      "cell_type": "code",
      "source": [
        "df_ords_prods_cust_merge_keep.loc[df_ords_prods_cust_merge_keep['income'] >= 74581,'income_class'] = 'Upper Class Income'"
      ],
      "metadata": {
        "id": "26AIbzCTQbfn"
      },
      "execution_count": 144,
      "outputs": []
    },
    {
      "cell_type": "code",
      "source": [
        "#check the new column\n",
        "df_ords_prods_cust_merge_keep['income_class'].value_counts(dropna = False)"
      ],
      "metadata": {
        "id": "h25inPQqTo06",
        "colab": {
          "base_uri": "https://localhost:8080/"
        },
        "outputId": "6b78071a-9836-4ecd-f5d6-2af660a93ce1"
      },
      "execution_count": 145,
      "outputs": [
        {
          "output_type": "execute_result",
          "data": {
            "text/plain": [
              "income_class\n",
              "Upper Class Income           1835587\n",
              "Lower-Middle Class Income     473226\n",
              "Median Class Income           339610\n",
              "Name: count, dtype: int64"
            ]
          },
          "metadata": {},
          "execution_count": 145
        }
      ]
    },
    {
      "cell_type": "markdown",
      "source": [
        "# 7.4 Orders_day_of_week\n",
        "\n",
        "The standard working week in the USA is Monday to Friday. We can split our order_days_per_week into working days(weekdays) vs non working days(weekends). we can later use this to see if there is more business on weekends or workdays depending on customer groups."
      ],
      "metadata": {
        "id": "IP2vOnwfUydL"
      }
    },
    {
      "cell_type": "code",
      "source": [
        "# Criteria (as stated on the project brief)\n",
        "# 0 = Saturday\n",
        "# 1 = Sunday\n",
        "# 2 = Monday\n",
        "# 3 = Tuesday\n",
        "# 4 = Wednesday\n",
        "# 5 = Thursday\n",
        "# 6 = Friday\n"
      ],
      "metadata": {
        "id": "gjNJfgf5e72L"
      },
      "execution_count": 146,
      "outputs": []
    },
    {
      "cell_type": "code",
      "source": [
        "df_ords_prods_cust_merge_keep.columns"
      ],
      "metadata": {
        "id": "cvOICx41pXfD",
        "colab": {
          "base_uri": "https://localhost:8080/"
        },
        "outputId": "c3f2dbc6-f01f-4604-d081-b8f871e05029"
      },
      "execution_count": 147,
      "outputs": [
        {
          "output_type": "execute_result",
          "data": {
            "text/plain": [
              "Index(['user_id', 'gender', 'state', 'age', 'date_joined', 'n_dependants',\n",
              "       'marital_status', 'income', 'order_id', 'order_number',\n",
              "       'orders_day_of_week', 'order_hour_of_day', 'days_since_prior_order',\n",
              "       'first_order', 'product_id', 'add_to_cart_order', 'reordered',\n",
              "       'product_name', 'aisle_id', 'department_id', 'prices',\n",
              "       'price_range_loc', 'busiest_day', 'Busiest_Days(plural)',\n",
              "       'busiest_period_of_day', 'max_order', 'loyalty_flag', 'mean_price',\n",
              "       'spending_flag', 'customer_frequency', 'frequency_flag', '_merge',\n",
              "       'region', 'customer_activity_flag', 'age_group', 'dependants_flag',\n",
              "       'income_class'],\n",
              "      dtype='object')"
            ]
          },
          "metadata": {},
          "execution_count": 147
        }
      ]
    },
    {
      "cell_type": "code",
      "source": [
        "df_ords_prods_cust_merge_keep.loc[df_ords_prods_cust_merge_keep['orders_day_of_week'].isin([0, 1]), 'order_day_type'] = 'Non-working day - weekend'"
      ],
      "metadata": {
        "id": "i1ooO_HWfBqI",
        "colab": {
          "base_uri": "https://localhost:8080/"
        },
        "outputId": "516b327b-966f-4f62-a9b0-05195f88d9b6"
      },
      "execution_count": 148,
      "outputs": [
        {
          "output_type": "stream",
          "name": "stderr",
          "text": [
            "<ipython-input-148-5efed5d9494b>:1: SettingWithCopyWarning: \n",
            "A value is trying to be set on a copy of a slice from a DataFrame.\n",
            "Try using .loc[row_indexer,col_indexer] = value instead\n",
            "\n",
            "See the caveats in the documentation: https://pandas.pydata.org/pandas-docs/stable/user_guide/indexing.html#returning-a-view-versus-a-copy\n",
            "  df_ords_prods_cust_merge_keep.loc[df_ords_prods_cust_merge_keep['orders_day_of_week'].isin([0, 1]), 'order_day_type'] = 'Non-working day - weekend'\n"
          ]
        }
      ]
    },
    {
      "cell_type": "code",
      "source": [
        "df_ords_prods_cust_merge_keep.loc[df_ords_prods_cust_merge_keep['orders_day_of_week'].isin([2, 3, 4, 5, 6]), 'order_day_type'] = 'Working days -weekdays'"
      ],
      "metadata": {
        "id": "UH77sByBZetr"
      },
      "execution_count": 149,
      "outputs": []
    },
    {
      "cell_type": "code",
      "source": [
        "#Check the new column\n",
        "df_ords_prods_cust_merge_keep['order_day_type'].value_counts(dropna = False)"
      ],
      "metadata": {
        "id": "M39UbUvStA9t",
        "colab": {
          "base_uri": "https://localhost:8080/"
        },
        "outputId": "7045b7a1-cbfe-476b-c547-0bc6d7cadb9b"
      },
      "execution_count": 150,
      "outputs": [
        {
          "output_type": "execute_result",
          "data": {
            "text/plain": [
              "order_day_type\n",
              "Working days -weekdays       1680920\n",
              "Non-working day - weekend     967503\n",
              "Name: count, dtype: int64"
            ]
          },
          "metadata": {},
          "execution_count": 150
        }
      ]
    },
    {
      "cell_type": "markdown",
      "source": [
        "# 8. Visualisation of Customer Profile Distribution\n",
        "\n",
        "Create an appropriate visualization to show the distribution of profiles."
      ],
      "metadata": {
        "id": "cUKVeclmvRih"
      }
    },
    {
      "cell_type": "markdown",
      "source": [
        "# 8.1 - Age\n",
        "\n",
        "We have decided to display the ages groups of the customers on a piechart as this is a clear way to dispay each age group as a proportion of the  total of all customers."
      ],
      "metadata": {
        "id": "tBjC2N8Avq_R"
      }
    },
    {
      "cell_type": "code",
      "source": [
        "## First, create a table of age_group sets\n",
        "age_group_set = df_ords_prods_cust_merge_keep['age_group'].value_counts()"
      ],
      "metadata": {
        "id": "JPT3jWuPvvom"
      },
      "execution_count": 151,
      "outputs": []
    },
    {
      "cell_type": "code",
      "source": [
        "#Create the piechart\n",
        "plt.figure(figsize=(5, 5)) # Size of the piechart\n",
        "\n",
        "plt.pie(age_group_set,\n",
        "        labels=age_group_set.index,\n",
        "        autopct='%.1f%%', # Show percentage to 1 decimal place\n",
        "        colors=['#fff2cc', '#f4cccc', '#d0e0e3', '#b6d7a8'], # Color palette\n",
        "        wedgeprops={'edgecolor': 'black'}) # properties of the pie chart slices, in this case, adding a black border around each slice.\n",
        "\n",
        "plt.title('Instacart Distribution of Customers by Age Group') # title"
      ],
      "metadata": {
        "id": "Ezpu8cE2xeaW",
        "colab": {
          "base_uri": "https://localhost:8080/",
          "height": 461
        },
        "outputId": "01a55619-6363-412f-ddcc-f5fcc98bdf90"
      },
      "execution_count": 152,
      "outputs": [
        {
          "output_type": "execute_result",
          "data": {
            "text/plain": [
              "Text(0.5, 1.0, 'Instacart Distribution of Customers by Age Group')"
            ]
          },
          "metadata": {},
          "execution_count": 152
        },
        {
          "output_type": "display_data",
          "data": {
            "text/plain": [
              "<Figure size 500x500 with 1 Axes>"
            ],
            "image/png": "[encoded data removed]"
          },
          "metadata": {}
        }
      ]
    },
    {
      "cell_type": "markdown",
      "source": [
        "We can clearly see that our largest customer base is Older Adults --> 45 - 64 Years Old"
      ],
      "metadata": {
        "id": "9hVOewcl1w0B"
      }
    },
    {
      "cell_type": "markdown",
      "source": [
        "# 8.2 Dependents\n",
        "\n",
        "We have decided to display these results on a bar chart."
      ],
      "metadata": {
        "id": "x6GFKFpJ4BR7"
      }
    },
    {
      "cell_type": "code",
      "source": [
        "# Use a sample of only the columns needed\n",
        "sample = df_ords_prods_cust_merge_keep[['dependants_flag']]"
      ],
      "metadata": {
        "id": "buxLA_L94HI5"
      },
      "execution_count": 153,
      "outputs": []
    },
    {
      "cell_type": "code",
      "source": [
        "bar = sample['dependants_flag'].value_counts().plot.bar()\n",
        "plt.title('InstaCart Customers With or Without Dependants')"
      ],
      "metadata": {
        "id": "EoEKE56J5mh5",
        "colab": {
          "base_uri": "https://localhost:8080/",
          "height": 582
        },
        "outputId": "34fe336c-2b77-43c0-87ca-6e7eff6762fd"
      },
      "execution_count": 154,
      "outputs": [
        {
          "output_type": "execute_result",
          "data": {
            "text/plain": [
              "Text(0.5, 1.0, 'InstaCart Customers With or Without Dependants')"
            ]
          },
          "metadata": {},
          "execution_count": 154
        },
        {
          "output_type": "display_data",
          "data": {
            "text/plain": [
              "<Figure size 640x480 with 1 Axes>"
            ],
            "image/png": "[encoded data removed]"
          },
          "metadata": {}
        }
      ]
    },
    {
      "cell_type": "markdown",
      "source": [
        "We can clearly see that we have more customers with dependants than without. This can also be seen in the breakdown below."
      ],
      "metadata": {
        "id": "LU1ua58N6Lr9"
      }
    },
    {
      "cell_type": "code",
      "source": [
        "df_ords_prods_cust_merge_keep['dependants_flag'].value_counts(dropna = False)"
      ],
      "metadata": {
        "id": "-b2O6pvx6SxB",
        "colab": {
          "base_uri": "https://localhost:8080/"
        },
        "outputId": "891fb5d9-bfab-4ce9-9652-9ae4b5a4bf2e"
      },
      "execution_count": 155,
      "outputs": [
        {
          "output_type": "execute_result",
          "data": {
            "text/plain": [
              "dependants_flag\n",
              "Dependants       1881556\n",
              "No Dependants     766867\n",
              "Name: count, dtype: int64"
            ]
          },
          "metadata": {},
          "execution_count": 155
        }
      ]
    },
    {
      "cell_type": "markdown",
      "source": [
        "# 8.3 Income\n",
        "\n",
        "We have decided to display income in a pie chart where we can easy see the percentage of our customers in each income bracket."
      ],
      "metadata": {
        "id": "AWw07Y1YELXt"
      }
    },
    {
      "cell_type": "code",
      "source": [
        "# First, create a table\n",
        "\n",
        "income_set = df_ords_prods_cust_merge_keep['income_class'].value_counts()"
      ],
      "metadata": {
        "id": "ivoGzxkzEFf-"
      },
      "execution_count": 156,
      "outputs": []
    },
    {
      "cell_type": "code",
      "source": [
        "#Create the piechart\n",
        "plt.figure(figsize=(5, 5)) # Size of the piechart\n",
        "\n",
        "plt.pie(income_set,\n",
        "        labels=income_set.index,\n",
        "        autopct='%.1f%%', # Show percentage to 1 decimal place\n",
        "        colors=['#7557c0', '#e69138', '#6aa84f'], # Color palette\n",
        "        wedgeprops={'edgecolor': 'black'}) # properties of the pie chart slices, in this case, adding a black border around each slice.\n",
        "\n",
        "plt.title('Instacart Customer Income Categories') # title"
      ],
      "metadata": {
        "id": "q5kz0NGaEFoq",
        "colab": {
          "base_uri": "https://localhost:8080/",
          "height": 461
        },
        "outputId": "8910c191-dc9e-4eab-b7ee-b3805cd45442"
      },
      "execution_count": 157,
      "outputs": [
        {
          "output_type": "execute_result",
          "data": {
            "text/plain": [
              "Text(0.5, 1.0, 'Instacart Customer Income Categories')"
            ]
          },
          "metadata": {},
          "execution_count": 157
        },
        {
          "output_type": "display_data",
          "data": {
            "text/plain": [
              "<Figure size 500x500 with 1 Axes>"
            ],
            "image/png": "[encoded data removed]"
          },
          "metadata": {}
        }
      ]
    },
    {
      "cell_type": "markdown",
      "source": [
        "We have the largest porportion in the upper class group meaning we have a higher proportion of customers that would be classed in the Upper Class income group according to the Census Bureau's Income in the United States 2022."
      ],
      "metadata": {
        "id": "gMQtS4cjGbYY"
      }
    },
    {
      "cell_type": "markdown",
      "source": [
        "# 8.4 Order_day_of_the_week\n",
        "\n",
        "We have decided to display the working days of the week orders vs non working days of the week results in a pie chart. This way we can easily see if there was business during the week vs the weekend."
      ],
      "metadata": {
        "id": "xZq6wla_HfOk"
      }
    },
    {
      "cell_type": "code",
      "source": [
        "## First, create a table of order_day_type\n",
        "order_day_type_set = df_ords_prods_cust_merge_keep['order_day_type'].value_counts()\n"
      ],
      "metadata": {
        "id": "mbfDrSCqEFxk"
      },
      "execution_count": 158,
      "outputs": []
    },
    {
      "cell_type": "code",
      "source": [
        "#Create the piechart\n",
        "plt.figure(figsize=(5, 5)) # Size of the piechart\n",
        "\n",
        "plt.pie(order_day_type_set,\n",
        "        labels=order_day_type_set.index,\n",
        "        autopct='%.1f%%', # Show percentage to 1 decimal place\n",
        "        colors=['#a64d79', '#3d85c6'], # Color palette\n",
        "        wedgeprops={'edgecolor': 'black'}) # properties of the pie chart slices, in this case, adding a black border around each slice.\n",
        "\n",
        "plt.title('Instacart Customer Orders - Weekend VS Weekdays') # title"
      ],
      "metadata": {
        "id": "UQobGxvkJKl7",
        "colab": {
          "base_uri": "https://localhost:8080/",
          "height": 461
        },
        "outputId": "432e0625-8885-4b50-8525-40a81b087a93"
      },
      "execution_count": 159,
      "outputs": [
        {
          "output_type": "execute_result",
          "data": {
            "text/plain": [
              "Text(0.5, 1.0, 'Instacart Customer Orders - Weekend VS Weekdays')"
            ]
          },
          "metadata": {},
          "execution_count": 159
        },
        {
          "output_type": "display_data",
          "data": {
            "text/plain": [
              "<Figure size 500x500 with 1 Axes>"
            ],
            "image/png": "[encoded data removed]"
          },
          "metadata": {}
        }
      ]
    },
    {
      "cell_type": "markdown",
      "source": [
        "More orders were placed during the week (working days) compared to the weekend (non- working days). This will need to be investigated further."
      ],
      "metadata": {
        "id": "UxrpraTYJhhw"
      }
    },
    {
      "cell_type": "markdown",
      "source": [
        "# 9. Aggregate the max, mean, and min variables on a customer-profile level for usage frequency and expenditure."
      ],
      "metadata": {
        "id": "e-TNwzVcSBVe"
      }
    },
    {
      "cell_type": "markdown",
      "source": [
        "**To find usage frequency we will look at the column days_since_prior - which records the day since a customer last order**\n",
        "\n",
        "\n",
        "**To find the expenditure we need to find an order total per order_id**"
      ],
      "metadata": {
        "id": "X3Y5YqUac0pM"
      }
    },
    {
      "cell_type": "code",
      "source": [
        "# We need to aggregate the order_id columns and other associated columns so we are able to condense the data to complete information per order_id.\n",
        "\n",
        "# From there we can aggreate the prices column to represent total orders per order_id"
      ],
      "metadata": {
        "id": "iLurzwPldUUX"
      },
      "execution_count": 160,
      "outputs": []
    },
    {
      "cell_type": "code",
      "source": [
        "# We will create a new aggregated dataframe where prices are sumed together to give the expenditure per order_id"
      ],
      "metadata": {
        "id": "mkY8qsofdUR_"
      },
      "execution_count": 161,
      "outputs": []
    },
    {
      "cell_type": "code",
      "source": [
        "df_ords_prods_cust_merge_keep.columns"
      ],
      "metadata": {
        "id": "GDu21td8d8AB",
        "colab": {
          "base_uri": "https://localhost:8080/"
        },
        "outputId": "791252b5-55ab-48ad-9a8d-be430e8e2a9c"
      },
      "execution_count": 162,
      "outputs": [
        {
          "output_type": "execute_result",
          "data": {
            "text/plain": [
              "Index(['user_id', 'gender', 'state', 'age', 'date_joined', 'n_dependants',\n",
              "       'marital_status', 'income', 'order_id', 'order_number',\n",
              "       'orders_day_of_week', 'order_hour_of_day', 'days_since_prior_order',\n",
              "       'first_order', 'product_id', 'add_to_cart_order', 'reordered',\n",
              "       'product_name', 'aisle_id', 'department_id', 'prices',\n",
              "       'price_range_loc', 'busiest_day', 'Busiest_Days(plural)',\n",
              "       'busiest_period_of_day', 'max_order', 'loyalty_flag', 'mean_price',\n",
              "       'spending_flag', 'customer_frequency', 'frequency_flag', '_merge',\n",
              "       'region', 'customer_activity_flag', 'age_group', 'dependants_flag',\n",
              "       'income_class', 'order_day_type'],\n",
              "      dtype='object')"
            ]
          },
          "metadata": {},
          "execution_count": 162
        }
      ]
    },
    {
      "cell_type": "code",
      "source": [
        "# Search for missing values\n",
        "df_ords_prods_cust_merge_keep.isnull(). sum()"
      ],
      "metadata": {
        "id": "6n0l4q2h72J0",
        "colab": {
          "base_uri": "https://localhost:8080/"
        },
        "outputId": "f0e585f4-eb24-4144-df31-75ea00bc9b69"
      },
      "execution_count": 163,
      "outputs": [
        {
          "output_type": "execute_result",
          "data": {
            "text/plain": [
              "user_id                        0\n",
              "gender                         0\n",
              "state                          0\n",
              "age                            0\n",
              "date_joined                    0\n",
              "n_dependants                   0\n",
              "marital_status                 0\n",
              "income                         0\n",
              "order_id                       0\n",
              "order_number                   0\n",
              "orders_day_of_week             0\n",
              "order_hour_of_day              0\n",
              "days_since_prior_order    141944\n",
              "first_order                    0\n",
              "product_id                     0\n",
              "add_to_cart_order              0\n",
              "reordered                      0\n",
              "product_name                   0\n",
              "aisle_id                       0\n",
              "department_id                  0\n",
              "prices                       367\n",
              "price_range_loc                0\n",
              "busiest_day                    0\n",
              "Busiest_Days(plural)           0\n",
              "busiest_period_of_day          0\n",
              "max_order                      0\n",
              "loyalty_flag                   0\n",
              "mean_price                     0\n",
              "spending_flag                  0\n",
              "customer_frequency             0\n",
              "frequency_flag                 0\n",
              "_merge                         0\n",
              "region                         0\n",
              "customer_activity_flag         0\n",
              "age_group                      0\n",
              "dependants_flag                0\n",
              "income_class                   0\n",
              "order_day_type                 0\n",
              "dtype: int64"
            ]
          },
          "metadata": {},
          "execution_count": 163
        }
      ]
    },
    {
      "cell_type": "code",
      "source": [
        "# I have 367 null prices in my dataframe, I have decided to make them 0 instead of exlcuding them as I can still us the information in the other columns."
      ],
      "metadata": {
        "id": "mwxcT7dN9WV2"
      },
      "execution_count": 164,
      "outputs": []
    },
    {
      "cell_type": "code",
      "source": [
        "df_ords_prods_cust_merge_keep.shape"
      ],
      "metadata": {
        "id": "kOL45N3A_jaO",
        "colab": {
          "base_uri": "https://localhost:8080/"
        },
        "outputId": "3f53488d-69e4-493f-f066-c2c02d51279e"
      },
      "execution_count": 165,
      "outputs": [
        {
          "output_type": "execute_result",
          "data": {
            "text/plain": [
              "(2648423, 38)"
            ]
          },
          "metadata": {},
          "execution_count": 165
        }
      ]
    },
    {
      "cell_type": "code",
      "source": [
        "# Change all missing prices to 0\n",
        "df_ords_prods_cust_merge_keep['prices'] = df_ords_prods_cust_merge_keep['prices'].fillna(0)"
      ],
      "metadata": {
        "id": "5s-W08Yx_Scp",
        "colab": {
          "base_uri": "https://localhost:8080/"
        },
        "outputId": "3c1bee61-370b-4f32-b6b6-3fc1a25decc9"
      },
      "execution_count": 166,
      "outputs": [
        {
          "output_type": "stream",
          "name": "stderr",
          "text": [
            "<ipython-input-166-b1698b6a1750>:2: SettingWithCopyWarning: \n",
            "A value is trying to be set on a copy of a slice from a DataFrame.\n",
            "Try using .loc[row_indexer,col_indexer] = value instead\n",
            "\n",
            "See the caveats in the documentation: https://pandas.pydata.org/pandas-docs/stable/user_guide/indexing.html#returning-a-view-versus-a-copy\n",
            "  df_ords_prods_cust_merge_keep['prices'] = df_ords_prods_cust_merge_keep['prices'].fillna(0)\n"
          ]
        }
      ]
    },
    {
      "cell_type": "code",
      "source": [
        "df_ords_prods_cust_merge_keep.shape"
      ],
      "metadata": {
        "id": "I5B54FDX_pJO",
        "colab": {
          "base_uri": "https://localhost:8080/"
        },
        "outputId": "9f0422f0-04fb-4eee-f7e2-ee7b8e02c587"
      },
      "execution_count": 167,
      "outputs": [
        {
          "output_type": "execute_result",
          "data": {
            "text/plain": [
              "(2648423, 38)"
            ]
          },
          "metadata": {},
          "execution_count": 167
        }
      ]
    },
    {
      "cell_type": "code",
      "source": [
        "df_ords_prods_cust_merge_keep.isnull(). sum()"
      ],
      "metadata": {
        "id": "NSd3qiXDAd-d",
        "colab": {
          "base_uri": "https://localhost:8080/"
        },
        "outputId": "59d7bacf-f9e1-4695-cd83-1d59b71b9736"
      },
      "execution_count": 168,
      "outputs": [
        {
          "output_type": "execute_result",
          "data": {
            "text/plain": [
              "user_id                        0\n",
              "gender                         0\n",
              "state                          0\n",
              "age                            0\n",
              "date_joined                    0\n",
              "n_dependants                   0\n",
              "marital_status                 0\n",
              "income                         0\n",
              "order_id                       0\n",
              "order_number                   0\n",
              "orders_day_of_week             0\n",
              "order_hour_of_day              0\n",
              "days_since_prior_order    141944\n",
              "first_order                    0\n",
              "product_id                     0\n",
              "add_to_cart_order              0\n",
              "reordered                      0\n",
              "product_name                   0\n",
              "aisle_id                       0\n",
              "department_id                  0\n",
              "prices                         0\n",
              "price_range_loc                0\n",
              "busiest_day                    0\n",
              "Busiest_Days(plural)           0\n",
              "busiest_period_of_day          0\n",
              "max_order                      0\n",
              "loyalty_flag                   0\n",
              "mean_price                     0\n",
              "spending_flag                  0\n",
              "customer_frequency             0\n",
              "frequency_flag                 0\n",
              "_merge                         0\n",
              "region                         0\n",
              "customer_activity_flag         0\n",
              "age_group                      0\n",
              "dependants_flag                0\n",
              "income_class                   0\n",
              "order_day_type                 0\n",
              "dtype: int64"
            ]
          },
          "metadata": {},
          "execution_count": 168
        }
      ]
    },
    {
      "cell_type": "code",
      "source": [
        "df_ords_prods_cust_merge_keep.dtypes"
      ],
      "metadata": {
        "id": "SAaTBKOxDsv7",
        "colab": {
          "base_uri": "https://localhost:8080/"
        },
        "outputId": "1d925fd4-280f-4b69-8e0b-871dbb01687c"
      },
      "execution_count": 169,
      "outputs": [
        {
          "output_type": "execute_result",
          "data": {
            "text/plain": [
              "user_id                      int64\n",
              "gender                    category\n",
              "state                     category\n",
              "age                          int64\n",
              "date_joined                 object\n",
              "n_dependants                 int64\n",
              "marital_status            category\n",
              "income                       int64\n",
              "order_id                     int16\n",
              "order_number                  int8\n",
              "orders_day_of_week            int8\n",
              "order_hour_of_day             int8\n",
              "days_since_prior_order     float64\n",
              "first_order               category\n",
              "product_id                   int16\n",
              "add_to_cart_order             int8\n",
              "reordered                     int8\n",
              "product_name                object\n",
              "aisle_id                     int32\n",
              "department_id                int32\n",
              "prices                     float16\n",
              "price_range_loc             object\n",
              "busiest_day               category\n",
              "Busiest_Days(plural)      category\n",
              "busiest_period_of_day       object\n",
              "max_order                    int64\n",
              "loyalty_flag              category\n",
              "mean_price                 float32\n",
              "spending_flag             category\n",
              "customer_frequency         float64\n",
              "frequency_flag            category\n",
              "_merge                    category\n",
              "region                      object\n",
              "customer_activity_flag      object\n",
              "age_group                   object\n",
              "dependants_flag             object\n",
              "income_class                object\n",
              "order_day_type              object\n",
              "dtype: object"
            ]
          },
          "metadata": {},
          "execution_count": 169
        }
      ]
    },
    {
      "cell_type": "code",
      "source": [
        "df_ords_prods_cust_merge_keep['prices'] = pd.to_numeric(df_ords_prods_cust_merge_keep['prices'], errors = 'coerce')"
      ],
      "metadata": {
        "id": "6kPtEA13FvuS",
        "colab": {
          "base_uri": "https://localhost:8080/"
        },
        "outputId": "11193d05-8094-4987-ce83-3ea5fd142561"
      },
      "execution_count": 170,
      "outputs": [
        {
          "output_type": "stream",
          "name": "stderr",
          "text": [
            "<ipython-input-170-415ffd4b699d>:1: SettingWithCopyWarning: \n",
            "A value is trying to be set on a copy of a slice from a DataFrame.\n",
            "Try using .loc[row_indexer,col_indexer] = value instead\n",
            "\n",
            "See the caveats in the documentation: https://pandas.pydata.org/pandas-docs/stable/user_guide/indexing.html#returning-a-view-versus-a-copy\n",
            "  df_ords_prods_cust_merge_keep['prices'] = pd.to_numeric(df_ords_prods_cust_merge_keep['prices'], errors = 'coerce')\n"
          ]
        }
      ]
    },
    {
      "cell_type": "code",
      "source": [],
      "metadata": {
        "id": "R41NoKacRuPG"
      },
      "execution_count": 170,
      "outputs": []
    },
    {
      "cell_type": "markdown",
      "source": [
        "# Export Data Frame to new Script (RAM issue)"
      ],
      "metadata": {
        "id": "pVlHerb-Ru88"
      }
    },
    {
      "cell_type": "code",
      "source": [
        "df_ords_prods_cust_merge_keep.to_pickle(os.path.join(path, '02 Data','Prepared Data', 'df_ords_prods_cust_merge_keep.pkl'))"
      ],
      "metadata": {
        "id": "6r7H_X-TR9c2"
      },
      "execution_count": 171,
      "outputs": []
    },
    {
      "cell_type": "code",
      "source": [],
      "metadata": {
        "id": "lo5II1hPR8tJ"
      },
      "execution_count": 171,
      "outputs": []
    }
  ]
}