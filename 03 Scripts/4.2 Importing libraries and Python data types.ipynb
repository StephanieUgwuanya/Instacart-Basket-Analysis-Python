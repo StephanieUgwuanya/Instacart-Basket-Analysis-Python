{
 "cells": [
  {
   "cell_type": "markdown",
   "id": "75b39d1b",
   "metadata": {},
   "source": [
    "# Importing libraries"
   ]
  },
  {
   "cell_type": "code",
   "execution_count": 2,
   "id": "36bb7647",
   "metadata": {},
   "outputs": [],
   "source": [
    "# Import libraries\n",
    "import pandas as pd\n",
    "import numpy as np\n",
    "import os"
   ]
  },
  {
   "cell_type": "markdown",
   "id": "3f51eb53",
   "metadata": {},
   "source": [
    "# Python Data Types"
   ]
  },
  {
   "cell_type": "code",
   "execution_count": 1,
   "id": "c7737c54",
   "metadata": {},
   "outputs": [],
   "source": [
    "x= 50"
   ]
  },
  {
   "cell_type": "code",
   "execution_count": 2,
   "id": "4dd24970",
   "metadata": {},
   "outputs": [],
   "source": [
    "y=50"
   ]
  },
  {
   "cell_type": "code",
   "execution_count": 3,
   "id": "9b2ae60d",
   "metadata": {},
   "outputs": [
    {
     "ename": "SyntaxError",
     "evalue": "cannot assign to expression (4094420140.py, line 1)",
     "output_type": "error",
     "traceback": [
      "\u001b[1;36m  Cell \u001b[1;32mIn[3], line 1\u001b[1;36m\u001b[0m\n\u001b[1;33m    x+y=\u001b[0m\n\u001b[1;37m    ^\u001b[0m\n\u001b[1;31mSyntaxError\u001b[0m\u001b[1;31m:\u001b[0m cannot assign to expression\n"
     ]
    }
   ],
   "source": [
    "x+y="
   ]
  },
  {
   "cell_type": "markdown",
   "id": "51bbaabc",
   "metadata": {},
   "source": [
    "# Code 3 different ways of reaching a result of 100 by adding or subtracting numeric variables."
   ]
  },
  {
   "cell_type": "code",
   "execution_count": 4,
   "id": "50e88283",
   "metadata": {},
   "outputs": [
    {
     "name": "stdout",
     "output_type": "stream",
     "text": [
      "100\n"
     ]
    }
   ],
   "source": [
    "print(x+y)"
   ]
  },
  {
   "cell_type": "code",
   "execution_count": 5,
   "id": "646530c0",
   "metadata": {},
   "outputs": [],
   "source": [
    "x=100"
   ]
  },
  {
   "cell_type": "code",
   "execution_count": 6,
   "id": "626807cb",
   "metadata": {},
   "outputs": [],
   "source": [
    "y=0"
   ]
  },
  {
   "cell_type": "code",
   "execution_count": 7,
   "id": "e32d4a72",
   "metadata": {},
   "outputs": [
    {
     "name": "stdout",
     "output_type": "stream",
     "text": [
      "100\n"
     ]
    }
   ],
   "source": [
    "print(x-y)"
   ]
  },
  {
   "cell_type": "code",
   "execution_count": 8,
   "id": "9fc3b2ea",
   "metadata": {},
   "outputs": [],
   "source": [
    "x=10"
   ]
  },
  {
   "cell_type": "code",
   "execution_count": 9,
   "id": "ad88ad98",
   "metadata": {},
   "outputs": [],
   "source": [
    "y=90"
   ]
  },
  {
   "cell_type": "code",
   "execution_count": 10,
   "id": "ffa8d291",
   "metadata": {},
   "outputs": [
    {
     "name": "stdout",
     "output_type": "stream",
     "text": [
      "100\n"
     ]
    }
   ],
   "source": [
    "print(x+y)"
   ]
  },
  {
   "cell_type": "markdown",
   "id": "9162c4c2",
   "metadata": {},
   "source": [
    "# Code 2 floating-point variables and divide them by each other."
   ]
  },
  {
   "cell_type": "code",
   "execution_count": 11,
   "id": "c6a1cbe4",
   "metadata": {},
   "outputs": [],
   "source": [
    "x= 300.50 "
   ]
  },
  {
   "cell_type": "code",
   "execution_count": 12,
   "id": "a8b9e8a0",
   "metadata": {},
   "outputs": [],
   "source": [
    "y=5.5"
   ]
  },
  {
   "cell_type": "code",
   "execution_count": 13,
   "id": "c1eb4a0f",
   "metadata": {},
   "outputs": [
    {
     "name": "stdout",
     "output_type": "stream",
     "text": [
      "54.63636363636363\n"
     ]
    }
   ],
   "source": [
    "print(x/y)"
   ]
  },
  {
   "cell_type": "code",
   "execution_count": 14,
   "id": "e47e28d9",
   "metadata": {},
   "outputs": [],
   "source": [
    "x=45.82"
   ]
  },
  {
   "cell_type": "code",
   "execution_count": 15,
   "id": "c18dc06d",
   "metadata": {},
   "outputs": [],
   "source": [
    "y=12.34"
   ]
  },
  {
   "cell_type": "code",
   "execution_count": 16,
   "id": "f394ab24",
   "metadata": {},
   "outputs": [
    {
     "name": "stdout",
     "output_type": "stream",
     "text": [
      "3.713128038897893\n"
     ]
    }
   ],
   "source": [
    "print(x/y)"
   ]
  },
  {
   "cell_type": "markdown",
   "id": "95bef064",
   "metadata": {},
   "source": [
    "# Construct a short word made of separate strings (you’ll need to concatenate some strings!)."
   ]
  },
  {
   "cell_type": "code",
   "execution_count": 23,
   "id": "9ada1dfe",
   "metadata": {},
   "outputs": [],
   "source": [
    "string1 = 'Stephanie is learning'"
   ]
  },
  {
   "cell_type": "code",
   "execution_count": 25,
   "id": "c37d1c0c",
   "metadata": {},
   "outputs": [],
   "source": [
    "string2 = 'how to code!'"
   ]
  },
  {
   "cell_type": "code",
   "execution_count": 30,
   "id": "d3f37791",
   "metadata": {},
   "outputs": [],
   "source": [
    "string3 = string1 + \" \"+ string2"
   ]
  },
  {
   "cell_type": "code",
   "execution_count": 31,
   "id": "4226ddc9",
   "metadata": {},
   "outputs": [
    {
     "name": "stdout",
     "output_type": "stream",
     "text": [
      "Stephanie is learning how to code!\n"
     ]
    }
   ],
   "source": [
    "print(string3)"
   ]
  },
  {
   "cell_type": "code",
   "execution_count": 35,
   "id": "329b5021",
   "metadata": {},
   "outputs": [],
   "source": [
    "string4 = 'Do not forget'"
   ]
  },
  {
   "cell_type": "code",
   "execution_count": 36,
   "id": "82eac30a",
   "metadata": {},
   "outputs": [],
   "source": [
    "string5 = 'To drink water everyday'"
   ]
  },
  {
   "cell_type": "code",
   "execution_count": 38,
   "id": "ce898448",
   "metadata": {},
   "outputs": [],
   "source": [
    "string6 = string4 + \" \" + string5"
   ]
  },
  {
   "cell_type": "code",
   "execution_count": 39,
   "id": "b18852f3",
   "metadata": {},
   "outputs": [
    {
     "name": "stdout",
     "output_type": "stream",
     "text": [
      "Do not forget To drink water everyday\n"
     ]
    }
   ],
   "source": [
    "print(string6)"
   ]
  }
 ],
 "metadata": {
  "kernelspec": {
   "display_name": "Python 3 (ipykernel)",
   "language": "python",
   "name": "python3"
  },
  "language_info": {
   "codemirror_mode": {
    "name": "ipython",
    "version": 3
   },
   "file_extension": ".py",
   "mimetype": "text/x-python",
   "name": "python",
   "nbconvert_exporter": "python",
   "pygments_lexer": "ipython3",
   "version": "3.11.7"
  }
 },
 "nbformat": 4,
 "nbformat_minor": 5
}
