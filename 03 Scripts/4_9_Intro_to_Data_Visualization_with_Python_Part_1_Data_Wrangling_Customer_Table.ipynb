{
  "cells": [
    {
      "cell_type": "markdown",
      "metadata": {},
      "source": [
        "# 4_9_Intro_to_Data_Visualization_with_Python_Part_1_Data_Wrangling_Customer_Table\n",
        "\n",
        "### This script contains the following points:\n",
        "\n",
        "### 1. Importing Libraries\n",
        "\n",
        "### 2. Import Dataset\n",
        "\n",
        "### 3. Renaming Columns\n",
        "\n",
        "### 4. Data Consistency Checks\n",
        "\n",
        "### 5. Finding Missing Values\n",
        "\n",
        "### 6. Finding Duplicates\n",
        "\n",
        "### 7. Importing Dataframe - orders_products_merged_derived_flags\n",
        "\n",
        "### 8. Changing Data Types due to RAM issue/ Sample dataframes\n",
        "\n",
        "### 9. Merging Dataframes\n",
        "\n",
        "### 10. Export Dataframe as a Pickle"
      ]
    },
    {
      "cell_type": "markdown",
      "metadata": {
        "id": "ojj1Gzsce7aR"
      },
      "source": [
        "# 1. Importing Libraries"
      ]
    },
    {
      "cell_type": "code",
      "execution_count": 1,
      "metadata": {
        "id": "pPMSyegHe_Zf"
      },
      "outputs": [],
      "source": [
        "import pandas as pd\n",
        "import numpy as np\n",
        "import os\n",
        "import matplotlib.pyplot as plt\n",
        "import seaborn as sns\n",
        "import scipy"
      ]
    },
    {
      "cell_type": "markdown",
      "metadata": {
        "id": "xIh1KYEZfEV0"
      },
      "source": [
        "# 2. Import Dataset"
      ]
    },
    {
      "cell_type": "code",
      "execution_count": 2,
      "metadata": {
        "id": "IXQ4oC3efH7K"
      },
      "outputs": [],
      "source": [
        "path = r'/content/drive/MyDrive/Careerfoundary'"
      ]
    },
    {
      "cell_type": "code",
      "execution_count": 3,
      "metadata": {
        "id": "rfIXwuX9fPyw"
      },
      "outputs": [],
      "source": [
        "df_customers = pd.read_csv(os.path.join(path, '02 Data', 'Original Data','customers.csv'))"
      ]
    },
    {
      "cell_type": "code",
      "execution_count": 4,
      "metadata": {
        "colab": {
          "base_uri": "https://localhost:8080/",
          "height": 206
        },
        "id": "p0iSCQe0f8aF",
        "outputId": "c18ea0da-eb63-488e-ac79-376c4dca73c3"
      },
      "outputs": [
        {
          "data": {
            "application/vnd.google.colaboratory.intrinsic+json": {
              "type": "dataframe",
              "variable_name": "df_customers"
            },
            "text/html": [
              "\n",
              "  <div id=\"df-3598f6b6-3667-4349-bb01-b97ddf3b7c9f\" class=\"colab-df-container\">\n",
              "    <div>\n",
              "<style scoped>\n",
              "    .dataframe tbody tr th:only-of-type {\n",
              "        vertical-align: middle;\n",
              "    }\n",
              "\n",
              "    .dataframe tbody tr th {\n",
              "        vertical-align: top;\n",
              "    }\n",
              "\n",
              "    .dataframe thead th {\n",
              "        text-align: right;\n",
              "    }\n",
              "</style>\n",
              "<table border=\"1\" class=\"dataframe\">\n",
              "  <thead>\n",
              "    <tr style=\"text-align: right;\">\n",
              "      <th></th>\n",
              "      <th>user_id</th>\n",
              "      <th>First Name</th>\n",
              "      <th>Surnam</th>\n",
              "      <th>Gender</th>\n",
              "      <th>STATE</th>\n",
              "      <th>Age</th>\n",
              "      <th>date_joined</th>\n",
              "      <th>n_dependants</th>\n",
              "      <th>fam_status</th>\n",
              "      <th>income</th>\n",
              "    </tr>\n",
              "  </thead>\n",
              "  <tbody>\n",
              "    <tr>\n",
              "      <th>0</th>\n",
              "      <td>26711</td>\n",
              "      <td>Deborah</td>\n",
              "      <td>Esquivel</td>\n",
              "      <td>Female</td>\n",
              "      <td>Missouri</td>\n",
              "      <td>48</td>\n",
              "      <td>1/1/2017</td>\n",
              "      <td>3</td>\n",
              "      <td>married</td>\n",
              "      <td>165665</td>\n",
              "    </tr>\n",
              "    <tr>\n",
              "      <th>1</th>\n",
              "      <td>33890</td>\n",
              "      <td>Patricia</td>\n",
              "      <td>Hart</td>\n",
              "      <td>Female</td>\n",
              "      <td>New Mexico</td>\n",
              "      <td>36</td>\n",
              "      <td>1/1/2017</td>\n",
              "      <td>0</td>\n",
              "      <td>single</td>\n",
              "      <td>59285</td>\n",
              "    </tr>\n",
              "    <tr>\n",
              "      <th>2</th>\n",
              "      <td>65803</td>\n",
              "      <td>Kenneth</td>\n",
              "      <td>Farley</td>\n",
              "      <td>Male</td>\n",
              "      <td>Idaho</td>\n",
              "      <td>35</td>\n",
              "      <td>1/1/2017</td>\n",
              "      <td>2</td>\n",
              "      <td>married</td>\n",
              "      <td>99568</td>\n",
              "    </tr>\n",
              "    <tr>\n",
              "      <th>3</th>\n",
              "      <td>125935</td>\n",
              "      <td>Michelle</td>\n",
              "      <td>Hicks</td>\n",
              "      <td>Female</td>\n",
              "      <td>Iowa</td>\n",
              "      <td>40</td>\n",
              "      <td>1/1/2017</td>\n",
              "      <td>0</td>\n",
              "      <td>single</td>\n",
              "      <td>42049</td>\n",
              "    </tr>\n",
              "    <tr>\n",
              "      <th>4</th>\n",
              "      <td>130797</td>\n",
              "      <td>Ann</td>\n",
              "      <td>Gilmore</td>\n",
              "      <td>Female</td>\n",
              "      <td>Maryland</td>\n",
              "      <td>26</td>\n",
              "      <td>1/1/2017</td>\n",
              "      <td>1</td>\n",
              "      <td>married</td>\n",
              "      <td>40374</td>\n",
              "    </tr>\n",
              "  </tbody>\n",
              "</table>\n",
              "</div>\n",
              "    <div class=\"colab-df-buttons\">\n",
              "\n",
              "  <div class=\"colab-df-container\">\n",
              "    <button class=\"colab-df-convert\" onclick=\"convertToInteractive('df-3598f6b6-3667-4349-bb01-b97ddf3b7c9f')\"\n",
              "            title=\"Convert this dataframe to an interactive table.\"\n",
              "            style=\"display:none;\">\n",
              "\n",
              "  <svg xmlns=\"http://www.w3.org/2000/svg\" height=\"24px\" viewBox=\"0 -960 960 960\">\n",
              "    <path d=\"M120-120v-720h720v720H120Zm60-500h600v-160H180v160Zm220 220h160v-160H400v160Zm0 220h160v-160H400v160ZM180-400h160v-160H180v160Zm440 0h160v-160H620v160ZM180-180h160v-160H180v160Zm440 0h160v-160H620v160Z\"/>\n",
              "  </svg>\n",
              "    </button>\n",
              "\n",
              "  <style>\n",
              "    .colab-df-container {\n",
              "      display:flex;\n",
              "      gap: 12px;\n",
              "    }\n",
              "\n",
              "    .colab-df-convert {\n",
              "      background-color: #E8F0FE;\n",
              "      border: none;\n",
              "      border-radius: 50%;\n",
              "      cursor: pointer;\n",
              "      display: none;\n",
              "      fill: #1967D2;\n",
              "      height: 32px;\n",
              "      padding: 0 0 0 0;\n",
              "      width: 32px;\n",
              "    }\n",
              "\n",
              "    .colab-df-convert:hover {\n",
              "      background-color: #E2EBFA;\n",
              "      box-shadow: 0px 1px 2px rgba(60, 64, 67, 0.3), 0px 1px 3px 1px rgba(60, 64, 67, 0.15);\n",
              "      fill: #174EA6;\n",
              "    }\n",
              "\n",
              "    .colab-df-buttons div {\n",
              "      margin-bottom: 4px;\n",
              "    }\n",
              "\n",
              "    [theme=dark] .colab-df-convert {\n",
              "      background-color: #3B4455;\n",
              "      fill: #D2E3FC;\n",
              "    }\n",
              "\n",
              "    [theme=dark] .colab-df-convert:hover {\n",
              "      background-color: #434B5C;\n",
              "      box-shadow: 0px 1px 3px 1px rgba(0, 0, 0, 0.15);\n",
              "      filter: drop-shadow(0px 1px 2px rgba(0, 0, 0, 0.3));\n",
              "      fill: #FFFFFF;\n",
              "    }\n",
              "  </style>\n",
              "\n",
              "    <script>\n",
              "      const buttonEl =\n",
              "        document.querySelector('#df-3598f6b6-3667-4349-bb01-b97ddf3b7c9f button.colab-df-convert');\n",
              "      buttonEl.style.display =\n",
              "        google.colab.kernel.accessAllowed ? 'block' : 'none';\n",
              "\n",
              "      async function convertToInteractive(key) {\n",
              "        const element = document.querySelector('#df-3598f6b6-3667-4349-bb01-b97ddf3b7c9f');\n",
              "        const dataTable =\n",
              "          await google.colab.kernel.invokeFunction('convertToInteractive',\n",
              "                                                    [key], {});\n",
              "        if (!dataTable) return;\n",
              "\n",
              "        const docLinkHtml = 'Like what you see? Visit the ' +\n",
              "          '<a target=\"_blank\" href=https://colab.research.google.com/notebooks/data_table.ipynb>data table notebook</a>'\n",
              "          + ' to learn more about interactive tables.';\n",
              "        element.innerHTML = '';\n",
              "        dataTable['output_type'] = 'display_data';\n",
              "        await google.colab.output.renderOutput(dataTable, element);\n",
              "        const docLink = document.createElement('div');\n",
              "        docLink.innerHTML = docLinkHtml;\n",
              "        element.appendChild(docLink);\n",
              "      }\n",
              "    </script>\n",
              "  </div>\n",
              "\n",
              "\n",
              "<div id=\"df-607f6267-d8f2-4031-ac46-5b059f5f5f1e\">\n",
              "  <button class=\"colab-df-quickchart\" onclick=\"quickchart('df-607f6267-d8f2-4031-ac46-5b059f5f5f1e')\"\n",
              "            title=\"Suggest charts\"\n",
              "            style=\"display:none;\">\n",
              "\n",
              "<svg xmlns=\"http://www.w3.org/2000/svg\" height=\"24px\"viewBox=\"0 0 24 24\"\n",
              "     width=\"24px\">\n",
              "    <g>\n",
              "        <path d=\"M19 3H5c-1.1 0-2 .9-2 2v14c0 1.1.9 2 2 2h14c1.1 0 2-.9 2-2V5c0-1.1-.9-2-2-2zM9 17H7v-7h2v7zm4 0h-2V7h2v10zm4 0h-2v-4h2v4z\"/>\n",
              "    </g>\n",
              "</svg>\n",
              "  </button>\n",
              "\n",
              "<style>\n",
              "  .colab-df-quickchart {\n",
              "      --bg-color: #E8F0FE;\n",
              "      --fill-color: #1967D2;\n",
              "      --hover-bg-color: #E2EBFA;\n",
              "      --hover-fill-color: #174EA6;\n",
              "      --disabled-fill-color: #AAA;\n",
              "      --disabled-bg-color: #DDD;\n",
              "  }\n",
              "\n",
              "  [theme=dark] .colab-df-quickchart {\n",
              "      --bg-color: #3B4455;\n",
              "      --fill-color: #D2E3FC;\n",
              "      --hover-bg-color: #434B5C;\n",
              "      --hover-fill-color: #FFFFFF;\n",
              "      --disabled-bg-color: #3B4455;\n",
              "      --disabled-fill-color: #666;\n",
              "  }\n",
              "\n",
              "  .colab-df-quickchart {\n",
              "    background-color: var(--bg-color);\n",
              "    border: none;\n",
              "    border-radius: 50%;\n",
              "    cursor: pointer;\n",
              "    display: none;\n",
              "    fill: var(--fill-color);\n",
              "    height: 32px;\n",
              "    padding: 0;\n",
              "    width: 32px;\n",
              "  }\n",
              "\n",
              "  .colab-df-quickchart:hover {\n",
              "    background-color: var(--hover-bg-color);\n",
              "    box-shadow: 0 1px 2px rgba(60, 64, 67, 0.3), 0 1px 3px 1px rgba(60, 64, 67, 0.15);\n",
              "    fill: var(--button-hover-fill-color);\n",
              "  }\n",
              "\n",
              "  .colab-df-quickchart-complete:disabled,\n",
              "  .colab-df-quickchart-complete:disabled:hover {\n",
              "    background-color: var(--disabled-bg-color);\n",
              "    fill: var(--disabled-fill-color);\n",
              "    box-shadow: none;\n",
              "  }\n",
              "\n",
              "  .colab-df-spinner {\n",
              "    border: 2px solid var(--fill-color);\n",
              "    border-color: transparent;\n",
              "    border-bottom-color: var(--fill-color);\n",
              "    animation:\n",
              "      spin 1s steps(1) infinite;\n",
              "  }\n",
              "\n",
              "  @keyframes spin {\n",
              "    0% {\n",
              "      border-color: transparent;\n",
              "      border-bottom-color: var(--fill-color);\n",
              "      border-left-color: var(--fill-color);\n",
              "    }\n",
              "    20% {\n",
              "      border-color: transparent;\n",
              "      border-left-color: var(--fill-color);\n",
              "      border-top-color: var(--fill-color);\n",
              "    }\n",
              "    30% {\n",
              "      border-color: transparent;\n",
              "      border-left-color: var(--fill-color);\n",
              "      border-top-color: var(--fill-color);\n",
              "      border-right-color: var(--fill-color);\n",
              "    }\n",
              "    40% {\n",
              "      border-color: transparent;\n",
              "      border-right-color: var(--fill-color);\n",
              "      border-top-color: var(--fill-color);\n",
              "    }\n",
              "    60% {\n",
              "      border-color: transparent;\n",
              "      border-right-color: var(--fill-color);\n",
              "    }\n",
              "    80% {\n",
              "      border-color: transparent;\n",
              "      border-right-color: var(--fill-color);\n",
              "      border-bottom-color: var(--fill-color);\n",
              "    }\n",
              "    90% {\n",
              "      border-color: transparent;\n",
              "      border-bottom-color: var(--fill-color);\n",
              "    }\n",
              "  }\n",
              "</style>\n",
              "\n",
              "  <script>\n",
              "    async function quickchart(key) {\n",
              "      const quickchartButtonEl =\n",
              "        document.querySelector('#' + key + ' button');\n",
              "      quickchartButtonEl.disabled = true;  // To prevent multiple clicks.\n",
              "      quickchartButtonEl.classList.add('colab-df-spinner');\n",
              "      try {\n",
              "        const charts = await google.colab.kernel.invokeFunction(\n",
              "            'suggestCharts', [key], {});\n",
              "      } catch (error) {\n",
              "        console.error('Error during call to suggestCharts:', error);\n",
              "      }\n",
              "      quickchartButtonEl.classList.remove('colab-df-spinner');\n",
              "      quickchartButtonEl.classList.add('colab-df-quickchart-complete');\n",
              "    }\n",
              "    (() => {\n",
              "      let quickchartButtonEl =\n",
              "        document.querySelector('#df-607f6267-d8f2-4031-ac46-5b059f5f5f1e button');\n",
              "      quickchartButtonEl.style.display =\n",
              "        google.colab.kernel.accessAllowed ? 'block' : 'none';\n",
              "    })();\n",
              "  </script>\n",
              "</div>\n",
              "    </div>\n",
              "  </div>\n"
            ],
            "text/plain": [
              "   user_id First Name    Surnam  Gender       STATE  Age date_joined  \\\n",
              "0    26711    Deborah  Esquivel  Female    Missouri   48    1/1/2017   \n",
              "1    33890   Patricia      Hart  Female  New Mexico   36    1/1/2017   \n",
              "2    65803    Kenneth    Farley    Male       Idaho   35    1/1/2017   \n",
              "3   125935   Michelle     Hicks  Female        Iowa   40    1/1/2017   \n",
              "4   130797        Ann   Gilmore  Female    Maryland   26    1/1/2017   \n",
              "\n",
              "   n_dependants fam_status  income  \n",
              "0             3    married  165665  \n",
              "1             0     single   59285  \n",
              "2             2    married   99568  \n",
              "3             0     single   42049  \n",
              "4             1    married   40374  "
            ]
          },
          "execution_count": 4,
          "metadata": {},
          "output_type": "execute_result"
        }
      ],
      "source": [
        "#Check the headings and see if information looks out of place\n",
        "df_customers.head()"
      ]
    },
    {
      "cell_type": "code",
      "execution_count": 5,
      "metadata": {
        "colab": {
          "base_uri": "https://localhost:8080/"
        },
        "id": "ynkwtyTRlhwa",
        "outputId": "39a33290-fa3d-4e38-a094-8bfd5208bdb4"
      },
      "outputs": [
        {
          "data": {
            "text/plain": [
              "(206209, 10)"
            ]
          },
          "execution_count": 5,
          "metadata": {},
          "output_type": "execute_result"
        }
      ],
      "source": [
        "#Check the shape of the dataframe\n",
        "df_customers.shape"
      ]
    },
    {
      "cell_type": "code",
      "execution_count": 6,
      "metadata": {
        "colab": {
          "base_uri": "https://localhost:8080/"
        },
        "id": "LHjustK7lh7H",
        "outputId": "297ba911-c622-4f91-d59f-3391e89a2e0f"
      },
      "outputs": [
        {
          "data": {
            "text/plain": [
              "user_id          int64\n",
              "First Name      object\n",
              "Surnam          object\n",
              "Gender          object\n",
              "STATE           object\n",
              "Age              int64\n",
              "date_joined     object\n",
              "n_dependants     int64\n",
              "fam_status      object\n",
              "income           int64\n",
              "dtype: object"
            ]
          },
          "execution_count": 6,
          "metadata": {},
          "output_type": "execute_result"
        }
      ],
      "source": [
        "#Check the data types\n",
        "df_customers.dtypes"
      ]
    },
    {
      "cell_type": "code",
      "execution_count": 7,
      "metadata": {
        "colab": {
          "base_uri": "https://localhost:8080/",
          "height": 300
        },
        "id": "nJAIQtf7liF_",
        "outputId": "a54e82c8-5afc-416c-9ce0-e6bb0ca7ca77"
      },
      "outputs": [
        {
          "data": {
            "application/vnd.google.colaboratory.intrinsic+json": {
              "summary": "{\n  \"name\": \"df_customers\",\n  \"rows\": 8,\n  \"fields\": [\n    {\n      \"column\": \"user_id\",\n      \"properties\": {\n        \"dtype\": \"number\",\n        \"std\": 74318.41649081087,\n        \"min\": 1.0,\n        \"max\": 206209.0,\n        \"num_unique_values\": 6,\n        \"samples\": [\n          206209.0,\n          103105.0,\n          154657.0\n        ],\n        \"semantic_type\": \"\",\n        \"description\": \"\"\n      }\n    },\n    {\n      \"column\": \"Age\",\n      \"properties\": {\n        \"dtype\": \"number\",\n        \"std\": 72889.98537902783,\n        \"min\": 18.0,\n        \"max\": 206209.0,\n        \"num_unique_values\": 8,\n        \"samples\": [\n          49.501646387888016,\n          49.0,\n          206209.0\n        ],\n        \"semantic_type\": \"\",\n        \"description\": \"\"\n      }\n    },\n    {\n      \"column\": \"n_dependants\",\n      \"properties\": {\n        \"dtype\": \"number\",\n        \"std\": 72905.40533463143,\n        \"min\": 0.0,\n        \"max\": 206209.0,\n        \"num_unique_values\": 6,\n        \"samples\": [\n          206209.0,\n          1.499822995116605,\n          3.0\n        ],\n        \"semantic_type\": \"\",\n        \"description\": \"\"\n      }\n    },\n    {\n      \"column\": \"income\",\n      \"properties\": {\n        \"dtype\": \"number\",\n        \"std\": 185933.97739942974,\n        \"min\": 25903.0,\n        \"max\": 593901.0,\n        \"num_unique_values\": 8,\n        \"samples\": [\n          94632.85254765795,\n          93547.0,\n          206209.0\n        ],\n        \"semantic_type\": \"\",\n        \"description\": \"\"\n      }\n    }\n  ]\n}",
              "type": "dataframe"
            },
            "text/html": [
              "\n",
              "  <div id=\"df-abc3328b-d4a2-4170-b1d3-a11363b9adfe\" class=\"colab-df-container\">\n",
              "    <div>\n",
              "<style scoped>\n",
              "    .dataframe tbody tr th:only-of-type {\n",
              "        vertical-align: middle;\n",
              "    }\n",
              "\n",
              "    .dataframe tbody tr th {\n",
              "        vertical-align: top;\n",
              "    }\n",
              "\n",
              "    .dataframe thead th {\n",
              "        text-align: right;\n",
              "    }\n",
              "</style>\n",
              "<table border=\"1\" class=\"dataframe\">\n",
              "  <thead>\n",
              "    <tr style=\"text-align: right;\">\n",
              "      <th></th>\n",
              "      <th>user_id</th>\n",
              "      <th>Age</th>\n",
              "      <th>n_dependants</th>\n",
              "      <th>income</th>\n",
              "    </tr>\n",
              "  </thead>\n",
              "  <tbody>\n",
              "    <tr>\n",
              "      <th>count</th>\n",
              "      <td>206209.000000</td>\n",
              "      <td>206209.000000</td>\n",
              "      <td>206209.000000</td>\n",
              "      <td>206209.000000</td>\n",
              "    </tr>\n",
              "    <tr>\n",
              "      <th>mean</th>\n",
              "      <td>103105.000000</td>\n",
              "      <td>49.501646</td>\n",
              "      <td>1.499823</td>\n",
              "      <td>94632.852548</td>\n",
              "    </tr>\n",
              "    <tr>\n",
              "      <th>std</th>\n",
              "      <td>59527.555167</td>\n",
              "      <td>18.480962</td>\n",
              "      <td>1.118433</td>\n",
              "      <td>42473.786988</td>\n",
              "    </tr>\n",
              "    <tr>\n",
              "      <th>min</th>\n",
              "      <td>1.000000</td>\n",
              "      <td>18.000000</td>\n",
              "      <td>0.000000</td>\n",
              "      <td>25903.000000</td>\n",
              "    </tr>\n",
              "    <tr>\n",
              "      <th>25%</th>\n",
              "      <td>51553.000000</td>\n",
              "      <td>33.000000</td>\n",
              "      <td>0.000000</td>\n",
              "      <td>59874.000000</td>\n",
              "    </tr>\n",
              "    <tr>\n",
              "      <th>50%</th>\n",
              "      <td>103105.000000</td>\n",
              "      <td>49.000000</td>\n",
              "      <td>1.000000</td>\n",
              "      <td>93547.000000</td>\n",
              "    </tr>\n",
              "    <tr>\n",
              "      <th>75%</th>\n",
              "      <td>154657.000000</td>\n",
              "      <td>66.000000</td>\n",
              "      <td>3.000000</td>\n",
              "      <td>124244.000000</td>\n",
              "    </tr>\n",
              "    <tr>\n",
              "      <th>max</th>\n",
              "      <td>206209.000000</td>\n",
              "      <td>81.000000</td>\n",
              "      <td>3.000000</td>\n",
              "      <td>593901.000000</td>\n",
              "    </tr>\n",
              "  </tbody>\n",
              "</table>\n",
              "</div>\n",
              "    <div class=\"colab-df-buttons\">\n",
              "\n",
              "  <div class=\"colab-df-container\">\n",
              "    <button class=\"colab-df-convert\" onclick=\"convertToInteractive('df-abc3328b-d4a2-4170-b1d3-a11363b9adfe')\"\n",
              "            title=\"Convert this dataframe to an interactive table.\"\n",
              "            style=\"display:none;\">\n",
              "\n",
              "  <svg xmlns=\"http://www.w3.org/2000/svg\" height=\"24px\" viewBox=\"0 -960 960 960\">\n",
              "    <path d=\"M120-120v-720h720v720H120Zm60-500h600v-160H180v160Zm220 220h160v-160H400v160Zm0 220h160v-160H400v160ZM180-400h160v-160H180v160Zm440 0h160v-160H620v160ZM180-180h160v-160H180v160Zm440 0h160v-160H620v160Z\"/>\n",
              "  </svg>\n",
              "    </button>\n",
              "\n",
              "  <style>\n",
              "    .colab-df-container {\n",
              "      display:flex;\n",
              "      gap: 12px;\n",
              "    }\n",
              "\n",
              "    .colab-df-convert {\n",
              "      background-color: #E8F0FE;\n",
              "      border: none;\n",
              "      border-radius: 50%;\n",
              "      cursor: pointer;\n",
              "      display: none;\n",
              "      fill: #1967D2;\n",
              "      height: 32px;\n",
              "      padding: 0 0 0 0;\n",
              "      width: 32px;\n",
              "    }\n",
              "\n",
              "    .colab-df-convert:hover {\n",
              "      background-color: #E2EBFA;\n",
              "      box-shadow: 0px 1px 2px rgba(60, 64, 67, 0.3), 0px 1px 3px 1px rgba(60, 64, 67, 0.15);\n",
              "      fill: #174EA6;\n",
              "    }\n",
              "\n",
              "    .colab-df-buttons div {\n",
              "      margin-bottom: 4px;\n",
              "    }\n",
              "\n",
              "    [theme=dark] .colab-df-convert {\n",
              "      background-color: #3B4455;\n",
              "      fill: #D2E3FC;\n",
              "    }\n",
              "\n",
              "    [theme=dark] .colab-df-convert:hover {\n",
              "      background-color: #434B5C;\n",
              "      box-shadow: 0px 1px 3px 1px rgba(0, 0, 0, 0.15);\n",
              "      filter: drop-shadow(0px 1px 2px rgba(0, 0, 0, 0.3));\n",
              "      fill: #FFFFFF;\n",
              "    }\n",
              "  </style>\n",
              "\n",
              "    <script>\n",
              "      const buttonEl =\n",
              "        document.querySelector('#df-abc3328b-d4a2-4170-b1d3-a11363b9adfe button.colab-df-convert');\n",
              "      buttonEl.style.display =\n",
              "        google.colab.kernel.accessAllowed ? 'block' : 'none';\n",
              "\n",
              "      async function convertToInteractive(key) {\n",
              "        const element = document.querySelector('#df-abc3328b-d4a2-4170-b1d3-a11363b9adfe');\n",
              "        const dataTable =\n",
              "          await google.colab.kernel.invokeFunction('convertToInteractive',\n",
              "                                                    [key], {});\n",
              "        if (!dataTable) return;\n",
              "\n",
              "        const docLinkHtml = 'Like what you see? Visit the ' +\n",
              "          '<a target=\"_blank\" href=https://colab.research.google.com/notebooks/data_table.ipynb>data table notebook</a>'\n",
              "          + ' to learn more about interactive tables.';\n",
              "        element.innerHTML = '';\n",
              "        dataTable['output_type'] = 'display_data';\n",
              "        await google.colab.output.renderOutput(dataTable, element);\n",
              "        const docLink = document.createElement('div');\n",
              "        docLink.innerHTML = docLinkHtml;\n",
              "        element.appendChild(docLink);\n",
              "      }\n",
              "    </script>\n",
              "  </div>\n",
              "\n",
              "\n",
              "<div id=\"df-d25ab46e-900c-4893-8c06-02140a8a1e8e\">\n",
              "  <button class=\"colab-df-quickchart\" onclick=\"quickchart('df-d25ab46e-900c-4893-8c06-02140a8a1e8e')\"\n",
              "            title=\"Suggest charts\"\n",
              "            style=\"display:none;\">\n",
              "\n",
              "<svg xmlns=\"http://www.w3.org/2000/svg\" height=\"24px\"viewBox=\"0 0 24 24\"\n",
              "     width=\"24px\">\n",
              "    <g>\n",
              "        <path d=\"M19 3H5c-1.1 0-2 .9-2 2v14c0 1.1.9 2 2 2h14c1.1 0 2-.9 2-2V5c0-1.1-.9-2-2-2zM9 17H7v-7h2v7zm4 0h-2V7h2v10zm4 0h-2v-4h2v4z\"/>\n",
              "    </g>\n",
              "</svg>\n",
              "  </button>\n",
              "\n",
              "<style>\n",
              "  .colab-df-quickchart {\n",
              "      --bg-color: #E8F0FE;\n",
              "      --fill-color: #1967D2;\n",
              "      --hover-bg-color: #E2EBFA;\n",
              "      --hover-fill-color: #174EA6;\n",
              "      --disabled-fill-color: #AAA;\n",
              "      --disabled-bg-color: #DDD;\n",
              "  }\n",
              "\n",
              "  [theme=dark] .colab-df-quickchart {\n",
              "      --bg-color: #3B4455;\n",
              "      --fill-color: #D2E3FC;\n",
              "      --hover-bg-color: #434B5C;\n",
              "      --hover-fill-color: #FFFFFF;\n",
              "      --disabled-bg-color: #3B4455;\n",
              "      --disabled-fill-color: #666;\n",
              "  }\n",
              "\n",
              "  .colab-df-quickchart {\n",
              "    background-color: var(--bg-color);\n",
              "    border: none;\n",
              "    border-radius: 50%;\n",
              "    cursor: pointer;\n",
              "    display: none;\n",
              "    fill: var(--fill-color);\n",
              "    height: 32px;\n",
              "    padding: 0;\n",
              "    width: 32px;\n",
              "  }\n",
              "\n",
              "  .colab-df-quickchart:hover {\n",
              "    background-color: var(--hover-bg-color);\n",
              "    box-shadow: 0 1px 2px rgba(60, 64, 67, 0.3), 0 1px 3px 1px rgba(60, 64, 67, 0.15);\n",
              "    fill: var(--button-hover-fill-color);\n",
              "  }\n",
              "\n",
              "  .colab-df-quickchart-complete:disabled,\n",
              "  .colab-df-quickchart-complete:disabled:hover {\n",
              "    background-color: var(--disabled-bg-color);\n",
              "    fill: var(--disabled-fill-color);\n",
              "    box-shadow: none;\n",
              "  }\n",
              "\n",
              "  .colab-df-spinner {\n",
              "    border: 2px solid var(--fill-color);\n",
              "    border-color: transparent;\n",
              "    border-bottom-color: var(--fill-color);\n",
              "    animation:\n",
              "      spin 1s steps(1) infinite;\n",
              "  }\n",
              "\n",
              "  @keyframes spin {\n",
              "    0% {\n",
              "      border-color: transparent;\n",
              "      border-bottom-color: var(--fill-color);\n",
              "      border-left-color: var(--fill-color);\n",
              "    }\n",
              "    20% {\n",
              "      border-color: transparent;\n",
              "      border-left-color: var(--fill-color);\n",
              "      border-top-color: var(--fill-color);\n",
              "    }\n",
              "    30% {\n",
              "      border-color: transparent;\n",
              "      border-left-color: var(--fill-color);\n",
              "      border-top-color: var(--fill-color);\n",
              "      border-right-color: var(--fill-color);\n",
              "    }\n",
              "    40% {\n",
              "      border-color: transparent;\n",
              "      border-right-color: var(--fill-color);\n",
              "      border-top-color: var(--fill-color);\n",
              "    }\n",
              "    60% {\n",
              "      border-color: transparent;\n",
              "      border-right-color: var(--fill-color);\n",
              "    }\n",
              "    80% {\n",
              "      border-color: transparent;\n",
              "      border-right-color: var(--fill-color);\n",
              "      border-bottom-color: var(--fill-color);\n",
              "    }\n",
              "    90% {\n",
              "      border-color: transparent;\n",
              "      border-bottom-color: var(--fill-color);\n",
              "    }\n",
              "  }\n",
              "</style>\n",
              "\n",
              "  <script>\n",
              "    async function quickchart(key) {\n",
              "      const quickchartButtonEl =\n",
              "        document.querySelector('#' + key + ' button');\n",
              "      quickchartButtonEl.disabled = true;  // To prevent multiple clicks.\n",
              "      quickchartButtonEl.classList.add('colab-df-spinner');\n",
              "      try {\n",
              "        const charts = await google.colab.kernel.invokeFunction(\n",
              "            'suggestCharts', [key], {});\n",
              "      } catch (error) {\n",
              "        console.error('Error during call to suggestCharts:', error);\n",
              "      }\n",
              "      quickchartButtonEl.classList.remove('colab-df-spinner');\n",
              "      quickchartButtonEl.classList.add('colab-df-quickchart-complete');\n",
              "    }\n",
              "    (() => {\n",
              "      let quickchartButtonEl =\n",
              "        document.querySelector('#df-d25ab46e-900c-4893-8c06-02140a8a1e8e button');\n",
              "      quickchartButtonEl.style.display =\n",
              "        google.colab.kernel.accessAllowed ? 'block' : 'none';\n",
              "    })();\n",
              "  </script>\n",
              "</div>\n",
              "    </div>\n",
              "  </div>\n"
            ],
            "text/plain": [
              "             user_id            Age   n_dependants         income\n",
              "count  206209.000000  206209.000000  206209.000000  206209.000000\n",
              "mean   103105.000000      49.501646       1.499823   94632.852548\n",
              "std     59527.555167      18.480962       1.118433   42473.786988\n",
              "min         1.000000      18.000000       0.000000   25903.000000\n",
              "25%     51553.000000      33.000000       0.000000   59874.000000\n",
              "50%    103105.000000      49.000000       1.000000   93547.000000\n",
              "75%    154657.000000      66.000000       3.000000  124244.000000\n",
              "max    206209.000000      81.000000       3.000000  593901.000000"
            ]
          },
          "execution_count": 7,
          "metadata": {},
          "output_type": "execute_result"
        }
      ],
      "source": [
        "#Check descriptive analysis of numerical columns\n",
        "df_customers.describe()"
      ]
    },
    {
      "cell_type": "markdown",
      "metadata": {
        "id": "G9I2N1lagT4N"
      },
      "source": [
        "# 3. Renaming Columns\n"
      ]
    },
    {
      "cell_type": "code",
      "execution_count": 8,
      "metadata": {
        "id": "fXKRNtzohjqu"
      },
      "outputs": [],
      "source": [
        "# Rename first name column due to format\n",
        "df_customers.rename(columns={'First Name': 'first_name'}, inplace=True)"
      ]
    },
    {
      "cell_type": "code",
      "execution_count": 9,
      "metadata": {
        "id": "Ry56nvvLiBiH"
      },
      "outputs": [],
      "source": [
        "# Renamed surname column - due to spelling\n",
        "df_customers.rename(columns={'Surnam': 'surname'}, inplace=True)"
      ]
    },
    {
      "cell_type": "code",
      "execution_count": 10,
      "metadata": {
        "id": "TpnRUxRjiB_J"
      },
      "outputs": [],
      "source": [
        "# Renamed State - due to Caps\n",
        "df_customers.rename(columns={'STATE': 'state'}, inplace=True)"
      ]
    },
    {
      "cell_type": "code",
      "execution_count": 11,
      "metadata": {
        "id": "EvA_RUMmn47C"
      },
      "outputs": [],
      "source": [
        "# Rename fam_status to more relative name\n",
        "df_customers.rename(columns={'fam_status': 'marital_status'}, inplace=True)"
      ]
    },
    {
      "cell_type": "code",
      "execution_count": 12,
      "metadata": {
        "id": "a7J1RqjCn5GY"
      },
      "outputs": [],
      "source": [
        "# Rename Age - due to Caps\n",
        "df_customers.rename(columns={'Age': 'age'}, inplace=True)"
      ]
    },
    {
      "cell_type": "code",
      "execution_count": 13,
      "metadata": {
        "id": "-tAM3LuOpNsr"
      },
      "outputs": [],
      "source": [
        "# Rename Gender - due to Caps\n",
        "df_customers.rename(columns={'Gender': 'gender'}, inplace=True)"
      ]
    },
    {
      "cell_type": "code",
      "execution_count": 14,
      "metadata": {
        "colab": {
          "base_uri": "https://localhost:8080/"
        },
        "id": "0UJkokd1pFSV",
        "outputId": "9b6d9073-e561-41c0-eb9b-bd39cbf0d04e"
      },
      "outputs": [
        {
          "data": {
            "text/plain": [
              "Index(['user_id', 'first_name', 'surname', 'gender', 'state', 'age',\n",
              "       'date_joined', 'n_dependants', 'marital_status', 'income'],\n",
              "      dtype='object')"
            ]
          },
          "execution_count": 14,
          "metadata": {},
          "output_type": "execute_result"
        }
      ],
      "source": [
        "df_customers.columns"
      ]
    },
    {
      "cell_type": "code",
      "execution_count": 15,
      "metadata": {
        "id": "Wk7zKeIjpfOu"
      },
      "outputs": [],
      "source": [
        "# All column names have been formatted"
      ]
    },
    {
      "cell_type": "markdown",
      "metadata": {
        "id": "jiRASFLKpyIN"
      },
      "source": [
        "# 4. Data Consistency Checks"
      ]
    },
    {
      "cell_type": "code",
      "execution_count": 16,
      "metadata": {
        "colab": {
          "base_uri": "https://localhost:8080/"
        },
        "id": "I412eK0hp4Cs",
        "outputId": "abb7cbc1-6898-4125-c218-16626990d906"
      },
      "outputs": [
        {
          "name": "stdout",
          "output_type": "stream",
          "text": [
            "first_name\n"
          ]
        }
      ],
      "source": [
        "# Search for mixed data types\n",
        "\n",
        "for col in df_customers.columns.tolist():\n",
        "    weird = (df_customers[[col]].applymap(type) != df_customers[[col]].iloc[0].apply(type)).any(axis=1)\n",
        "    if len(df_customers[weird]) > 0:\n",
        "        print(col)"
      ]
    },
    {
      "cell_type": "code",
      "execution_count": 17,
      "metadata": {
        "id": "hP2rzxFPp4OB"
      },
      "outputs": [],
      "source": [
        "# We have inconsistent data type for first_name, I have changed the data type from object to string\n",
        "df_customers['first_name'] = df_customers['first_name'].astype('str')"
      ]
    },
    {
      "cell_type": "code",
      "execution_count": 18,
      "metadata": {
        "id": "kXbzo2WMp4V4"
      },
      "outputs": [],
      "source": [
        "#rerun code to see mixed datatype columns\n",
        "for col in df_customers.columns.tolist():\n",
        "    weird = (df_customers[[col]].applymap(type) != df_customers[[col]].iloc[0].apply(type)).any(axis=1)\n",
        "    if len(df_customers[weird]) > 0:\n",
        "        print(col)"
      ]
    },
    {
      "cell_type": "code",
      "execution_count": 19,
      "metadata": {
        "id": "QY5ZzWNIp4b6"
      },
      "outputs": [],
      "source": [
        "#We now have no mixed datatype columns"
      ]
    },
    {
      "cell_type": "markdown",
      "metadata": {
        "id": "TRzOyC9hz2x6"
      },
      "source": [
        "# 5. Finding Missing Values"
      ]
    },
    {
      "cell_type": "code",
      "execution_count": 20,
      "metadata": {
        "colab": {
          "base_uri": "https://localhost:8080/"
        },
        "id": "4f2r7id-z7LJ",
        "outputId": "3b122801-6684-48a3-c009-07a05a225530"
      },
      "outputs": [
        {
          "data": {
            "text/plain": [
              "user_id           0\n",
              "first_name        0\n",
              "surname           0\n",
              "gender            0\n",
              "state             0\n",
              "age               0\n",
              "date_joined       0\n",
              "n_dependants      0\n",
              "marital_status    0\n",
              "income            0\n",
              "dtype: int64"
            ]
          },
          "execution_count": 20,
          "metadata": {},
          "output_type": "execute_result"
        }
      ],
      "source": [
        "df_customers.isnull().sum()"
      ]
    },
    {
      "cell_type": "code",
      "execution_count": 21,
      "metadata": {
        "id": "_AgsTRnZ0JBb"
      },
      "outputs": [],
      "source": [
        "#There are no column with missing values"
      ]
    },
    {
      "cell_type": "markdown",
      "metadata": {
        "id": "eBmT2yCV0s4K"
      },
      "source": [
        "# 6. Finding Duplicates"
      ]
    },
    {
      "cell_type": "code",
      "execution_count": 22,
      "metadata": {
        "id": "eVowemvM0yyL"
      },
      "outputs": [],
      "source": [
        "# We will make a new dataframe that only contains duplicates\n",
        "\n",
        "df_dups = df_customers[df_customers.duplicated()]"
      ]
    },
    {
      "cell_type": "code",
      "execution_count": 23,
      "metadata": {
        "colab": {
          "base_uri": "https://localhost:8080/",
          "height": 53
        },
        "id": "qn15Fa8v1ZGm",
        "outputId": "5e884d16-052e-4f4e-ce93-94d3b67cc68c"
      },
      "outputs": [
        {
          "data": {
            "application/vnd.google.colaboratory.intrinsic+json": {
              "repr_error": "Out of range float values are not JSON compliant: nan",
              "type": "dataframe",
              "variable_name": "df_dups"
            },
            "text/html": [
              "\n",
              "  <div id=\"df-3ff4f806-cd1f-4391-8415-d05f450c7b7c\" class=\"colab-df-container\">\n",
              "    <div>\n",
              "<style scoped>\n",
              "    .dataframe tbody tr th:only-of-type {\n",
              "        vertical-align: middle;\n",
              "    }\n",
              "\n",
              "    .dataframe tbody tr th {\n",
              "        vertical-align: top;\n",
              "    }\n",
              "\n",
              "    .dataframe thead th {\n",
              "        text-align: right;\n",
              "    }\n",
              "</style>\n",
              "<table border=\"1\" class=\"dataframe\">\n",
              "  <thead>\n",
              "    <tr style=\"text-align: right;\">\n",
              "      <th></th>\n",
              "      <th>user_id</th>\n",
              "      <th>first_name</th>\n",
              "      <th>surname</th>\n",
              "      <th>gender</th>\n",
              "      <th>state</th>\n",
              "      <th>age</th>\n",
              "      <th>date_joined</th>\n",
              "      <th>n_dependants</th>\n",
              "      <th>marital_status</th>\n",
              "      <th>income</th>\n",
              "    </tr>\n",
              "  </thead>\n",
              "  <tbody>\n",
              "  </tbody>\n",
              "</table>\n",
              "</div>\n",
              "    <div class=\"colab-df-buttons\">\n",
              "\n",
              "  <div class=\"colab-df-container\">\n",
              "    <button class=\"colab-df-convert\" onclick=\"convertToInteractive('df-3ff4f806-cd1f-4391-8415-d05f450c7b7c')\"\n",
              "            title=\"Convert this dataframe to an interactive table.\"\n",
              "            style=\"display:none;\">\n",
              "\n",
              "  <svg xmlns=\"http://www.w3.org/2000/svg\" height=\"24px\" viewBox=\"0 -960 960 960\">\n",
              "    <path d=\"M120-120v-720h720v720H120Zm60-500h600v-160H180v160Zm220 220h160v-160H400v160Zm0 220h160v-160H400v160ZM180-400h160v-160H180v160Zm440 0h160v-160H620v160ZM180-180h160v-160H180v160Zm440 0h160v-160H620v160Z\"/>\n",
              "  </svg>\n",
              "    </button>\n",
              "\n",
              "  <style>\n",
              "    .colab-df-container {\n",
              "      display:flex;\n",
              "      gap: 12px;\n",
              "    }\n",
              "\n",
              "    .colab-df-convert {\n",
              "      background-color: #E8F0FE;\n",
              "      border: none;\n",
              "      border-radius: 50%;\n",
              "      cursor: pointer;\n",
              "      display: none;\n",
              "      fill: #1967D2;\n",
              "      height: 32px;\n",
              "      padding: 0 0 0 0;\n",
              "      width: 32px;\n",
              "    }\n",
              "\n",
              "    .colab-df-convert:hover {\n",
              "      background-color: #E2EBFA;\n",
              "      box-shadow: 0px 1px 2px rgba(60, 64, 67, 0.3), 0px 1px 3px 1px rgba(60, 64, 67, 0.15);\n",
              "      fill: #174EA6;\n",
              "    }\n",
              "\n",
              "    .colab-df-buttons div {\n",
              "      margin-bottom: 4px;\n",
              "    }\n",
              "\n",
              "    [theme=dark] .colab-df-convert {\n",
              "      background-color: #3B4455;\n",
              "      fill: #D2E3FC;\n",
              "    }\n",
              "\n",
              "    [theme=dark] .colab-df-convert:hover {\n",
              "      background-color: #434B5C;\n",
              "      box-shadow: 0px 1px 3px 1px rgba(0, 0, 0, 0.15);\n",
              "      filter: drop-shadow(0px 1px 2px rgba(0, 0, 0, 0.3));\n",
              "      fill: #FFFFFF;\n",
              "    }\n",
              "  </style>\n",
              "\n",
              "    <script>\n",
              "      const buttonEl =\n",
              "        document.querySelector('#df-3ff4f806-cd1f-4391-8415-d05f450c7b7c button.colab-df-convert');\n",
              "      buttonEl.style.display =\n",
              "        google.colab.kernel.accessAllowed ? 'block' : 'none';\n",
              "\n",
              "      async function convertToInteractive(key) {\n",
              "        const element = document.querySelector('#df-3ff4f806-cd1f-4391-8415-d05f450c7b7c');\n",
              "        const dataTable =\n",
              "          await google.colab.kernel.invokeFunction('convertToInteractive',\n",
              "                                                    [key], {});\n",
              "        if (!dataTable) return;\n",
              "\n",
              "        const docLinkHtml = 'Like what you see? Visit the ' +\n",
              "          '<a target=\"_blank\" href=https://colab.research.google.com/notebooks/data_table.ipynb>data table notebook</a>'\n",
              "          + ' to learn more about interactive tables.';\n",
              "        element.innerHTML = '';\n",
              "        dataTable['output_type'] = 'display_data';\n",
              "        await google.colab.output.renderOutput(dataTable, element);\n",
              "        const docLink = document.createElement('div');\n",
              "        docLink.innerHTML = docLinkHtml;\n",
              "        element.appendChild(docLink);\n",
              "      }\n",
              "    </script>\n",
              "  </div>\n",
              "\n",
              "    </div>\n",
              "  </div>\n"
            ],
            "text/plain": [
              "Empty DataFrame\n",
              "Columns: [user_id, first_name, surname, gender, state, age, date_joined, n_dependants, marital_status, income]\n",
              "Index: []"
            ]
          },
          "execution_count": 23,
          "metadata": {},
          "output_type": "execute_result"
        }
      ],
      "source": [
        "# We can see there are no duplicates in this dataframe\n",
        "df_dups"
      ]
    },
    {
      "cell_type": "markdown",
      "metadata": {
        "id": "lx7E-Zka2Olh"
      },
      "source": [
        "# 7. Importing Dataframe - orders_products_merged_derived_flags"
      ]
    },
    {
      "cell_type": "code",
      "execution_count": 24,
      "metadata": {
        "id": "EoXGidnyqR6I"
      },
      "outputs": [],
      "source": [
        "# Import orders_products_merged_derived_flags\n",
        "\n",
        "df_orders_products_merged = pd.read_pickle(os.path.join(path, '02 Data', 'Prepared Data', 'orders_products_merged_derived_flags.pkl'))\n",
        "\n"
      ]
    },
    {
      "cell_type": "code",
      "execution_count": 25,
      "metadata": {
        "colab": {
          "base_uri": "https://localhost:8080/",
          "height": 342
        },
        "id": "1X_8bOsrtdin",
        "outputId": "2e003201-aeff-48d0-b1f0-931878af6d09"
      },
      "outputs": [
        {
          "data": {
            "application/vnd.google.colaboratory.intrinsic+json": {
              "type": "dataframe",
              "variable_name": "df_orders_products_merged"
            },
            "text/html": [
              "\n",
              "  <div id=\"df-7bb9d214-f564-4b91-b0f7-b0f5573d847c\" class=\"colab-df-container\">\n",
              "    <div>\n",
              "<style scoped>\n",
              "    .dataframe tbody tr th:only-of-type {\n",
              "        vertical-align: middle;\n",
              "    }\n",
              "\n",
              "    .dataframe tbody tr th {\n",
              "        vertical-align: top;\n",
              "    }\n",
              "\n",
              "    .dataframe thead th {\n",
              "        text-align: right;\n",
              "    }\n",
              "</style>\n",
              "<table border=\"1\" class=\"dataframe\">\n",
              "  <thead>\n",
              "    <tr style=\"text-align: right;\">\n",
              "      <th></th>\n",
              "      <th>order_id</th>\n",
              "      <th>user_id</th>\n",
              "      <th>order_number</th>\n",
              "      <th>orders_day_of_week</th>\n",
              "      <th>order_hour_of_day</th>\n",
              "      <th>days_since_prior_order</th>\n",
              "      <th>first_order</th>\n",
              "      <th>product_id</th>\n",
              "      <th>add_to_cart_order</th>\n",
              "      <th>reordered</th>\n",
              "      <th>...</th>\n",
              "      <th>price_range_loc</th>\n",
              "      <th>busiest_day</th>\n",
              "      <th>Busiest_Days(plural)</th>\n",
              "      <th>busiest_period_of_day</th>\n",
              "      <th>max_order</th>\n",
              "      <th>loyalty_flag</th>\n",
              "      <th>mean_price</th>\n",
              "      <th>spending_flag</th>\n",
              "      <th>customer_frequency</th>\n",
              "      <th>frequency_flag</th>\n",
              "    </tr>\n",
              "  </thead>\n",
              "  <tbody>\n",
              "    <tr>\n",
              "      <th>0</th>\n",
              "      <td>2539329</td>\n",
              "      <td>1</td>\n",
              "      <td>1</td>\n",
              "      <td>2</td>\n",
              "      <td>8</td>\n",
              "      <td>NaN</td>\n",
              "      <td>First Order</td>\n",
              "      <td>196</td>\n",
              "      <td>1</td>\n",
              "      <td>0</td>\n",
              "      <td>...</td>\n",
              "      <td>Mid-range product</td>\n",
              "      <td>Regularly busy</td>\n",
              "      <td>Regular busy</td>\n",
              "      <td>Average orders</td>\n",
              "      <td>10</td>\n",
              "      <td>New customer</td>\n",
              "      <td>6.367535</td>\n",
              "      <td>Low Spender</td>\n",
              "      <td>20.5</td>\n",
              "      <td>Non-frequent customer</td>\n",
              "    </tr>\n",
              "    <tr>\n",
              "      <th>1</th>\n",
              "      <td>2398795</td>\n",
              "      <td>1</td>\n",
              "      <td>2</td>\n",
              "      <td>3</td>\n",
              "      <td>7</td>\n",
              "      <td>15.0</td>\n",
              "      <td>Repeat Customer</td>\n",
              "      <td>196</td>\n",
              "      <td>1</td>\n",
              "      <td>1</td>\n",
              "      <td>...</td>\n",
              "      <td>Mid-range product</td>\n",
              "      <td>Regularly busy</td>\n",
              "      <td>Slowest days</td>\n",
              "      <td>Average orders</td>\n",
              "      <td>10</td>\n",
              "      <td>New customer</td>\n",
              "      <td>6.367535</td>\n",
              "      <td>Low Spender</td>\n",
              "      <td>20.5</td>\n",
              "      <td>Non-frequent customer</td>\n",
              "    </tr>\n",
              "    <tr>\n",
              "      <th>2</th>\n",
              "      <td>473747</td>\n",
              "      <td>1</td>\n",
              "      <td>3</td>\n",
              "      <td>3</td>\n",
              "      <td>12</td>\n",
              "      <td>21.0</td>\n",
              "      <td>Repeat Customer</td>\n",
              "      <td>196</td>\n",
              "      <td>1</td>\n",
              "      <td>1</td>\n",
              "      <td>...</td>\n",
              "      <td>Mid-range product</td>\n",
              "      <td>Regularly busy</td>\n",
              "      <td>Slowest days</td>\n",
              "      <td>Most orders</td>\n",
              "      <td>10</td>\n",
              "      <td>New customer</td>\n",
              "      <td>6.367535</td>\n",
              "      <td>Low Spender</td>\n",
              "      <td>20.5</td>\n",
              "      <td>Non-frequent customer</td>\n",
              "    </tr>\n",
              "    <tr>\n",
              "      <th>3</th>\n",
              "      <td>2254736</td>\n",
              "      <td>1</td>\n",
              "      <td>4</td>\n",
              "      <td>4</td>\n",
              "      <td>7</td>\n",
              "      <td>29.0</td>\n",
              "      <td>Repeat Customer</td>\n",
              "      <td>196</td>\n",
              "      <td>1</td>\n",
              "      <td>1</td>\n",
              "      <td>...</td>\n",
              "      <td>Mid-range product</td>\n",
              "      <td>Least busy</td>\n",
              "      <td>Slowest days</td>\n",
              "      <td>Average orders</td>\n",
              "      <td>10</td>\n",
              "      <td>New customer</td>\n",
              "      <td>6.367535</td>\n",
              "      <td>Low Spender</td>\n",
              "      <td>20.5</td>\n",
              "      <td>Non-frequent customer</td>\n",
              "    </tr>\n",
              "    <tr>\n",
              "      <th>4</th>\n",
              "      <td>431534</td>\n",
              "      <td>1</td>\n",
              "      <td>5</td>\n",
              "      <td>4</td>\n",
              "      <td>15</td>\n",
              "      <td>28.0</td>\n",
              "      <td>Repeat Customer</td>\n",
              "      <td>196</td>\n",
              "      <td>1</td>\n",
              "      <td>1</td>\n",
              "      <td>...</td>\n",
              "      <td>Mid-range product</td>\n",
              "      <td>Least busy</td>\n",
              "      <td>Slowest days</td>\n",
              "      <td>Most orders</td>\n",
              "      <td>10</td>\n",
              "      <td>New customer</td>\n",
              "      <td>6.367535</td>\n",
              "      <td>Low Spender</td>\n",
              "      <td>20.5</td>\n",
              "      <td>Non-frequent customer</td>\n",
              "    </tr>\n",
              "  </tbody>\n",
              "</table>\n",
              "<p>5 rows × 25 columns</p>\n",
              "</div>\n",
              "    <div class=\"colab-df-buttons\">\n",
              "\n",
              "  <div class=\"colab-df-container\">\n",
              "    <button class=\"colab-df-convert\" onclick=\"convertToInteractive('df-7bb9d214-f564-4b91-b0f7-b0f5573d847c')\"\n",
              "            title=\"Convert this dataframe to an interactive table.\"\n",
              "            style=\"display:none;\">\n",
              "\n",
              "  <svg xmlns=\"http://www.w3.org/2000/svg\" height=\"24px\" viewBox=\"0 -960 960 960\">\n",
              "    <path d=\"M120-120v-720h720v720H120Zm60-500h600v-160H180v160Zm220 220h160v-160H400v160Zm0 220h160v-160H400v160ZM180-400h160v-160H180v160Zm440 0h160v-160H620v160ZM180-180h160v-160H180v160Zm440 0h160v-160H620v160Z\"/>\n",
              "  </svg>\n",
              "    </button>\n",
              "\n",
              "  <style>\n",
              "    .colab-df-container {\n",
              "      display:flex;\n",
              "      gap: 12px;\n",
              "    }\n",
              "\n",
              "    .colab-df-convert {\n",
              "      background-color: #E8F0FE;\n",
              "      border: none;\n",
              "      border-radius: 50%;\n",
              "      cursor: pointer;\n",
              "      display: none;\n",
              "      fill: #1967D2;\n",
              "      height: 32px;\n",
              "      padding: 0 0 0 0;\n",
              "      width: 32px;\n",
              "    }\n",
              "\n",
              "    .colab-df-convert:hover {\n",
              "      background-color: #E2EBFA;\n",
              "      box-shadow: 0px 1px 2px rgba(60, 64, 67, 0.3), 0px 1px 3px 1px rgba(60, 64, 67, 0.15);\n",
              "      fill: #174EA6;\n",
              "    }\n",
              "\n",
              "    .colab-df-buttons div {\n",
              "      margin-bottom: 4px;\n",
              "    }\n",
              "\n",
              "    [theme=dark] .colab-df-convert {\n",
              "      background-color: #3B4455;\n",
              "      fill: #D2E3FC;\n",
              "    }\n",
              "\n",
              "    [theme=dark] .colab-df-convert:hover {\n",
              "      background-color: #434B5C;\n",
              "      box-shadow: 0px 1px 3px 1px rgba(0, 0, 0, 0.15);\n",
              "      filter: drop-shadow(0px 1px 2px rgba(0, 0, 0, 0.3));\n",
              "      fill: #FFFFFF;\n",
              "    }\n",
              "  </style>\n",
              "\n",
              "    <script>\n",
              "      const buttonEl =\n",
              "        document.querySelector('#df-7bb9d214-f564-4b91-b0f7-b0f5573d847c button.colab-df-convert');\n",
              "      buttonEl.style.display =\n",
              "        google.colab.kernel.accessAllowed ? 'block' : 'none';\n",
              "\n",
              "      async function convertToInteractive(key) {\n",
              "        const element = document.querySelector('#df-7bb9d214-f564-4b91-b0f7-b0f5573d847c');\n",
              "        const dataTable =\n",
              "          await google.colab.kernel.invokeFunction('convertToInteractive',\n",
              "                                                    [key], {});\n",
              "        if (!dataTable) return;\n",
              "\n",
              "        const docLinkHtml = 'Like what you see? Visit the ' +\n",
              "          '<a target=\"_blank\" href=https://colab.research.google.com/notebooks/data_table.ipynb>data table notebook</a>'\n",
              "          + ' to learn more about interactive tables.';\n",
              "        element.innerHTML = '';\n",
              "        dataTable['output_type'] = 'display_data';\n",
              "        await google.colab.output.renderOutput(dataTable, element);\n",
              "        const docLink = document.createElement('div');\n",
              "        docLink.innerHTML = docLinkHtml;\n",
              "        element.appendChild(docLink);\n",
              "      }\n",
              "    </script>\n",
              "  </div>\n",
              "\n",
              "\n",
              "<div id=\"df-360cdbc3-af56-48c8-9b84-cac963761acd\">\n",
              "  <button class=\"colab-df-quickchart\" onclick=\"quickchart('df-360cdbc3-af56-48c8-9b84-cac963761acd')\"\n",
              "            title=\"Suggest charts\"\n",
              "            style=\"display:none;\">\n",
              "\n",
              "<svg xmlns=\"http://www.w3.org/2000/svg\" height=\"24px\"viewBox=\"0 0 24 24\"\n",
              "     width=\"24px\">\n",
              "    <g>\n",
              "        <path d=\"M19 3H5c-1.1 0-2 .9-2 2v14c0 1.1.9 2 2 2h14c1.1 0 2-.9 2-2V5c0-1.1-.9-2-2-2zM9 17H7v-7h2v7zm4 0h-2V7h2v10zm4 0h-2v-4h2v4z\"/>\n",
              "    </g>\n",
              "</svg>\n",
              "  </button>\n",
              "\n",
              "<style>\n",
              "  .colab-df-quickchart {\n",
              "      --bg-color: #E8F0FE;\n",
              "      --fill-color: #1967D2;\n",
              "      --hover-bg-color: #E2EBFA;\n",
              "      --hover-fill-color: #174EA6;\n",
              "      --disabled-fill-color: #AAA;\n",
              "      --disabled-bg-color: #DDD;\n",
              "  }\n",
              "\n",
              "  [theme=dark] .colab-df-quickchart {\n",
              "      --bg-color: #3B4455;\n",
              "      --fill-color: #D2E3FC;\n",
              "      --hover-bg-color: #434B5C;\n",
              "      --hover-fill-color: #FFFFFF;\n",
              "      --disabled-bg-color: #3B4455;\n",
              "      --disabled-fill-color: #666;\n",
              "  }\n",
              "\n",
              "  .colab-df-quickchart {\n",
              "    background-color: var(--bg-color);\n",
              "    border: none;\n",
              "    border-radius: 50%;\n",
              "    cursor: pointer;\n",
              "    display: none;\n",
              "    fill: var(--fill-color);\n",
              "    height: 32px;\n",
              "    padding: 0;\n",
              "    width: 32px;\n",
              "  }\n",
              "\n",
              "  .colab-df-quickchart:hover {\n",
              "    background-color: var(--hover-bg-color);\n",
              "    box-shadow: 0 1px 2px rgba(60, 64, 67, 0.3), 0 1px 3px 1px rgba(60, 64, 67, 0.15);\n",
              "    fill: var(--button-hover-fill-color);\n",
              "  }\n",
              "\n",
              "  .colab-df-quickchart-complete:disabled,\n",
              "  .colab-df-quickchart-complete:disabled:hover {\n",
              "    background-color: var(--disabled-bg-color);\n",
              "    fill: var(--disabled-fill-color);\n",
              "    box-shadow: none;\n",
              "  }\n",
              "\n",
              "  .colab-df-spinner {\n",
              "    border: 2px solid var(--fill-color);\n",
              "    border-color: transparent;\n",
              "    border-bottom-color: var(--fill-color);\n",
              "    animation:\n",
              "      spin 1s steps(1) infinite;\n",
              "  }\n",
              "\n",
              "  @keyframes spin {\n",
              "    0% {\n",
              "      border-color: transparent;\n",
              "      border-bottom-color: var(--fill-color);\n",
              "      border-left-color: var(--fill-color);\n",
              "    }\n",
              "    20% {\n",
              "      border-color: transparent;\n",
              "      border-left-color: var(--fill-color);\n",
              "      border-top-color: var(--fill-color);\n",
              "    }\n",
              "    30% {\n",
              "      border-color: transparent;\n",
              "      border-left-color: var(--fill-color);\n",
              "      border-top-color: var(--fill-color);\n",
              "      border-right-color: var(--fill-color);\n",
              "    }\n",
              "    40% {\n",
              "      border-color: transparent;\n",
              "      border-right-color: var(--fill-color);\n",
              "      border-top-color: var(--fill-color);\n",
              "    }\n",
              "    60% {\n",
              "      border-color: transparent;\n",
              "      border-right-color: var(--fill-color);\n",
              "    }\n",
              "    80% {\n",
              "      border-color: transparent;\n",
              "      border-right-color: var(--fill-color);\n",
              "      border-bottom-color: var(--fill-color);\n",
              "    }\n",
              "    90% {\n",
              "      border-color: transparent;\n",
              "      border-bottom-color: var(--fill-color);\n",
              "    }\n",
              "  }\n",
              "</style>\n",
              "\n",
              "  <script>\n",
              "    async function quickchart(key) {\n",
              "      const quickchartButtonEl =\n",
              "        document.querySelector('#' + key + ' button');\n",
              "      quickchartButtonEl.disabled = true;  // To prevent multiple clicks.\n",
              "      quickchartButtonEl.classList.add('colab-df-spinner');\n",
              "      try {\n",
              "        const charts = await google.colab.kernel.invokeFunction(\n",
              "            'suggestCharts', [key], {});\n",
              "      } catch (error) {\n",
              "        console.error('Error during call to suggestCharts:', error);\n",
              "      }\n",
              "      quickchartButtonEl.classList.remove('colab-df-spinner');\n",
              "      quickchartButtonEl.classList.add('colab-df-quickchart-complete');\n",
              "    }\n",
              "    (() => {\n",
              "      let quickchartButtonEl =\n",
              "        document.querySelector('#df-360cdbc3-af56-48c8-9b84-cac963761acd button');\n",
              "      quickchartButtonEl.style.display =\n",
              "        google.colab.kernel.accessAllowed ? 'block' : 'none';\n",
              "    })();\n",
              "  </script>\n",
              "</div>\n",
              "    </div>\n",
              "  </div>\n"
            ],
            "text/plain": [
              "   order_id  user_id  order_number  orders_day_of_week  order_hour_of_day  \\\n",
              "0   2539329        1             1                   2                  8   \n",
              "1   2398795        1             2                   3                  7   \n",
              "2    473747        1             3                   3                 12   \n",
              "3   2254736        1             4                   4                  7   \n",
              "4    431534        1             5                   4                 15   \n",
              "\n",
              "   days_since_prior_order      first_order  product_id  add_to_cart_order  \\\n",
              "0                     NaN      First Order         196                  1   \n",
              "1                    15.0  Repeat Customer         196                  1   \n",
              "2                    21.0  Repeat Customer         196                  1   \n",
              "3                    29.0  Repeat Customer         196                  1   \n",
              "4                    28.0  Repeat Customer         196                  1   \n",
              "\n",
              "   reordered  ...    price_range_loc     busiest_day  Busiest_Days(plural)  \\\n",
              "0          0  ...  Mid-range product  Regularly busy          Regular busy   \n",
              "1          1  ...  Mid-range product  Regularly busy          Slowest days   \n",
              "2          1  ...  Mid-range product  Regularly busy          Slowest days   \n",
              "3          1  ...  Mid-range product      Least busy          Slowest days   \n",
              "4          1  ...  Mid-range product      Least busy          Slowest days   \n",
              "\n",
              "   busiest_period_of_day max_order  loyalty_flag mean_price spending_flag  \\\n",
              "0         Average orders        10  New customer   6.367535   Low Spender   \n",
              "1         Average orders        10  New customer   6.367535   Low Spender   \n",
              "2            Most orders        10  New customer   6.367535   Low Spender   \n",
              "3         Average orders        10  New customer   6.367535   Low Spender   \n",
              "4            Most orders        10  New customer   6.367535   Low Spender   \n",
              "\n",
              "  customer_frequency         frequency_flag  \n",
              "0               20.5  Non-frequent customer  \n",
              "1               20.5  Non-frequent customer  \n",
              "2               20.5  Non-frequent customer  \n",
              "3               20.5  Non-frequent customer  \n",
              "4               20.5  Non-frequent customer  \n",
              "\n",
              "[5 rows x 25 columns]"
            ]
          },
          "execution_count": 25,
          "metadata": {},
          "output_type": "execute_result"
        }
      ],
      "source": [
        "df_orders_products_merged.head(5)"
      ]
    },
    {
      "cell_type": "code",
      "execution_count": 26,
      "metadata": {
        "id": "y9xnMKehqSFo"
      },
      "outputs": [],
      "source": [
        "# Check the shape of dataframe df_orders_products_merged and df_customers"
      ]
    },
    {
      "cell_type": "code",
      "execution_count": 27,
      "metadata": {
        "colab": {
          "base_uri": "https://localhost:8080/"
        },
        "id": "JpxwZja7qSNY",
        "outputId": "fa31cb20-66fa-4f06-e876-cbb1e0a81b12"
      },
      "outputs": [
        {
          "data": {
            "text/plain": [
              "(32404161, 25)"
            ]
          },
          "execution_count": 27,
          "metadata": {},
          "output_type": "execute_result"
        }
      ],
      "source": [
        "df_orders_products_merged.shape"
      ]
    },
    {
      "cell_type": "code",
      "execution_count": 28,
      "metadata": {
        "colab": {
          "base_uri": "https://localhost:8080/"
        },
        "id": "m0Ro5jYfqSW7",
        "outputId": "bd75ffd1-3e75-4a64-c472-228d0354e985"
      },
      "outputs": [
        {
          "data": {
            "text/plain": [
              "(206209, 10)"
            ]
          },
          "execution_count": 28,
          "metadata": {},
          "output_type": "execute_result"
        }
      ],
      "source": [
        "df_customers.shape"
      ]
    },
    {
      "cell_type": "code",
      "execution_count": 29,
      "metadata": {
        "id": "5AkvDbcWqSgT"
      },
      "outputs": [],
      "source": [
        "# As the shapes of the dataframes a quite different, we will do a merge.\n",
        "# Check the columns names for df_orders_products_merged and df_customers to see which columns we can merge the dataframes on."
      ]
    },
    {
      "cell_type": "code",
      "execution_count": 30,
      "metadata": {
        "colab": {
          "base_uri": "https://localhost:8080/"
        },
        "id": "LrZxdgOotPCz",
        "outputId": "01a39e02-7a5a-4f0b-b277-f5a566118e53"
      },
      "outputs": [
        {
          "data": {
            "text/plain": [
              "Index(['user_id', 'first_name', 'surname', 'gender', 'state', 'age',\n",
              "       'date_joined', 'n_dependants', 'marital_status', 'income'],\n",
              "      dtype='object')"
            ]
          },
          "execution_count": 30,
          "metadata": {},
          "output_type": "execute_result"
        }
      ],
      "source": [
        "df_customers.columns"
      ]
    },
    {
      "cell_type": "code",
      "execution_count": 31,
      "metadata": {
        "colab": {
          "base_uri": "https://localhost:8080/"
        },
        "id": "pF4mm6U2tPP3",
        "outputId": "9d766d9e-1e5a-4bb2-93eb-e6393b04599a"
      },
      "outputs": [
        {
          "data": {
            "text/plain": [
              "Index(['order_id', 'user_id', 'order_number', 'orders_day_of_week',\n",
              "       'order_hour_of_day', 'days_since_prior_order', 'first_order',\n",
              "       'product_id', 'add_to_cart_order', 'reordered', 'product_name',\n",
              "       'aisle_id', 'department_id', 'prices', '_merge', 'price_range_loc',\n",
              "       'busiest_day', 'Busiest_Days(plural)', 'busiest_period_of_day',\n",
              "       'max_order', 'loyalty_flag', 'mean_price', 'spending_flag',\n",
              "       'customer_frequency', 'frequency_flag'],\n",
              "      dtype='object')"
            ]
          },
          "execution_count": 31,
          "metadata": {},
          "output_type": "execute_result"
        }
      ],
      "source": [
        "df_orders_products_merged.columns"
      ]
    },
    {
      "cell_type": "code",
      "execution_count": 32,
      "metadata": {
        "id": "zUIJ-qQa4o6S"
      },
      "outputs": [],
      "source": [
        "# Drop the '_merge' column that was genrated from the previous merge in the last excercise\n",
        "\n",
        "df_orders_products_merged = df_orders_products_merged.drop(columns=['_merge'])"
      ]
    },
    {
      "cell_type": "code",
      "execution_count": 33,
      "metadata": {
        "colab": {
          "base_uri": "https://localhost:8080/"
        },
        "id": "1z2MKUXR5VLE",
        "outputId": "94ac060a-1d6f-4909-a262-080e81408b01"
      },
      "outputs": [
        {
          "data": {
            "text/plain": [
              "Index(['order_id', 'user_id', 'order_number', 'orders_day_of_week',\n",
              "       'order_hour_of_day', 'days_since_prior_order', 'first_order',\n",
              "       'product_id', 'add_to_cart_order', 'reordered', 'product_name',\n",
              "       'aisle_id', 'department_id', 'prices', 'price_range_loc', 'busiest_day',\n",
              "       'Busiest_Days(plural)', 'busiest_period_of_day', 'max_order',\n",
              "       'loyalty_flag', 'mean_price', 'spending_flag', 'customer_frequency',\n",
              "       'frequency_flag'],\n",
              "      dtype='object')"
            ]
          },
          "execution_count": 33,
          "metadata": {},
          "output_type": "execute_result"
        }
      ],
      "source": [
        "# Check the column is dropped\n",
        "\n",
        "df_orders_products_merged.columns"
      ]
    },
    {
      "cell_type": "code",
      "execution_count": 34,
      "metadata": {
        "id": "OLmqgd8pvt2Q"
      },
      "outputs": [],
      "source": [
        "# Check the data types of order_id in both dataframes, they should be the same"
      ]
    },
    {
      "cell_type": "code",
      "execution_count": 35,
      "metadata": {
        "colab": {
          "base_uri": "https://localhost:8080/"
        },
        "id": "wdK_eay7vtpq",
        "outputId": "2f58f267-cd6a-417d-a542-e8f431012a99"
      },
      "outputs": [
        {
          "data": {
            "text/plain": [
              "dtype('int64')"
            ]
          },
          "execution_count": 35,
          "metadata": {},
          "output_type": "execute_result"
        }
      ],
      "source": [
        "df_customers.dtypes['user_id']"
      ]
    },
    {
      "cell_type": "code",
      "execution_count": 36,
      "metadata": {
        "colab": {
          "base_uri": "https://localhost:8080/"
        },
        "id": "KooZfYg1vtN7",
        "outputId": "51c06567-e230-4386-b97d-54121b0c9b48"
      },
      "outputs": [
        {
          "data": {
            "text/plain": [
              "dtype('int64')"
            ]
          },
          "execution_count": 36,
          "metadata": {},
          "output_type": "execute_result"
        }
      ],
      "source": [
        "df_orders_products_merged.dtypes['user_id']"
      ]
    },
    {
      "cell_type": "code",
      "execution_count": 37,
      "metadata": {
        "id": "3qOTyTaytPaN"
      },
      "outputs": [],
      "source": [
        "# Both dataframes have user_id so we will merge them on this column"
      ]
    },
    {
      "cell_type": "markdown",
      "metadata": {
        "id": "FXW9Nn0YXocO"
      },
      "source": [
        "# 8. Changing Data Types due to RAM issue/ Sample dataframes"
      ]
    },
    {
      "cell_type": "code",
      "execution_count": 38,
      "metadata": {
        "id": "xZ6FmNLIHLnR"
      },
      "outputs": [],
      "source": [
        "df_customers['gender'] = df_customers['gender'].astype('category')"
      ]
    },
    {
      "cell_type": "code",
      "execution_count": 39,
      "metadata": {
        "id": "fjvyy9jQHwcb"
      },
      "outputs": [],
      "source": [
        "df_customers['state'] = df_customers['state'].astype('category')"
      ]
    },
    {
      "cell_type": "code",
      "execution_count": 40,
      "metadata": {
        "id": "lZ0O105VHwo4"
      },
      "outputs": [],
      "source": [
        "df_customers['marital_status'] = df_customers['marital_status'].astype('category')"
      ]
    },
    {
      "cell_type": "code",
      "execution_count": 41,
      "metadata": {
        "colab": {
          "base_uri": "https://localhost:8080/"
        },
        "id": "bdIqXxGwI8TD",
        "outputId": "0500eaf3-082d-4714-f135-e3a44e3ef53f"
      },
      "outputs": [
        {
          "data": {
            "text/plain": [
              "order_id                     int32\n",
              "user_id                      int64\n",
              "order_number                 int64\n",
              "orders_day_of_week           int64\n",
              "order_hour_of_day            int64\n",
              "days_since_prior_order     float64\n",
              "first_order               category\n",
              "product_id                   int32\n",
              "add_to_cart_order            int32\n",
              "reordered                     int8\n",
              "product_name                object\n",
              "aisle_id                     int32\n",
              "department_id                int32\n",
              "prices                     float16\n",
              "price_range_loc             object\n",
              "busiest_day                 object\n",
              "Busiest_Days(plural)        object\n",
              "busiest_period_of_day       object\n",
              "max_order                    int64\n",
              "loyalty_flag                object\n",
              "mean_price                 float32\n",
              "spending_flag               object\n",
              "customer_frequency         float64\n",
              "frequency_flag              object\n",
              "dtype: object"
            ]
          },
          "execution_count": 41,
          "metadata": {},
          "output_type": "execute_result"
        }
      ],
      "source": [
        "df_orders_products_merged.dtypes"
      ]
    },
    {
      "cell_type": "code",
      "execution_count": 42,
      "metadata": {
        "id": "OOc4RqwhJvW2"
      },
      "outputs": [],
      "source": [
        "df_orders_products_merged['busiest_day'] = df_orders_products_merged['busiest_day'].astype('category')"
      ]
    },
    {
      "cell_type": "code",
      "execution_count": 43,
      "metadata": {
        "id": "76FjHAL5Jvec"
      },
      "outputs": [],
      "source": [
        "df_orders_products_merged['Busiest_Days(plural)'] = df_orders_products_merged['Busiest_Days(plural)'].astype('category')"
      ]
    },
    {
      "cell_type": "code",
      "execution_count": 44,
      "metadata": {
        "id": "hF3URF1lJvl4"
      },
      "outputs": [],
      "source": [
        "df_orders_products_merged['loyalty_flag'] = df_orders_products_merged['loyalty_flag'].astype('category')"
      ]
    },
    {
      "cell_type": "code",
      "execution_count": 45,
      "metadata": {
        "id": "vwLumnIwJvrE"
      },
      "outputs": [],
      "source": [
        "df_orders_products_merged['spending_flag'] = df_orders_products_merged['spending_flag'].astype('category')"
      ]
    },
    {
      "cell_type": "code",
      "execution_count": 46,
      "metadata": {
        "id": "u54os8tpLCsU"
      },
      "outputs": [],
      "source": [
        "df_orders_products_merged['frequency_flag'] = df_orders_products_merged['frequency_flag'].astype('category')"
      ]
    },
    {
      "cell_type": "code",
      "execution_count": 47,
      "metadata": {
        "id": "W_YChyfYLp8l"
      },
      "outputs": [],
      "source": [
        "df_orders_products_merged['order_id'] = df_orders_products_merged['order_id'].astype('int16')"
      ]
    },
    {
      "cell_type": "code",
      "execution_count": 48,
      "metadata": {
        "id": "GKVhYHXSLqGt"
      },
      "outputs": [],
      "source": [
        "df_orders_products_merged['user_id'] = df_orders_products_merged['user_id'].astype('int8')"
      ]
    },
    {
      "cell_type": "code",
      "execution_count": 49,
      "metadata": {
        "id": "F38yDKJdLqOJ"
      },
      "outputs": [],
      "source": [
        "df_orders_products_merged['order_number'] = df_orders_products_merged['order_number'].astype('int8')"
      ]
    },
    {
      "cell_type": "code",
      "execution_count": 50,
      "metadata": {
        "id": "bkkI4MO5LqV0"
      },
      "outputs": [],
      "source": [
        "df_orders_products_merged['orders_day_of_week'] = df_orders_products_merged['orders_day_of_week'].astype('int8')"
      ]
    },
    {
      "cell_type": "code",
      "execution_count": 51,
      "metadata": {
        "id": "pnZgDD8TMwXk"
      },
      "outputs": [],
      "source": [
        "df_orders_products_merged['order_hour_of_day'] = df_orders_products_merged['order_hour_of_day'].astype('int8')"
      ]
    },
    {
      "cell_type": "code",
      "execution_count": 52,
      "metadata": {
        "id": "_uMBBl3cMwfG"
      },
      "outputs": [],
      "source": [
        "df_orders_products_merged['product_id'] = df_orders_products_merged['product_id'].astype('int16')"
      ]
    },
    {
      "cell_type": "code",
      "execution_count": 53,
      "metadata": {
        "id": "5eIofbNxMwmO"
      },
      "outputs": [],
      "source": [
        "df_orders_products_merged['add_to_cart_order'] = df_orders_products_merged['add_to_cart_order'].astype('int8')"
      ]
    },
    {
      "cell_type": "code",
      "execution_count": 54,
      "metadata": {
        "colab": {
          "base_uri": "https://localhost:8080/"
        },
        "id": "JD5t7HPTOUnm",
        "outputId": "41df7fed-e28b-4648-bda7-60aa36d1ae2e"
      },
      "outputs": [
        {
          "data": {
            "text/plain": [
              "order_id                     int16\n",
              "user_id                       int8\n",
              "order_number                  int8\n",
              "orders_day_of_week            int8\n",
              "order_hour_of_day             int8\n",
              "days_since_prior_order     float64\n",
              "first_order               category\n",
              "product_id                   int16\n",
              "add_to_cart_order             int8\n",
              "reordered                     int8\n",
              "product_name                object\n",
              "aisle_id                     int32\n",
              "department_id                int32\n",
              "prices                     float16\n",
              "price_range_loc             object\n",
              "busiest_day               category\n",
              "Busiest_Days(plural)      category\n",
              "busiest_period_of_day       object\n",
              "max_order                    int64\n",
              "loyalty_flag              category\n",
              "mean_price                 float32\n",
              "spending_flag             category\n",
              "customer_frequency         float64\n",
              "frequency_flag            category\n",
              "dtype: object"
            ]
          },
          "execution_count": 54,
          "metadata": {},
          "output_type": "execute_result"
        }
      ],
      "source": [
        "df_orders_products_merged.dtypes"
      ]
    },
    {
      "cell_type": "code",
      "execution_count": 55,
      "metadata": {
        "id": "sa9tQ4ESyDLD"
      },
      "outputs": [],
      "source": [
        "# As I still cannot merge the dataframes due to the RAM, I have taken a 40% sample of each dataframe (The highest percentage I could do)\n"
      ]
    },
    {
      "cell_type": "code",
      "execution_count": 56,
      "metadata": {
        "id": "nafUKbg70RAH"
      },
      "outputs": [],
      "source": [
        "df_sampled_orders_product = df_orders_products_merged.sample(frac=0.40, random_state = 80)"
      ]
    },
    {
      "cell_type": "code",
      "execution_count": 57,
      "metadata": {
        "colab": {
          "base_uri": "https://localhost:8080/"
        },
        "id": "4jPPZ-GO32-4",
        "outputId": "c379ec32-8f31-43f8-9f9b-c6483a258059"
      },
      "outputs": [
        {
          "data": {
            "text/plain": [
              "(12961664, 24)"
            ]
          },
          "execution_count": 57,
          "metadata": {},
          "output_type": "execute_result"
        }
      ],
      "source": [
        "df_sampled_orders_product.shape"
      ]
    },
    {
      "cell_type": "code",
      "execution_count": 58,
      "metadata": {
        "id": "Noa4TCq90YLr"
      },
      "outputs": [],
      "source": [
        "df_sampled_customer = df_customers.sample(frac=0.40, random_state = 80)"
      ]
    },
    {
      "cell_type": "code",
      "execution_count": 59,
      "metadata": {
        "colab": {
          "base_uri": "https://localhost:8080/"
        },
        "id": "kxIzdQtB37Xo",
        "outputId": "25751fd6-3ec2-4377-89b8-05f90de84a0d"
      },
      "outputs": [
        {
          "data": {
            "text/plain": [
              "(82484, 10)"
            ]
          },
          "execution_count": 59,
          "metadata": {},
          "output_type": "execute_result"
        }
      ],
      "source": [
        "df_sampled_customer.shape"
      ]
    },
    {
      "cell_type": "markdown",
      "metadata": {
        "id": "yAZzIvp-5TmG"
      },
      "source": [
        "# 9. Merging Dataframes"
      ]
    },
    {
      "cell_type": "code",
      "execution_count": 60,
      "metadata": {
        "id": "nxC7grMyvOzc"
      },
      "outputs": [],
      "source": [
        "# Merge the dataframes together on user_id\n",
        "\n",
        "df_orders_product_customer_merge = df_sampled_customer.merge(df_sampled_orders_product, on = 'user_id', indicator = True)"
      ]
    },
    {
      "cell_type": "code",
      "execution_count": 61,
      "metadata": {
        "colab": {
          "base_uri": "https://localhost:8080/"
        },
        "id": "sPV7ITSm54gJ",
        "outputId": "cefc12dd-da1b-42b0-e936-8595696df31d"
      },
      "outputs": [
        {
          "data": {
            "text/plain": [
              "(2771091, 34)"
            ]
          },
          "execution_count": 61,
          "metadata": {},
          "output_type": "execute_result"
        }
      ],
      "source": [
        "df_orders_product_customer_merge.shape"
      ]
    },
    {
      "cell_type": "code",
      "execution_count": 62,
      "metadata": {
        "colab": {
          "base_uri": "https://localhost:8080/",
          "height": 342
        },
        "id": "Qs6c-Dsp6Vct",
        "outputId": "4029b5d1-93de-4b3d-a96d-2416c965bc71"
      },
      "outputs": [
        {
          "data": {
            "application/vnd.google.colaboratory.intrinsic+json": {
              "type": "dataframe",
              "variable_name": "df_orders_product_customer_merge"
            },
            "text/html": [
              "\n",
              "  <div id=\"df-d82bc169-1cf7-4a65-bdca-afa6c8c5e2e7\" class=\"colab-df-container\">\n",
              "    <div>\n",
              "<style scoped>\n",
              "    .dataframe tbody tr th:only-of-type {\n",
              "        vertical-align: middle;\n",
              "    }\n",
              "\n",
              "    .dataframe tbody tr th {\n",
              "        vertical-align: top;\n",
              "    }\n",
              "\n",
              "    .dataframe thead th {\n",
              "        text-align: right;\n",
              "    }\n",
              "</style>\n",
              "<table border=\"1\" class=\"dataframe\">\n",
              "  <thead>\n",
              "    <tr style=\"text-align: right;\">\n",
              "      <th></th>\n",
              "      <th>user_id</th>\n",
              "      <th>first_name</th>\n",
              "      <th>surname</th>\n",
              "      <th>gender</th>\n",
              "      <th>state</th>\n",
              "      <th>age</th>\n",
              "      <th>date_joined</th>\n",
              "      <th>n_dependants</th>\n",
              "      <th>marital_status</th>\n",
              "      <th>income</th>\n",
              "      <th>...</th>\n",
              "      <th>busiest_day</th>\n",
              "      <th>Busiest_Days(plural)</th>\n",
              "      <th>busiest_period_of_day</th>\n",
              "      <th>max_order</th>\n",
              "      <th>loyalty_flag</th>\n",
              "      <th>mean_price</th>\n",
              "      <th>spending_flag</th>\n",
              "      <th>customer_frequency</th>\n",
              "      <th>frequency_flag</th>\n",
              "      <th>_merge</th>\n",
              "    </tr>\n",
              "  </thead>\n",
              "  <tbody>\n",
              "    <tr>\n",
              "      <th>0</th>\n",
              "      <td>90</td>\n",
              "      <td>Kimberly</td>\n",
              "      <td>Kent</td>\n",
              "      <td>Female</td>\n",
              "      <td>Pennsylvania</td>\n",
              "      <td>60</td>\n",
              "      <td>3/25/2017</td>\n",
              "      <td>1</td>\n",
              "      <td>married</td>\n",
              "      <td>50952</td>\n",
              "      <td>...</td>\n",
              "      <td>Busiest day</td>\n",
              "      <td>Busiest days</td>\n",
              "      <td>Most orders</td>\n",
              "      <td>42</td>\n",
              "      <td>Loyal customer</td>\n",
              "      <td>8.075028</td>\n",
              "      <td>Low Spender</td>\n",
              "      <td>8.0</td>\n",
              "      <td>Frequent customer</td>\n",
              "      <td>both</td>\n",
              "    </tr>\n",
              "    <tr>\n",
              "      <th>1</th>\n",
              "      <td>90</td>\n",
              "      <td>Kimberly</td>\n",
              "      <td>Kent</td>\n",
              "      <td>Female</td>\n",
              "      <td>Pennsylvania</td>\n",
              "      <td>60</td>\n",
              "      <td>3/25/2017</td>\n",
              "      <td>1</td>\n",
              "      <td>married</td>\n",
              "      <td>50952</td>\n",
              "      <td>...</td>\n",
              "      <td>Regularly busy</td>\n",
              "      <td>Regular busy</td>\n",
              "      <td>Most orders</td>\n",
              "      <td>12</td>\n",
              "      <td>Regular customer</td>\n",
              "      <td>7.716068</td>\n",
              "      <td>Low Spender</td>\n",
              "      <td>11.0</td>\n",
              "      <td>Regular customer</td>\n",
              "      <td>both</td>\n",
              "    </tr>\n",
              "    <tr>\n",
              "      <th>2</th>\n",
              "      <td>90</td>\n",
              "      <td>Kimberly</td>\n",
              "      <td>Kent</td>\n",
              "      <td>Female</td>\n",
              "      <td>Pennsylvania</td>\n",
              "      <td>60</td>\n",
              "      <td>3/25/2017</td>\n",
              "      <td>1</td>\n",
              "      <td>married</td>\n",
              "      <td>50952</td>\n",
              "      <td>...</td>\n",
              "      <td>Regularly busy</td>\n",
              "      <td>Regular busy</td>\n",
              "      <td>Most orders</td>\n",
              "      <td>84</td>\n",
              "      <td>Loyal customer</td>\n",
              "      <td>7.991170</td>\n",
              "      <td>Low Spender</td>\n",
              "      <td>4.0</td>\n",
              "      <td>Frequent customer</td>\n",
              "      <td>both</td>\n",
              "    </tr>\n",
              "    <tr>\n",
              "      <th>3</th>\n",
              "      <td>90</td>\n",
              "      <td>Kimberly</td>\n",
              "      <td>Kent</td>\n",
              "      <td>Female</td>\n",
              "      <td>Pennsylvania</td>\n",
              "      <td>60</td>\n",
              "      <td>3/25/2017</td>\n",
              "      <td>1</td>\n",
              "      <td>married</td>\n",
              "      <td>50952</td>\n",
              "      <td>...</td>\n",
              "      <td>Regularly busy</td>\n",
              "      <td>Slowest days</td>\n",
              "      <td>Most orders</td>\n",
              "      <td>44</td>\n",
              "      <td>Loyal customer</td>\n",
              "      <td>8.079674</td>\n",
              "      <td>Low Spender</td>\n",
              "      <td>7.0</td>\n",
              "      <td>Frequent customer</td>\n",
              "      <td>both</td>\n",
              "    </tr>\n",
              "    <tr>\n",
              "      <th>4</th>\n",
              "      <td>90</td>\n",
              "      <td>Kimberly</td>\n",
              "      <td>Kent</td>\n",
              "      <td>Female</td>\n",
              "      <td>Pennsylvania</td>\n",
              "      <td>60</td>\n",
              "      <td>3/25/2017</td>\n",
              "      <td>1</td>\n",
              "      <td>married</td>\n",
              "      <td>50952</td>\n",
              "      <td>...</td>\n",
              "      <td>Regularly busy</td>\n",
              "      <td>Busiest days</td>\n",
              "      <td>Most orders</td>\n",
              "      <td>5</td>\n",
              "      <td>New customer</td>\n",
              "      <td>6.124142</td>\n",
              "      <td>Low Spender</td>\n",
              "      <td>20.0</td>\n",
              "      <td>Regular customer</td>\n",
              "      <td>both</td>\n",
              "    </tr>\n",
              "  </tbody>\n",
              "</table>\n",
              "<p>5 rows × 34 columns</p>\n",
              "</div>\n",
              "    <div class=\"colab-df-buttons\">\n",
              "\n",
              "  <div class=\"colab-df-container\">\n",
              "    <button class=\"colab-df-convert\" onclick=\"convertToInteractive('df-d82bc169-1cf7-4a65-bdca-afa6c8c5e2e7')\"\n",
              "            title=\"Convert this dataframe to an interactive table.\"\n",
              "            style=\"display:none;\">\n",
              "\n",
              "  <svg xmlns=\"http://www.w3.org/2000/svg\" height=\"24px\" viewBox=\"0 -960 960 960\">\n",
              "    <path d=\"M120-120v-720h720v720H120Zm60-500h600v-160H180v160Zm220 220h160v-160H400v160Zm0 220h160v-160H400v160ZM180-400h160v-160H180v160Zm440 0h160v-160H620v160ZM180-180h160v-160H180v160Zm440 0h160v-160H620v160Z\"/>\n",
              "  </svg>\n",
              "    </button>\n",
              "\n",
              "  <style>\n",
              "    .colab-df-container {\n",
              "      display:flex;\n",
              "      gap: 12px;\n",
              "    }\n",
              "\n",
              "    .colab-df-convert {\n",
              "      background-color: #E8F0FE;\n",
              "      border: none;\n",
              "      border-radius: 50%;\n",
              "      cursor: pointer;\n",
              "      display: none;\n",
              "      fill: #1967D2;\n",
              "      height: 32px;\n",
              "      padding: 0 0 0 0;\n",
              "      width: 32px;\n",
              "    }\n",
              "\n",
              "    .colab-df-convert:hover {\n",
              "      background-color: #E2EBFA;\n",
              "      box-shadow: 0px 1px 2px rgba(60, 64, 67, 0.3), 0px 1px 3px 1px rgba(60, 64, 67, 0.15);\n",
              "      fill: #174EA6;\n",
              "    }\n",
              "\n",
              "    .colab-df-buttons div {\n",
              "      margin-bottom: 4px;\n",
              "    }\n",
              "\n",
              "    [theme=dark] .colab-df-convert {\n",
              "      background-color: #3B4455;\n",
              "      fill: #D2E3FC;\n",
              "    }\n",
              "\n",
              "    [theme=dark] .colab-df-convert:hover {\n",
              "      background-color: #434B5C;\n",
              "      box-shadow: 0px 1px 3px 1px rgba(0, 0, 0, 0.15);\n",
              "      filter: drop-shadow(0px 1px 2px rgba(0, 0, 0, 0.3));\n",
              "      fill: #FFFFFF;\n",
              "    }\n",
              "  </style>\n",
              "\n",
              "    <script>\n",
              "      const buttonEl =\n",
              "        document.querySelector('#df-d82bc169-1cf7-4a65-bdca-afa6c8c5e2e7 button.colab-df-convert');\n",
              "      buttonEl.style.display =\n",
              "        google.colab.kernel.accessAllowed ? 'block' : 'none';\n",
              "\n",
              "      async function convertToInteractive(key) {\n",
              "        const element = document.querySelector('#df-d82bc169-1cf7-4a65-bdca-afa6c8c5e2e7');\n",
              "        const dataTable =\n",
              "          await google.colab.kernel.invokeFunction('convertToInteractive',\n",
              "                                                    [key], {});\n",
              "        if (!dataTable) return;\n",
              "\n",
              "        const docLinkHtml = 'Like what you see? Visit the ' +\n",
              "          '<a target=\"_blank\" href=https://colab.research.google.com/notebooks/data_table.ipynb>data table notebook</a>'\n",
              "          + ' to learn more about interactive tables.';\n",
              "        element.innerHTML = '';\n",
              "        dataTable['output_type'] = 'display_data';\n",
              "        await google.colab.output.renderOutput(dataTable, element);\n",
              "        const docLink = document.createElement('div');\n",
              "        docLink.innerHTML = docLinkHtml;\n",
              "        element.appendChild(docLink);\n",
              "      }\n",
              "    </script>\n",
              "  </div>\n",
              "\n",
              "\n",
              "<div id=\"df-0593ebe0-2f71-49a9-b0a9-226feb104d26\">\n",
              "  <button class=\"colab-df-quickchart\" onclick=\"quickchart('df-0593ebe0-2f71-49a9-b0a9-226feb104d26')\"\n",
              "            title=\"Suggest charts\"\n",
              "            style=\"display:none;\">\n",
              "\n",
              "<svg xmlns=\"http://www.w3.org/2000/svg\" height=\"24px\"viewBox=\"0 0 24 24\"\n",
              "     width=\"24px\">\n",
              "    <g>\n",
              "        <path d=\"M19 3H5c-1.1 0-2 .9-2 2v14c0 1.1.9 2 2 2h14c1.1 0 2-.9 2-2V5c0-1.1-.9-2-2-2zM9 17H7v-7h2v7zm4 0h-2V7h2v10zm4 0h-2v-4h2v4z\"/>\n",
              "    </g>\n",
              "</svg>\n",
              "  </button>\n",
              "\n",
              "<style>\n",
              "  .colab-df-quickchart {\n",
              "      --bg-color: #E8F0FE;\n",
              "      --fill-color: #1967D2;\n",
              "      --hover-bg-color: #E2EBFA;\n",
              "      --hover-fill-color: #174EA6;\n",
              "      --disabled-fill-color: #AAA;\n",
              "      --disabled-bg-color: #DDD;\n",
              "  }\n",
              "\n",
              "  [theme=dark] .colab-df-quickchart {\n",
              "      --bg-color: #3B4455;\n",
              "      --fill-color: #D2E3FC;\n",
              "      --hover-bg-color: #434B5C;\n",
              "      --hover-fill-color: #FFFFFF;\n",
              "      --disabled-bg-color: #3B4455;\n",
              "      --disabled-fill-color: #666;\n",
              "  }\n",
              "\n",
              "  .colab-df-quickchart {\n",
              "    background-color: var(--bg-color);\n",
              "    border: none;\n",
              "    border-radius: 50%;\n",
              "    cursor: pointer;\n",
              "    display: none;\n",
              "    fill: var(--fill-color);\n",
              "    height: 32px;\n",
              "    padding: 0;\n",
              "    width: 32px;\n",
              "  }\n",
              "\n",
              "  .colab-df-quickchart:hover {\n",
              "    background-color: var(--hover-bg-color);\n",
              "    box-shadow: 0 1px 2px rgba(60, 64, 67, 0.3), 0 1px 3px 1px rgba(60, 64, 67, 0.15);\n",
              "    fill: var(--button-hover-fill-color);\n",
              "  }\n",
              "\n",
              "  .colab-df-quickchart-complete:disabled,\n",
              "  .colab-df-quickchart-complete:disabled:hover {\n",
              "    background-color: var(--disabled-bg-color);\n",
              "    fill: var(--disabled-fill-color);\n",
              "    box-shadow: none;\n",
              "  }\n",
              "\n",
              "  .colab-df-spinner {\n",
              "    border: 2px solid var(--fill-color);\n",
              "    border-color: transparent;\n",
              "    border-bottom-color: var(--fill-color);\n",
              "    animation:\n",
              "      spin 1s steps(1) infinite;\n",
              "  }\n",
              "\n",
              "  @keyframes spin {\n",
              "    0% {\n",
              "      border-color: transparent;\n",
              "      border-bottom-color: var(--fill-color);\n",
              "      border-left-color: var(--fill-color);\n",
              "    }\n",
              "    20% {\n",
              "      border-color: transparent;\n",
              "      border-left-color: var(--fill-color);\n",
              "      border-top-color: var(--fill-color);\n",
              "    }\n",
              "    30% {\n",
              "      border-color: transparent;\n",
              "      border-left-color: var(--fill-color);\n",
              "      border-top-color: var(--fill-color);\n",
              "      border-right-color: var(--fill-color);\n",
              "    }\n",
              "    40% {\n",
              "      border-color: transparent;\n",
              "      border-right-color: var(--fill-color);\n",
              "      border-top-color: var(--fill-color);\n",
              "    }\n",
              "    60% {\n",
              "      border-color: transparent;\n",
              "      border-right-color: var(--fill-color);\n",
              "    }\n",
              "    80% {\n",
              "      border-color: transparent;\n",
              "      border-right-color: var(--fill-color);\n",
              "      border-bottom-color: var(--fill-color);\n",
              "    }\n",
              "    90% {\n",
              "      border-color: transparent;\n",
              "      border-bottom-color: var(--fill-color);\n",
              "    }\n",
              "  }\n",
              "</style>\n",
              "\n",
              "  <script>\n",
              "    async function quickchart(key) {\n",
              "      const quickchartButtonEl =\n",
              "        document.querySelector('#' + key + ' button');\n",
              "      quickchartButtonEl.disabled = true;  // To prevent multiple clicks.\n",
              "      quickchartButtonEl.classList.add('colab-df-spinner');\n",
              "      try {\n",
              "        const charts = await google.colab.kernel.invokeFunction(\n",
              "            'suggestCharts', [key], {});\n",
              "      } catch (error) {\n",
              "        console.error('Error during call to suggestCharts:', error);\n",
              "      }\n",
              "      quickchartButtonEl.classList.remove('colab-df-spinner');\n",
              "      quickchartButtonEl.classList.add('colab-df-quickchart-complete');\n",
              "    }\n",
              "    (() => {\n",
              "      let quickchartButtonEl =\n",
              "        document.querySelector('#df-0593ebe0-2f71-49a9-b0a9-226feb104d26 button');\n",
              "      quickchartButtonEl.style.display =\n",
              "        google.colab.kernel.accessAllowed ? 'block' : 'none';\n",
              "    })();\n",
              "  </script>\n",
              "</div>\n",
              "    </div>\n",
              "  </div>\n"
            ],
            "text/plain": [
              "   user_id first_name surname  gender         state  age date_joined  \\\n",
              "0       90   Kimberly    Kent  Female  Pennsylvania   60   3/25/2017   \n",
              "1       90   Kimberly    Kent  Female  Pennsylvania   60   3/25/2017   \n",
              "2       90   Kimberly    Kent  Female  Pennsylvania   60   3/25/2017   \n",
              "3       90   Kimberly    Kent  Female  Pennsylvania   60   3/25/2017   \n",
              "4       90   Kimberly    Kent  Female  Pennsylvania   60   3/25/2017   \n",
              "\n",
              "   n_dependants marital_status  income  ...     busiest_day  \\\n",
              "0             1        married   50952  ...     Busiest day   \n",
              "1             1        married   50952  ...  Regularly busy   \n",
              "2             1        married   50952  ...  Regularly busy   \n",
              "3             1        married   50952  ...  Regularly busy   \n",
              "4             1        married   50952  ...  Regularly busy   \n",
              "\n",
              "   Busiest_Days(plural)  busiest_period_of_day  max_order      loyalty_flag  \\\n",
              "0          Busiest days            Most orders         42    Loyal customer   \n",
              "1          Regular busy            Most orders         12  Regular customer   \n",
              "2          Regular busy            Most orders         84    Loyal customer   \n",
              "3          Slowest days            Most orders         44    Loyal customer   \n",
              "4          Busiest days            Most orders          5      New customer   \n",
              "\n",
              "  mean_price  spending_flag  customer_frequency     frequency_flag _merge  \n",
              "0   8.075028    Low Spender                 8.0  Frequent customer   both  \n",
              "1   7.716068    Low Spender                11.0   Regular customer   both  \n",
              "2   7.991170    Low Spender                 4.0  Frequent customer   both  \n",
              "3   8.079674    Low Spender                 7.0  Frequent customer   both  \n",
              "4   6.124142    Low Spender                20.0   Regular customer   both  \n",
              "\n",
              "[5 rows x 34 columns]"
            ]
          },
          "execution_count": 62,
          "metadata": {},
          "output_type": "execute_result"
        }
      ],
      "source": [
        "df_orders_product_customer_merge.head()"
      ]
    },
    {
      "cell_type": "code",
      "execution_count": 63,
      "metadata": {
        "colab": {
          "base_uri": "https://localhost:8080/"
        },
        "id": "L3GJeO396fc1",
        "outputId": "3a39894e-8b5e-4389-e85f-c76c96559c14"
      },
      "outputs": [
        {
          "data": {
            "text/plain": [
              "Index(['user_id', 'first_name', 'surname', 'gender', 'state', 'age',\n",
              "       'date_joined', 'n_dependants', 'marital_status', 'income', 'order_id',\n",
              "       'order_number', 'orders_day_of_week', 'order_hour_of_day',\n",
              "       'days_since_prior_order', 'first_order', 'product_id',\n",
              "       'add_to_cart_order', 'reordered', 'product_name', 'aisle_id',\n",
              "       'department_id', 'prices', 'price_range_loc', 'busiest_day',\n",
              "       'Busiest_Days(plural)', 'busiest_period_of_day', 'max_order',\n",
              "       'loyalty_flag', 'mean_price', 'spending_flag', 'customer_frequency',\n",
              "       'frequency_flag', '_merge'],\n",
              "      dtype='object')"
            ]
          },
          "execution_count": 63,
          "metadata": {},
          "output_type": "execute_result"
        }
      ],
      "source": [
        "df_orders_product_customer_merge.columns"
      ]
    },
    {
      "cell_type": "code",
      "execution_count": 64,
      "metadata": {
        "colab": {
          "base_uri": "https://localhost:8080/"
        },
        "id": "gqHZDbLD6-hZ",
        "outputId": "15480cd8-ff8f-4d7f-8ab6-a825bf305d57"
      },
      "outputs": [
        {
          "data": {
            "text/plain": [
              "_merge\n",
              "both          2771091\n",
              "left_only           0\n",
              "right_only          0\n",
              "Name: count, dtype: int64"
            ]
          },
          "execution_count": 64,
          "metadata": {},
          "output_type": "execute_result"
        }
      ],
      "source": [
        "# Check inner join value counts\n",
        "df_orders_product_customer_merge['_merge'].value_counts()"
      ]
    },
    {
      "cell_type": "markdown",
      "metadata": {
        "id": "xwNBYRN379xH"
      },
      "source": [
        "# 10. Export Dataframe as a Pickle\n"
      ]
    },
    {
      "cell_type": "code",
      "execution_count": 65,
      "metadata": {
        "id": "kb-DJAGe8I-4"
      },
      "outputs": [],
      "source": [
        "df_orders_product_customer_merge.to_pickle(os.path.join(path, '02 Data', 'Prepared Data','orders_product_customer_merge_sample.pkl'))"
      ]
    }
  ],
  "metadata": {
    "colab": {
      "provenance": [],
      "toc_visible": true
    },
    "kernelspec": {
      "display_name": "Python 3",
      "name": "python3"
    },
    "language_info": {
      "name": "python"
    }
  },
  "nbformat": 4,
  "nbformat_minor": 0
}
